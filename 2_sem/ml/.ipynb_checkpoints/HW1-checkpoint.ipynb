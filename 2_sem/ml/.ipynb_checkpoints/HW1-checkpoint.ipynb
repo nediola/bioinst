{
 "cells": [
  {
   "cell_type": "code",
   "execution_count": 128,
   "metadata": {},
   "outputs": [],
   "source": [
    "import numpy as np\n",
    "import pandas as pd\n",
    "from collections import defaultdict\n",
    "import matplotlib.pyplot as plt\n",
    "import seaborn as sns; sns.set()\n",
    "from sklearn.decomposition import PCA\n",
    "from sklearn.metrics import accuracy_score\n",
    "from sklearn.preprocessing import MinMaxScaler\n",
    "from sklearn.model_selection import train_test_split"
   ]
  },
  {
   "cell_type": "code",
   "execution_count": 185,
   "metadata": {},
   "outputs": [],
   "source": [
    "def kNN(data, labels, target, k, set_distances=None):    \n",
    "    if set_distances is not None:\n",
    "        distances = set_distances\n",
    "    else:\n",
    "        distances = np.linalg.norm(data - target, ord=2, axis=1)\n",
    "    argsort_indices = distances.argsort()\n",
    "    nn_indices = argsort_indices[:k]\n",
    "    target_label = np.bincount(labels[nn_indices]).argmax()\n",
    "    return distances, target_label\n",
    "    \n",
    "def LOO_gen(X, y):\n",
    "    for i in range(X.shape[0]):\n",
    "        X_train = np.delete(X, i, axis=0)\n",
    "        X_test = X[i, :]\n",
    "        y_train = np.delete(y, i)\n",
    "        y_test = y[i]\n",
    "        yield X_train, X_test, y_train, y_test\n",
    "\n",
    "def calc_kNN_LOO(X, y, k, set_distances=None, track_lines=None):\n",
    "    mismatches = 0\n",
    "    for line_num, (X_train, X_test, y_train, y_test) in enumerate(LOO_gen(X, y)):\n",
    "        if track_lines and line_num and line_num % 1000 == 0:\n",
    "            print(f'Lines processed: {line_num}')\n",
    "        _, target_label = kNN(X_train, y_train, X_test, k, set_distances=set_distances)\n",
    "        if target_label != y_test:\n",
    "            mismatches += 1\n",
    "    return mismatches / X.shape[0]\n",
    "                                    \n",
    "def calc_kNN_LOO_iterate_k(X, y, k_min, k_max, track_lines=None):\n",
    "    k2mismatches = defaultdict(int)\n",
    "    for line_num, (X_train, X_test, y_train, y_test) in enumerate(LOO_gen(X, y)):\n",
    "        if track_lines and line_num and line_num % 1000 == 0:\n",
    "            print(f'Lines processed: {line_num}')\n",
    "        distances = np.linalg.norm(X_train - X_test, ord=2, axis=1)\n",
    "        for k in range(k_min, k_max+1):\n",
    "            _, target_label = kNN(X_train, y_train, X_test, k, set_distances=distances)\n",
    "            if target_label != y_test:\n",
    "                k2mismatches[k] += 1\n",
    "    n = X.shape[0]\n",
    "    return sorted([(k, mismatches/n) for (k, mismatches) in k2mismatches.items()])\n",
    "\n",
    "def RadiusNeighbours(data, labels, target, radius, set_distances=None):\n",
    "    if set_distances is not None:\n",
    "        distances = set_distances\n",
    "    else:\n",
    "        distances = np.linalg.norm(data - target, ord=2, axis=1)\n",
    "    in_radius_indices = np.argwhere(distances < radius).flatten()\n",
    "    if in_radius_indices.shape[0] > 0:\n",
    "        target_label = np.bincount(labels[in_radius_indices]).argmax()\n",
    "    else:\n",
    "        target_label = None\n",
    "    return distances, target_label\n",
    "\n",
    "def calc_RN_LOO(X, y, radius, set_distances=None, track_lines=None):\n",
    "    mismatches = 0\n",
    "    for line_num, (X_train, X_test, y_train, y_test) in enumerate(LOO_gen(X, y)):\n",
    "        if track_lines and line_num and line_num % 1000 == 0:\n",
    "            print(f'Lines processed: {line_num}')\n",
    "        _, target_label = RadiusNeighbours(X_train, y_train, X_test, radius, set_distances=set_distances)\n",
    "        if target_label != y_test:\n",
    "            mismatches += 1\n",
    "    return mismatches / X.shape[0]\n",
    "     \n",
    "def calc_RN_LOO_iterate_r(X, y, r_min, r_max, steps, track_lines=None):\n",
    "    r2mismatches = defaultdict(int)\n",
    "    for line_num, (X_train, X_test, y_train, y_test) in enumerate(LOO_gen(X, y)):\n",
    "        if track_lines and line_num and line_num % 1000 == 0:\n",
    "            print(f'Lines processed: {line_num}')\n",
    "        distances = np.linalg.norm(X_train - X_test, ord=2, axis=1)\n",
    "        for radius in np.linspace(r_min, r_max, steps):\n",
    "            _, target_label = RadiusNeighbours(X_train, y_train, X_test, radius, set_distances=distances)\n",
    "            if not target_label or target_label != y_test:\n",
    "                r2mismatches[radius] += 1\n",
    "    n = X.shape[0]\n",
    "    return sorted([(r, mismatches/n) for (r, mismatches) in r2mismatches.items()])"
   ]
  },
  {
   "cell_type": "code",
   "execution_count": 61,
   "metadata": {},
   "outputs": [],
   "source": [
    "def get_minmax_distances(X):\n",
    "    min_distance = None\n",
    "    max_distance = None\n",
    "    for i in range(X.shape[0]):\n",
    "        X_ = np.delete(X, i, axis=0)\n",
    "        target = X[i, :]\n",
    "        distances = np.linalg.norm(X_ - target, ord=2, axis=1) \n",
    "        local_min = distances.min()\n",
    "        local_max = distances.max()\n",
    "        min_distance = local_min if not min_distance else min(local_min, min_distance)\n",
    "        max_distance = local_max if not max_distance else max(local_max, max_distance)\n",
    "    return min_distance, max_distance"
   ]
  },
  {
   "cell_type": "markdown",
   "metadata": {},
   "source": [
    "## Spam"
   ]
  },
  {
   "cell_type": "markdown",
   "metadata": {},
   "source": [
    "#### 0. Preparing stage"
   ]
  },
  {
   "cell_type": "code",
   "execution_count": 5,
   "metadata": {
    "scrolled": true
   },
   "outputs": [
    {
     "data": {
      "text/html": [
       "<div>\n",
       "<style scoped>\n",
       "    .dataframe tbody tr th:only-of-type {\n",
       "        vertical-align: middle;\n",
       "    }\n",
       "\n",
       "    .dataframe tbody tr th {\n",
       "        vertical-align: top;\n",
       "    }\n",
       "\n",
       "    .dataframe thead th {\n",
       "        text-align: right;\n",
       "    }\n",
       "</style>\n",
       "<table border=\"1\" class=\"dataframe\">\n",
       "  <thead>\n",
       "    <tr style=\"text-align: right;\">\n",
       "      <th></th>\n",
       "      <th>word_freq_make</th>\n",
       "      <th>word_freq_address</th>\n",
       "      <th>word_freq_all</th>\n",
       "      <th>word_freq_3d</th>\n",
       "      <th>word_freq_our</th>\n",
       "      <th>word_freq_over</th>\n",
       "      <th>word_freq_remove</th>\n",
       "      <th>word_freq_internet</th>\n",
       "      <th>word_freq_order</th>\n",
       "      <th>word_freq_mail</th>\n",
       "      <th>...</th>\n",
       "      <th>char_freq_:</th>\n",
       "      <th>char_freq_(</th>\n",
       "      <th>char_freq_[</th>\n",
       "      <th>char_freq_!</th>\n",
       "      <th>char_freq_$</th>\n",
       "      <th>char_freq_#</th>\n",
       "      <th>capital_run_length_average</th>\n",
       "      <th>capital_run_length_longest</th>\n",
       "      <th>capital_run_length_total</th>\n",
       "      <th>label</th>\n",
       "    </tr>\n",
       "  </thead>\n",
       "  <tbody>\n",
       "    <tr>\n",
       "      <th>3310</th>\n",
       "      <td>0.71</td>\n",
       "      <td>0.14</td>\n",
       "      <td>0.42</td>\n",
       "      <td>0.0</td>\n",
       "      <td>1.00</td>\n",
       "      <td>0.14</td>\n",
       "      <td>0.14</td>\n",
       "      <td>0.00</td>\n",
       "      <td>0.0</td>\n",
       "      <td>3.00</td>\n",
       "      <td>...</td>\n",
       "      <td>0.000</td>\n",
       "      <td>0.022</td>\n",
       "      <td>0.00</td>\n",
       "      <td>0.000</td>\n",
       "      <td>0.000</td>\n",
       "      <td>0.022</td>\n",
       "      <td>1.931</td>\n",
       "      <td>9</td>\n",
       "      <td>168</td>\n",
       "      <td>0</td>\n",
       "    </tr>\n",
       "    <tr>\n",
       "      <th>2650</th>\n",
       "      <td>0.06</td>\n",
       "      <td>0.00</td>\n",
       "      <td>0.19</td>\n",
       "      <td>0.0</td>\n",
       "      <td>0.26</td>\n",
       "      <td>0.06</td>\n",
       "      <td>0.00</td>\n",
       "      <td>0.19</td>\n",
       "      <td>0.0</td>\n",
       "      <td>0.06</td>\n",
       "      <td>...</td>\n",
       "      <td>0.072</td>\n",
       "      <td>0.117</td>\n",
       "      <td>0.00</td>\n",
       "      <td>0.000</td>\n",
       "      <td>0.063</td>\n",
       "      <td>0.000</td>\n",
       "      <td>2.121</td>\n",
       "      <td>25</td>\n",
       "      <td>751</td>\n",
       "      <td>0</td>\n",
       "    </tr>\n",
       "    <tr>\n",
       "      <th>2211</th>\n",
       "      <td>0.00</td>\n",
       "      <td>0.00</td>\n",
       "      <td>0.40</td>\n",
       "      <td>0.0</td>\n",
       "      <td>0.00</td>\n",
       "      <td>0.00</td>\n",
       "      <td>0.00</td>\n",
       "      <td>0.00</td>\n",
       "      <td>0.0</td>\n",
       "      <td>0.00</td>\n",
       "      <td>...</td>\n",
       "      <td>2.053</td>\n",
       "      <td>1.932</td>\n",
       "      <td>0.06</td>\n",
       "      <td>0.000</td>\n",
       "      <td>0.000</td>\n",
       "      <td>0.000</td>\n",
       "      <td>6.113</td>\n",
       "      <td>20</td>\n",
       "      <td>593</td>\n",
       "      <td>0</td>\n",
       "    </tr>\n",
       "    <tr>\n",
       "      <th>1608</th>\n",
       "      <td>0.32</td>\n",
       "      <td>0.00</td>\n",
       "      <td>0.64</td>\n",
       "      <td>0.0</td>\n",
       "      <td>0.00</td>\n",
       "      <td>0.00</td>\n",
       "      <td>0.00</td>\n",
       "      <td>0.00</td>\n",
       "      <td>0.0</td>\n",
       "      <td>0.00</td>\n",
       "      <td>...</td>\n",
       "      <td>0.233</td>\n",
       "      <td>0.058</td>\n",
       "      <td>0.00</td>\n",
       "      <td>0.116</td>\n",
       "      <td>0.116</td>\n",
       "      <td>0.000</td>\n",
       "      <td>2.926</td>\n",
       "      <td>20</td>\n",
       "      <td>240</td>\n",
       "      <td>1</td>\n",
       "    </tr>\n",
       "    <tr>\n",
       "      <th>2609</th>\n",
       "      <td>0.00</td>\n",
       "      <td>0.00</td>\n",
       "      <td>0.00</td>\n",
       "      <td>0.0</td>\n",
       "      <td>0.00</td>\n",
       "      <td>0.00</td>\n",
       "      <td>0.00</td>\n",
       "      <td>0.00</td>\n",
       "      <td>0.0</td>\n",
       "      <td>0.00</td>\n",
       "      <td>...</td>\n",
       "      <td>0.080</td>\n",
       "      <td>0.564</td>\n",
       "      <td>0.00</td>\n",
       "      <td>0.000</td>\n",
       "      <td>0.161</td>\n",
       "      <td>0.000</td>\n",
       "      <td>1.712</td>\n",
       "      <td>20</td>\n",
       "      <td>137</td>\n",
       "      <td>0</td>\n",
       "    </tr>\n",
       "  </tbody>\n",
       "</table>\n",
       "<p>5 rows × 58 columns</p>\n",
       "</div>"
      ],
      "text/plain": [
       "      word_freq_make  word_freq_address  word_freq_all  word_freq_3d  \\\n",
       "3310            0.71               0.14           0.42           0.0   \n",
       "2650            0.06               0.00           0.19           0.0   \n",
       "2211            0.00               0.00           0.40           0.0   \n",
       "1608            0.32               0.00           0.64           0.0   \n",
       "2609            0.00               0.00           0.00           0.0   \n",
       "\n",
       "      word_freq_our  word_freq_over  word_freq_remove  word_freq_internet  \\\n",
       "3310           1.00            0.14              0.14                0.00   \n",
       "2650           0.26            0.06              0.00                0.19   \n",
       "2211           0.00            0.00              0.00                0.00   \n",
       "1608           0.00            0.00              0.00                0.00   \n",
       "2609           0.00            0.00              0.00                0.00   \n",
       "\n",
       "      word_freq_order  word_freq_mail  ...    char_freq_:  char_freq_(  \\\n",
       "3310              0.0            3.00  ...          0.000        0.022   \n",
       "2650              0.0            0.06  ...          0.072        0.117   \n",
       "2211              0.0            0.00  ...          2.053        1.932   \n",
       "1608              0.0            0.00  ...          0.233        0.058   \n",
       "2609              0.0            0.00  ...          0.080        0.564   \n",
       "\n",
       "      char_freq_[  char_freq_!  char_freq_$  char_freq_#  \\\n",
       "3310         0.00        0.000        0.000        0.022   \n",
       "2650         0.00        0.000        0.063        0.000   \n",
       "2211         0.06        0.000        0.000        0.000   \n",
       "1608         0.00        0.116        0.116        0.000   \n",
       "2609         0.00        0.000        0.161        0.000   \n",
       "\n",
       "      capital_run_length_average  capital_run_length_longest  \\\n",
       "3310                       1.931                           9   \n",
       "2650                       2.121                          25   \n",
       "2211                       6.113                          20   \n",
       "1608                       2.926                          20   \n",
       "2609                       1.712                          20   \n",
       "\n",
       "      capital_run_length_total  label  \n",
       "3310                       168      0  \n",
       "2650                       751      0  \n",
       "2211                       593      0  \n",
       "1608                       240      1  \n",
       "2609                       137      0  \n",
       "\n",
       "[5 rows x 58 columns]"
      ]
     },
     "execution_count": 5,
     "metadata": {},
     "output_type": "execute_result"
    }
   ],
   "source": [
    "spam_df = pd.read_csv('./spam.csv')\n",
    "spam_df.sample(5)"
   ]
  },
  {
   "cell_type": "markdown",
   "metadata": {},
   "source": [
    "Draw data (unnormalized)"
   ]
  },
  {
   "cell_type": "code",
   "execution_count": 11,
   "metadata": {},
   "outputs": [
    {
     "data": {
      "image/png": "[encoded data removed]",
      "text/plain": [
       "<Figure size 432x288 with 2 Axes>"
      ]
     },
     "metadata": {
      "needs_background": "light"
     },
     "output_type": "display_data"
    }
   ],
   "source": [
    "X = spam_df[spam_df.columns.difference(['label'])].values\n",
    "y = spam_df.label.values\n",
    "pca = PCA(n_components=2, random_state=42)\n",
    "pca_components = pca.fit_transform(X)\n",
    "plt.scatter(pca_components[:, 0], pca_components[:, 1], c=y,\n",
    "            edgecolor='none', alpha=0.5,\n",
    "            cmap=plt.cm.get_cmap('cool', 2))\n",
    "plt.xlabel('component 1')\n",
    "plt.ylabel('component 2')\n",
    "plt.colorbar();"
   ]
  },
  {
   "cell_type": "markdown",
   "metadata": {},
   "source": [
    "#### 1. kNN"
   ]
  },
  {
   "cell_type": "markdown",
   "metadata": {},
   "source": [
    "Select points to test kNN"
   ]
  },
  {
   "cell_type": "code",
   "execution_count": 186,
   "metadata": {},
   "outputs": [
    {
     "name": "stdout",
     "output_type": "stream",
     "text": [
      "Train set (X, y): (4140, 57) (4140,)\n",
      "Test set (X, y): (461, 57) (461,)\n"
     ]
    }
   ],
   "source": [
    "X = spam_df[spam_df.columns.difference(['label'])].values\n",
    "y = spam_df.label.values\n",
    "X_train, X_test, y_train, y_test = train_test_split(X, y, test_size=0.1, random_state=42)\n",
    "print(\"Train set (X, y):\", X_train.shape, y_train.shape)\n",
    "print(\"Test set (X, y):\", X_test.shape, y_test.shape)"
   ]
  },
  {
   "cell_type": "code",
   "execution_count": 187,
   "metadata": {},
   "outputs": [
    {
     "name": "stdout",
     "output_type": "stream",
     "text": [
      "k=1, accuracy=0.8091106290672451\n",
      "k=2, accuracy=0.7765726681127982\n",
      "k=3, accuracy=0.7917570498915402\n",
      "k=4, accuracy=0.7722342733188721\n",
      "k=5, accuracy=0.7830802603036876\n",
      "k=6, accuracy=0.7678958785249458\n",
      "k=7, accuracy=0.7830802603036876\n",
      "k=8, accuracy=0.7722342733188721\n",
      "k=9, accuracy=0.7787418655097614\n",
      "k=10, accuracy=0.7722342733188721\n",
      "k=11, accuracy=0.7722342733188721\n",
      "k=12, accuracy=0.7592190889370932\n",
      "k=13, accuracy=0.7700650759219089\n",
      "k=14, accuracy=0.7592190889370932\n"
     ]
    }
   ],
   "source": [
    "for k in range(1, 15):\n",
    "    predicted_labels = []\n",
    "    for i in range(y_test.shape[0]):\n",
    "        _, label = kNN(X_train, y_train, X_test[i, :], k)\n",
    "        predicted_labels.append(label)\n",
    "    score = accuracy_score(y_test, predicted_labels)\n",
    "    print(f'k={k}, accuracy={score}')"
   ]
  },
  {
   "cell_type": "markdown",
   "metadata": {},
   "source": [
    "#### 2. LOO"
   ]
  },
  {
   "cell_type": "code",
   "execution_count": 188,
   "metadata": {},
   "outputs": [
    {
     "name": "stdout",
     "output_type": "stream",
     "text": [
      "Lines processed: 1000\n",
      "Lines processed: 2000\n",
      "Lines processed: 3000\n",
      "Lines processed: 4000\n",
      "k=1, loo=0.16931101934362094\n",
      "k=2, loo=0.19082808085198869\n",
      "k=3, loo=0.18561182351662683\n",
      "k=4, loo=0.19300152140838947\n",
      "k=5, loo=0.1858291675722669\n",
      "k=6, loo=0.20039121930015213\n",
      "k=7, loo=0.1958269941317105\n",
      "k=8, loo=0.2010432514670724\n",
      "k=9, loo=0.20256465985655292\n",
      "k=10, loo=0.20212997174527278\n"
     ]
    }
   ],
   "source": [
    "loo_results = calc_kNN_LOO_iterate_k(X, y, k_min=1, k_max=10, track_lines=1000)\n",
    "for k, loo in loo_results:\n",
    "    print(f\"k={k}, loo={loo}\")"
   ]
  },
  {
   "cell_type": "markdown",
   "metadata": {},
   "source": [
    "#### 3. & 4. RadiusNeighbours + best LOO radius "
   ]
  },
  {
   "cell_type": "code",
   "execution_count": 112,
   "metadata": {},
   "outputs": [
    {
     "name": "stdout",
     "output_type": "stream",
     "text": [
      "Min radius: 0.9747804881100155, max_radius: 15840.01590359675\n"
     ]
    }
   ],
   "source": [
    "X = spam_df[spam_df.columns.difference(['label'])].values\n",
    "y = spam_df.label.values\n",
    "min_radius, max_radius = get_minmax_distances(X)\n",
    "print(f\"Min radius: {min_radius}, max_radius: {max_radius}\")"
   ]
  },
  {
   "cell_type": "markdown",
   "metadata": {},
   "source": [
    "1) From 0.974 to 15840.015"
   ]
  },
  {
   "cell_type": "code",
   "execution_count": 120,
   "metadata": {},
   "outputs": [
    {
     "name": "stdout",
     "output_type": "stream",
     "text": [
      "Lines processed: 1000\n",
      "Lines processed: 2000\n",
      "Lines processed: 3000\n",
      "Lines processed: 4000\n"
     ]
    },
    {
     "data": {
      "text/plain": [
       "<matplotlib.collections.PathCollection at 0x1a1b770a90>"
      ]
     },
     "execution_count": 120,
     "metadata": {},
     "output_type": "execute_result"
    },
    {
     "data": {
      "image/png": "[encoded data removed]",
      "text/plain": [
       "<Figure size 432x288 with 1 Axes>"
      ]
     },
     "metadata": {
      "needs_background": "light"
     },
     "output_type": "display_data"
    }
   ],
   "source": [
    "loo_results = calc_RN_LOO_iterate_r(X, y, r_min=min_radius, r_max=max_radius, steps=100, track_lines=1000)\n",
    "x_radius = [r for (r, loo) in loo_results]\n",
    "y_loo = [loo for (r, loo) in loo_results]\n",
    "plt.scatter(x=x_radius, y=y_loo)"
   ]
  },
  {
   "cell_type": "markdown",
   "metadata": {},
   "source": [
    "2) From 0.974 to 500"
   ]
  },
  {
   "cell_type": "code",
   "execution_count": 121,
   "metadata": {},
   "outputs": [
    {
     "name": "stdout",
     "output_type": "stream",
     "text": [
      "Lines processed: 1000\n",
      "Lines processed: 2000\n",
      "Lines processed: 3000\n",
      "Lines processed: 4000\n"
     ]
    },
    {
     "data": {
      "text/plain": [
       "<matplotlib.collections.PathCollection at 0x1a1b800ba8>"
      ]
     },
     "execution_count": 121,
     "metadata": {},
     "output_type": "execute_result"
    },
    {
     "data": {
      "image/png": "[encoded data removed]",
      "text/plain": [
       "<Figure size 432x288 with 1 Axes>"
      ]
     },
     "metadata": {
      "needs_background": "light"
     },
     "output_type": "display_data"
    }
   ],
   "source": [
    "loo_results = calc_RN_LOO_iterate_r(X, y, r_min=min_radius, r_max=500, steps=100, track_lines=1000)\n",
    "x_radius = [r for (r, loo) in loo_results]\n",
    "y_loo = [loo for (r, loo) in loo_results]\n",
    "plt.scatter(x=x_radius, y=y_loo)"
   ]
  },
  {
   "cell_type": "markdown",
   "metadata": {},
   "source": [
    "3) From 80 to 120"
   ]
  },
  {
   "cell_type": "code",
   "execution_count": 123,
   "metadata": {},
   "outputs": [
    {
     "name": "stdout",
     "output_type": "stream",
     "text": [
      "Lines processed: 1000\n",
      "Lines processed: 2000\n",
      "Lines processed: 3000\n",
      "Lines processed: 4000\n"
     ]
    },
    {
     "data": {
      "text/plain": [
       "<matplotlib.collections.PathCollection at 0x1a1b18ecf8>"
      ]
     },
     "execution_count": 123,
     "metadata": {},
     "output_type": "execute_result"
    },
    {
     "data": {
      "image/png": "[encoded data removed]",
      "text/plain": [
       "<Figure size 432x288 with 1 Axes>"
      ]
     },
     "metadata": {
      "needs_background": "light"
     },
     "output_type": "display_data"
    }
   ],
   "source": [
    "loo_results = calc_RN_LOO_iterate_r(X, y, r_min=80, r_max=120, steps=1000, track_lines=1000)\n",
    "x_radius = [r for (r, loo) in loo_results]\n",
    "y_loo = [loo for (r, loo) in loo_results]\n",
    "plt.scatter(x=x_radius, y=y_loo)"
   ]
  },
  {
   "cell_type": "code",
   "execution_count": 124,
   "metadata": {
    "scrolled": true
   },
   "outputs": [
    {
     "name": "stdout",
     "output_type": "stream",
     "text": [
      "Best radius: 100.70070070070071, loo: 0.7980873723103673\n"
     ]
    }
   ],
   "source": [
    "best_params = sorted(loo_results, key=lambda x: x[1])[0]\n",
    "print(f\"Best radius: {best_params[0]}, loo: {best_params[1]}\")"
   ]
  },
  {
   "cell_type": "markdown",
   "metadata": {},
   "source": [
    "#### 5. Scaled dataset: KNN + RadiusnNeighbours"
   ]
  },
  {
   "cell_type": "code",
   "execution_count": 140,
   "metadata": {},
   "outputs": [],
   "source": [
    "X = spam_df[spam_df.columns.difference(['label'])].values\n",
    "y = spam_df.label.values\n",
    "scaler = MinMaxScaler()\n",
    "X_scaled = scaler.fit_transform(X)"
   ]
  },
  {
   "cell_type": "code",
   "execution_count": 141,
   "metadata": {},
   "outputs": [
    {
     "name": "stdout",
     "output_type": "stream",
     "text": [
      "Lines processed: 1000\n",
      "Lines processed: 2000\n",
      "Lines processed: 3000\n",
      "Lines processed: 4000\n",
      "k=1, loo=0.08758965442295154\n",
      "k=2, loo=0.10106498587263639\n",
      "k=3, loo=0.09476200825907412\n",
      "k=4, loo=0.10149967398391654\n",
      "k=5, loo=0.09519669637035427\n",
      "k=6, loo=0.102803738317757\n",
      "k=7, loo=0.09932623342751576\n",
      "k=8, loo=0.10215170615083677\n",
      "k=9, loo=0.1019343620951967\n",
      "k=10, loo=0.10519452292979788\n"
     ]
    }
   ],
   "source": [
    "loo_results = calc_kNN_LOO_iterate_k(X_scaled, y, k_min=1, k_max=10, track_lines=1000)\n",
    "for k, loo in loo_results:\n",
    "    print(f\"k={k}, loo={loo}\")"
   ]
  },
  {
   "cell_type": "code",
   "execution_count": 142,
   "metadata": {
    "scrolled": true
   },
   "outputs": [
    {
     "name": "stdout",
     "output_type": "stream",
     "text": [
      "Min radius: 0.0004711597239059766, max_radius: 2.7947019207026766\n"
     ]
    }
   ],
   "source": [
    "min_radius, max_radius = get_minmax_distances(X_scaled)\n",
    "print(f\"Min radius: {min_radius}, max_radius: {max_radius}\")"
   ]
  },
  {
   "cell_type": "code",
   "execution_count": 143,
   "metadata": {},
   "outputs": [
    {
     "name": "stdout",
     "output_type": "stream",
     "text": [
      "Lines processed: 1000\n",
      "Lines processed: 2000\n",
      "Lines processed: 3000\n",
      "Lines processed: 4000\n"
     ]
    },
    {
     "data": {
      "text/plain": [
       "<matplotlib.collections.PathCollection at 0x1a1b753b70>"
      ]
     },
     "execution_count": 143,
     "metadata": {},
     "output_type": "execute_result"
    },
    {
     "data": {
      "image/png": "[encoded data removed]",
      "text/plain": [
       "<Figure size 432x288 with 1 Axes>"
      ]
     },
     "metadata": {},
     "output_type": "display_data"
    }
   ],
   "source": [
    "loo_results = calc_RN_LOO_iterate_r(X_scaled, y, r_min=min_radius, r_max=max_radius, steps=1000, track_lines=1000)\n",
    "x_radius = [r for (r, loo) in loo_results]\n",
    "y_loo = [loo for (r, loo) in loo_results]\n",
    "plt.scatter(x=x_radius, y=y_loo)"
   ]
  },
  {
   "cell_type": "code",
   "execution_count": 144,
   "metadata": {},
   "outputs": [
    {
     "name": "stdout",
     "output_type": "stream",
     "text": [
      "Best radius: 0.21024824388147137, loo: 0.7478808954575092\n"
     ]
    }
   ],
   "source": [
    "best_params = sorted(loo_results, key=lambda x: x[1])[0]\n",
    "print(f\"Best radius: {best_params[0]}, loo: {best_params[1]}\")"
   ]
  },
  {
   "cell_type": "markdown",
   "metadata": {},
   "source": [
    "#### Results"
   ]
  },
  {
   "cell_type": "markdown",
   "metadata": {},
   "source": [
    "1) kNN. И на нормированных (loo=0.088), и на ненормированных данных (loo=0.169) самый хороший результат достигается при k=1.\n",
    "\n",
    "2) RadiusNeighbours.  На нормированных данных лучший loo (loo=0.748) достигается при r=0.210, на ненормированных (loo=0.798) при r=100.7"
   ]
  },
  {
   "cell_type": "markdown",
   "metadata": {},
   "source": [
    "## Cancer"
   ]
  },
  {
   "cell_type": "code",
   "execution_count": 162,
   "metadata": {
    "scrolled": true
   },
   "outputs": [
    {
     "data": {
      "text/html": [
       "<div>\n",
       "<style scoped>\n",
       "    .dataframe tbody tr th:only-of-type {\n",
       "        vertical-align: middle;\n",
       "    }\n",
       "\n",
       "    .dataframe tbody tr th {\n",
       "        vertical-align: top;\n",
       "    }\n",
       "\n",
       "    .dataframe thead th {\n",
       "        text-align: right;\n",
       "    }\n",
       "</style>\n",
       "<table border=\"1\" class=\"dataframe\">\n",
       "  <thead>\n",
       "    <tr style=\"text-align: right;\">\n",
       "      <th></th>\n",
       "      <th>label</th>\n",
       "      <th>1</th>\n",
       "      <th>2</th>\n",
       "      <th>3</th>\n",
       "      <th>4</th>\n",
       "      <th>5</th>\n",
       "      <th>6</th>\n",
       "      <th>7</th>\n",
       "      <th>8</th>\n",
       "      <th>9</th>\n",
       "      <th>...</th>\n",
       "      <th>21</th>\n",
       "      <th>22</th>\n",
       "      <th>23</th>\n",
       "      <th>24</th>\n",
       "      <th>25</th>\n",
       "      <th>26</th>\n",
       "      <th>27</th>\n",
       "      <th>28</th>\n",
       "      <th>29</th>\n",
       "      <th>30</th>\n",
       "    </tr>\n",
       "  </thead>\n",
       "  <tbody>\n",
       "    <tr>\n",
       "      <th>56</th>\n",
       "      <td>1</td>\n",
       "      <td>19.210</td>\n",
       "      <td>18.57</td>\n",
       "      <td>125.50</td>\n",
       "      <td>1152.0</td>\n",
       "      <td>0.10530</td>\n",
       "      <td>0.12670</td>\n",
       "      <td>0.13230</td>\n",
       "      <td>0.089940</td>\n",
       "      <td>0.1917</td>\n",
       "      <td>...</td>\n",
       "      <td>26.140</td>\n",
       "      <td>28.14</td>\n",
       "      <td>170.10</td>\n",
       "      <td>2145.0</td>\n",
       "      <td>0.1624</td>\n",
       "      <td>0.3511</td>\n",
       "      <td>0.38790</td>\n",
       "      <td>0.20910</td>\n",
       "      <td>0.3537</td>\n",
       "      <td>0.08294</td>\n",
       "    </tr>\n",
       "    <tr>\n",
       "      <th>59</th>\n",
       "      <td>0</td>\n",
       "      <td>8.618</td>\n",
       "      <td>11.79</td>\n",
       "      <td>54.34</td>\n",
       "      <td>224.5</td>\n",
       "      <td>0.09752</td>\n",
       "      <td>0.05272</td>\n",
       "      <td>0.02061</td>\n",
       "      <td>0.007799</td>\n",
       "      <td>0.1683</td>\n",
       "      <td>...</td>\n",
       "      <td>9.507</td>\n",
       "      <td>15.40</td>\n",
       "      <td>59.90</td>\n",
       "      <td>274.9</td>\n",
       "      <td>0.1733</td>\n",
       "      <td>0.1239</td>\n",
       "      <td>0.11680</td>\n",
       "      <td>0.04419</td>\n",
       "      <td>0.3220</td>\n",
       "      <td>0.09026</td>\n",
       "    </tr>\n",
       "    <tr>\n",
       "      <th>349</th>\n",
       "      <td>0</td>\n",
       "      <td>11.950</td>\n",
       "      <td>14.96</td>\n",
       "      <td>77.23</td>\n",
       "      <td>426.7</td>\n",
       "      <td>0.11580</td>\n",
       "      <td>0.12060</td>\n",
       "      <td>0.01171</td>\n",
       "      <td>0.017870</td>\n",
       "      <td>0.2459</td>\n",
       "      <td>...</td>\n",
       "      <td>12.810</td>\n",
       "      <td>17.72</td>\n",
       "      <td>83.09</td>\n",
       "      <td>496.2</td>\n",
       "      <td>0.1293</td>\n",
       "      <td>0.1885</td>\n",
       "      <td>0.03122</td>\n",
       "      <td>0.04766</td>\n",
       "      <td>0.3124</td>\n",
       "      <td>0.07590</td>\n",
       "    </tr>\n",
       "    <tr>\n",
       "      <th>90</th>\n",
       "      <td>0</td>\n",
       "      <td>14.620</td>\n",
       "      <td>24.02</td>\n",
       "      <td>94.57</td>\n",
       "      <td>662.7</td>\n",
       "      <td>0.08974</td>\n",
       "      <td>0.08606</td>\n",
       "      <td>0.03102</td>\n",
       "      <td>0.029570</td>\n",
       "      <td>0.1685</td>\n",
       "      <td>...</td>\n",
       "      <td>16.110</td>\n",
       "      <td>29.11</td>\n",
       "      <td>102.90</td>\n",
       "      <td>803.7</td>\n",
       "      <td>0.1115</td>\n",
       "      <td>0.1766</td>\n",
       "      <td>0.09189</td>\n",
       "      <td>0.06946</td>\n",
       "      <td>0.2522</td>\n",
       "      <td>0.07246</td>\n",
       "    </tr>\n",
       "    <tr>\n",
       "      <th>564</th>\n",
       "      <td>1</td>\n",
       "      <td>21.560</td>\n",
       "      <td>22.39</td>\n",
       "      <td>142.00</td>\n",
       "      <td>1479.0</td>\n",
       "      <td>0.11100</td>\n",
       "      <td>0.11590</td>\n",
       "      <td>0.24390</td>\n",
       "      <td>0.138900</td>\n",
       "      <td>0.1726</td>\n",
       "      <td>...</td>\n",
       "      <td>25.450</td>\n",
       "      <td>26.40</td>\n",
       "      <td>166.10</td>\n",
       "      <td>2027.0</td>\n",
       "      <td>0.1410</td>\n",
       "      <td>0.2113</td>\n",
       "      <td>0.41070</td>\n",
       "      <td>0.22160</td>\n",
       "      <td>0.2060</td>\n",
       "      <td>0.07115</td>\n",
       "    </tr>\n",
       "  </tbody>\n",
       "</table>\n",
       "<p>5 rows × 31 columns</p>\n",
       "</div>"
      ],
      "text/plain": [
       "     label       1      2       3       4        5        6        7  \\\n",
       "56       1  19.210  18.57  125.50  1152.0  0.10530  0.12670  0.13230   \n",
       "59       0   8.618  11.79   54.34   224.5  0.09752  0.05272  0.02061   \n",
       "349      0  11.950  14.96   77.23   426.7  0.11580  0.12060  0.01171   \n",
       "90       0  14.620  24.02   94.57   662.7  0.08974  0.08606  0.03102   \n",
       "564      1  21.560  22.39  142.00  1479.0  0.11100  0.11590  0.24390   \n",
       "\n",
       "            8       9   ...         21     22      23      24      25      26  \\\n",
       "56   0.089940  0.1917   ...     26.140  28.14  170.10  2145.0  0.1624  0.3511   \n",
       "59   0.007799  0.1683   ...      9.507  15.40   59.90   274.9  0.1733  0.1239   \n",
       "349  0.017870  0.2459   ...     12.810  17.72   83.09   496.2  0.1293  0.1885   \n",
       "90   0.029570  0.1685   ...     16.110  29.11  102.90   803.7  0.1115  0.1766   \n",
       "564  0.138900  0.1726   ...     25.450  26.40  166.10  2027.0  0.1410  0.2113   \n",
       "\n",
       "          27       28      29       30  \n",
       "56   0.38790  0.20910  0.3537  0.08294  \n",
       "59   0.11680  0.04419  0.3220  0.09026  \n",
       "349  0.03122  0.04766  0.3124  0.07590  \n",
       "90   0.09189  0.06946  0.2522  0.07246  \n",
       "564  0.41070  0.22160  0.2060  0.07115  \n",
       "\n",
       "[5 rows x 31 columns]"
      ]
     },
     "execution_count": 162,
     "metadata": {},
     "output_type": "execute_result"
    }
   ],
   "source": [
    "cancer_df = pd.read_csv('./cancer.csv')\n",
    "cancer_df['int_label'] = cancer_df.label.map({'M':1, 'B':0})\n",
    "cancer_df['label'] = cancer_df.int_label\n",
    "cancer_df.drop('int_label', axis=1, inplace=True)\n",
    "cancer_df.sample(5)"
   ]
  },
  {
   "cell_type": "markdown",
   "metadata": {},
   "source": [
    "Draw data (unnormalized)"
   ]
  },
  {
   "cell_type": "code",
   "execution_count": 163,
   "metadata": {},
   "outputs": [
    {
     "data": {
      "text/plain": [
       "Text(0, 0.5, 'component 2')"
      ]
     },
     "execution_count": 163,
     "metadata": {},
     "output_type": "execute_result"
    },
    {
     "data": {
      "image/png": "[encoded data removed]",
      "text/plain": [
       "<Figure size 432x288 with 1 Axes>"
      ]
     },
     "metadata": {},
     "output_type": "display_data"
    }
   ],
   "source": [
    "X = cancer_df[cancer_df.columns.difference(['label'])].values\n",
    "y = cancer_df.label.values\n",
    "pca = PCA(n_components=2, random_state=42)\n",
    "pca_components = pca.fit_transform(X)\n",
    "plt.scatter(pca_components[:, 0], pca_components[:, 1], c=y)\n",
    "plt.xlabel('component 1')\n",
    "plt.ylabel('component 2')"
   ]
  },
  {
   "cell_type": "markdown",
   "metadata": {},
   "source": [
    "#### 1. kNN"
   ]
  },
  {
   "cell_type": "markdown",
   "metadata": {},
   "source": [
    "Select points to test kNN"
   ]
  },
  {
   "cell_type": "code",
   "execution_count": 164,
   "metadata": {},
   "outputs": [
    {
     "name": "stdout",
     "output_type": "stream",
     "text": [
      "Train set (X, y): (512, 30) (512,)\n",
      "Test set (X, y): (57, 30) (57,)\n"
     ]
    }
   ],
   "source": [
    "X = cancer_df[cancer_df.columns.difference(['label'])].values\n",
    "y = cancer_df.label.values\n",
    "X_train, X_test, y_train, y_test = train_test_split(X, y, test_size=0.1, random_state=42)\n",
    "print(\"Train set (X, y):\", X_train.shape, y_train.shape)\n",
    "print(\"Test set (X, y):\", X_test.shape, y_test.shape)"
   ]
  },
  {
   "cell_type": "code",
   "execution_count": 165,
   "metadata": {},
   "outputs": [
    {
     "name": "stdout",
     "output_type": "stream",
     "text": [
      "k=1, accuracy=0.9824561403508771\n",
      "k=2, accuracy=0.9473684210526315\n",
      "k=3, accuracy=0.9649122807017544\n",
      "k=4, accuracy=0.9649122807017544\n",
      "k=5, accuracy=0.9649122807017544\n",
      "k=6, accuracy=0.9824561403508771\n",
      "k=7, accuracy=0.9824561403508771\n",
      "k=8, accuracy=0.9649122807017544\n",
      "k=9, accuracy=0.9649122807017544\n",
      "k=10, accuracy=0.9649122807017544\n",
      "k=11, accuracy=0.9824561403508771\n",
      "k=12, accuracy=1.0\n",
      "k=13, accuracy=1.0\n",
      "k=14, accuracy=1.0\n"
     ]
    }
   ],
   "source": [
    "for k in range(1, 15):\n",
    "    predicted_labels = []\n",
    "    for i in range(y_test.shape[0]):\n",
    "        _, label = kNN(X_train, y_train, X_test[i, :], k)\n",
    "        predicted_labels.append(label)\n",
    "    score = accuracy_score(y_test, predicted_labels)\n",
    "    print(f'k={k}, accuracy={score}')"
   ]
  },
  {
   "cell_type": "markdown",
   "metadata": {},
   "source": [
    "#### 2. LOO"
   ]
  },
  {
   "cell_type": "code",
   "execution_count": 168,
   "metadata": {},
   "outputs": [
    {
     "name": "stdout",
     "output_type": "stream",
     "text": [
      "k=1, loo=0.0843585237258348\n",
      "k=2, loo=0.0773286467486819\n",
      "k=3, loo=0.07381370826010544\n",
      "k=4, loo=0.07381370826010544\n",
      "k=5, loo=0.06678383128295255\n",
      "k=6, loo=0.070298769771529\n",
      "k=7, loo=0.06854130052724078\n",
      "k=8, loo=0.070298769771529\n",
      "k=9, loo=0.06678383128295255\n",
      "k=10, loo=0.070298769771529\n",
      "k=11, loo=0.06678383128295255\n",
      "k=12, loo=0.070298769771529\n",
      "k=13, loo=0.06678383128295255\n",
      "k=14, loo=0.06678383128295255\n",
      "k=15, loo=0.06678383128295255\n"
     ]
    }
   ],
   "source": [
    "loo_results = calc_kNN_LOO_iterate_k(X, y, k_min=1, k_max=15, track_lines=1000)\n",
    "for k, loo in loo_results:\n",
    "    print(f\"k={k}, loo={loo}\")"
   ]
  },
  {
   "cell_type": "markdown",
   "metadata": {},
   "source": [
    "#### 3. & 4. RadiusNeighbours + best LOO radius "
   ]
  },
  {
   "cell_type": "code",
   "execution_count": 171,
   "metadata": {},
   "outputs": [
    {
     "name": "stdout",
     "output_type": "stream",
     "text": [
      "Min radius: 3.8159672659759636, max_radius: 4739.088805746761\n"
     ]
    }
   ],
   "source": [
    "X = cancer_df[cancer_df.columns.difference(['label'])].values\n",
    "y = cancer_df.label.values\n",
    "min_radius, max_radius = get_minmax_distances(X)\n",
    "print(f\"Min radius: {min_radius}, max_radius: {max_radius}\")"
   ]
  },
  {
   "cell_type": "markdown",
   "metadata": {},
   "source": [
    "1) From 3.815 to 4739.088"
   ]
  },
  {
   "cell_type": "code",
   "execution_count": 172,
   "metadata": {},
   "outputs": [
    {
     "data": {
      "text/plain": [
       "<matplotlib.collections.PathCollection at 0x1a1da70860>"
      ]
     },
     "execution_count": 172,
     "metadata": {},
     "output_type": "execute_result"
    },
    {
     "data": {
      "image/png": "[encoded data removed]",
      "text/plain": [
       "<Figure size 432x288 with 1 Axes>"
      ]
     },
     "metadata": {},
     "output_type": "display_data"
    }
   ],
   "source": [
    "loo_results = calc_RN_LOO_iterate_r(X, y, r_min=min_radius, r_max=max_radius, steps=100, track_lines=1000)\n",
    "x_radius = [r for (r, loo) in loo_results]\n",
    "y_loo = [loo for (r, loo) in loo_results]\n",
    "plt.scatter(x=x_radius, y=y_loo)"
   ]
  },
  {
   "cell_type": "markdown",
   "metadata": {},
   "source": [
    "2) From 3.815 to 350"
   ]
  },
  {
   "cell_type": "code",
   "execution_count": 173,
   "metadata": {},
   "outputs": [
    {
     "data": {
      "text/plain": [
       "<matplotlib.collections.PathCollection at 0x1a1c2800f0>"
      ]
     },
     "execution_count": 173,
     "metadata": {},
     "output_type": "execute_result"
    },
    {
     "data": {
      "image/png": "[encoded data removed]",
      "text/plain": [
       "<Figure size 432x288 with 1 Axes>"
      ]
     },
     "metadata": {},
     "output_type": "display_data"
    }
   ],
   "source": [
    "loo_results = calc_RN_LOO_iterate_r(X, y, r_min=min_radius, r_max=350, steps=100, track_lines=1000)\n",
    "x_radius = [r for (r, loo) in loo_results]\n",
    "y_loo = [loo for (r, loo) in loo_results]\n",
    "plt.scatter(x=x_radius, y=y_loo)"
   ]
  },
  {
   "cell_type": "markdown",
   "metadata": {},
   "source": [
    "3) From 60 to 300"
   ]
  },
  {
   "cell_type": "code",
   "execution_count": 174,
   "metadata": {},
   "outputs": [
    {
     "data": {
      "text/plain": [
       "<matplotlib.collections.PathCollection at 0x1a1d86f668>"
      ]
     },
     "execution_count": 174,
     "metadata": {},
     "output_type": "execute_result"
    },
    {
     "data": {
      "image/png": "[encoded data removed]",
      "text/plain": [
       "<Figure size 432x288 with 1 Axes>"
      ]
     },
     "metadata": {},
     "output_type": "display_data"
    }
   ],
   "source": [
    "loo_results = calc_RN_LOO_iterate_r(X, y, r_min=60, r_max=300, steps=1000, track_lines=1000)\n",
    "x_radius = [r for (r, loo) in loo_results]\n",
    "y_loo = [loo for (r, loo) in loo_results]\n",
    "plt.scatter(x=x_radius, y=y_loo)"
   ]
  },
  {
   "cell_type": "code",
   "execution_count": 175,
   "metadata": {
    "scrolled": true
   },
   "outputs": [
    {
     "name": "stdout",
     "output_type": "stream",
     "text": [
      "Best radius: 244.98498498498498, loo: 0.7082601054481547\n"
     ]
    }
   ],
   "source": [
    "best_params = sorted(loo_results, key=lambda x: x[1])[0]\n",
    "print(f\"Best radius: {best_params[0]}, loo: {best_params[1]}\")"
   ]
  },
  {
   "cell_type": "markdown",
   "metadata": {},
   "source": [
    "#### 5. Scaled dataset: KNN + RadiusNeighbours"
   ]
  },
  {
   "cell_type": "code",
   "execution_count": 176,
   "metadata": {},
   "outputs": [],
   "source": [
    "X = cancer_df[cancer_df.columns.difference(['label'])].values\n",
    "y = cancer_df.label.values\n",
    "scaler = MinMaxScaler()\n",
    "X_scaled = scaler.fit_transform(X)"
   ]
  },
  {
   "cell_type": "code",
   "execution_count": 178,
   "metadata": {},
   "outputs": [
    {
     "name": "stdout",
     "output_type": "stream",
     "text": [
      "k=1, loo=0.04745166959578207\n",
      "k=2, loo=0.03866432337434095\n",
      "k=3, loo=0.029876977152899824\n",
      "k=4, loo=0.028119507908611598\n",
      "k=5, loo=0.033391915641476276\n",
      "k=6, loo=0.029876977152899824\n",
      "k=7, loo=0.029876977152899824\n",
      "k=8, loo=0.03163444639718805\n",
      "k=9, loo=0.029876977152899824\n",
      "k=10, loo=0.029876977152899824\n",
      "k=11, loo=0.03163444639718805\n",
      "k=12, loo=0.03163444639718805\n",
      "k=13, loo=0.026362038664323375\n",
      "k=14, loo=0.029876977152899824\n",
      "k=15, loo=0.02460456942003515\n"
     ]
    }
   ],
   "source": [
    "loo_results = calc_kNN_LOO_iterate_k(X_scaled, y, k_min=1, k_max=15, track_lines=1000)\n",
    "for k, loo in loo_results:\n",
    "    print(f\"k={k}, loo={loo}\")"
   ]
  },
  {
   "cell_type": "code",
   "execution_count": 179,
   "metadata": {
    "scrolled": true
   },
   "outputs": [
    {
     "name": "stdout",
     "output_type": "stream",
     "text": [
      "Min radius: 0.13588417109287018, max_radius: 3.464213778690097\n"
     ]
    }
   ],
   "source": [
    "min_radius, max_radius = get_minmax_distances(X_scaled)\n",
    "print(f\"Min radius: {min_radius}, max_radius: {max_radius}\")"
   ]
  },
  {
   "cell_type": "code",
   "execution_count": 184,
   "metadata": {},
   "outputs": [
    {
     "data": {
      "text/plain": [
       "<matplotlib.collections.PathCollection at 0x1a1a8cc748>"
      ]
     },
     "execution_count": 184,
     "metadata": {},
     "output_type": "execute_result"
    },
    {
     "data": {
      "image/png": "[encoded data removed]",
      "text/plain": [
       "<Figure size 432x288 with 1 Axes>"
      ]
     },
     "metadata": {},
     "output_type": "display_data"
    }
   ],
   "source": [
    "loo_results = calc_RN_LOO_iterate_r(X_scaled, y, r_min=min_radius, r_max=max_radius, steps=1000, track_lines=1000)\n",
    "x_radius = [r for (r, loo) in loo_results]\n",
    "y_loo = [loo for (r, loo) in loo_results]\n",
    "plt.scatter(x=x_radius, y=y_loo)"
   ]
  },
  {
   "cell_type": "code",
   "execution_count": 181,
   "metadata": {},
   "outputs": [
    {
     "name": "stdout",
     "output_type": "stream",
     "text": [
      "Best radius: 0.5656684747765962, loo: 0.7012302284710018\n"
     ]
    }
   ],
   "source": [
    "best_params = sorted(loo_results, key=lambda x: x[1])[0]\n",
    "print(f\"Best radius: {best_params[0]}, loo: {best_params[1]}\")"
   ]
  },
  {
   "cell_type": "markdown",
   "metadata": {},
   "source": [
    "#### Results"
   ]
  },
  {
   "cell_type": "markdown",
   "metadata": {},
   "source": [
    "1) kNN. На нормированных данных лучший результат достигается при k=4 (loo=0.028), на ненормированных данных - при k=5 (loo=0.067) (с учетом того, что по заданию мы проверяем k=1..10).\n",
    "\n",
    "2) RadiusNeighbours.  На нормированных данных лучший loo (loo=0.701) достигается при r=0.566, на ненормированных (loo=0.708) при r=244.985."
   ]
  }
 ],
 "metadata": {
  "kernelspec": {
   "display_name": "Python 3",
   "language": "python",
   "name": "python3"
  },
  "language_info": {
   "codemirror_mode": {
    "name": "ipython",
    "version": 3
   },
   "file_extension": ".py",
   "mimetype": "text/x-python",
   "name": "python",
   "nbconvert_exporter": "python",
   "pygments_lexer": "ipython3",
   "version": "3.7.1"
  }
 },
 "nbformat": 4,
 "nbformat_minor": 2
}
