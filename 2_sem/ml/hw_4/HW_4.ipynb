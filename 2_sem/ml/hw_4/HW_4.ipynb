{
 "cells": [
  {
   "cell_type": "code",
   "execution_count": 179,
   "metadata": {},
   "outputs": [],
   "source": [
    "import numpy as np\n",
    "import pandas as pd\n",
    "from collections import defaultdict, Counter\n",
    "import matplotlib.pyplot as plt\n",
    "import seaborn as sns; sns.set()\n",
    "from scipy.spatial import distance\n",
    "from sklearn.decomposition import PCA\n",
    "from sklearn.metrics import accuracy_score\n",
    "from sklearn.preprocessing import StandardScaler\n",
    "from sklearn.model_selection import train_test_split\n",
    "from sklearn.tree import DecisionTreeClassifier\n",
    "from sklearn.model_selection import KFold"
   ]
  },
  {
   "cell_type": "code",
   "execution_count": 167,
   "metadata": {},
   "outputs": [],
   "source": [
    "class RandomForest():\n",
    "    def __init__(self):\n",
    "        from sklearn.tree import DecisionTreeClassifier\n",
    "        self.trees = []\n",
    "        self.features_idx = []\n",
    "        \n",
    "    def fit(self, X, y, ntree=10, max_depth=None):\n",
    "        n_samples = X.shape[0]\n",
    "        m_features = X.shape[1]\n",
    "        sampsize = int(np.round(0.632 * n_samples))\n",
    "        mtry = int(np.round(np.sqrt(m_features)))\n",
    "        for _ in range(ntree):\n",
    "            row_idx = np.random.randint(0, n_samples, sampsize)\n",
    "            col_idx = np.random.randint(0, m_features, mtry)\n",
    "            tree = DecisionTreeClassifier(criterion='gini', max_depth=max_depth)\n",
    "            tree.fit(X[row_idx[:, None], col_idx], y[row_idx])\n",
    "            self.trees.append(tree)\n",
    "            self.features_idx.append(col_idx)\n",
    "    \n",
    "    def predict(self, X, n_classes=2, voting='soft'):\n",
    "        ntree = len(self.trees)\n",
    "        n_samples = X.shape[0]\n",
    "        predictions = np.zeros([ntree, n_samples, n_classes]) # 3d-array of shape <ntree, test_size, n_classes>\n",
    "        for i in range(0, ntree):\n",
    "            if voting == 'soft':\n",
    "                predictions[i, :, :] = self.trees[i].predict_proba(X[:, self.features_idx[i]])\n",
    "            if voting == 'hard':\n",
    "                P = np.zeros([n_samples, n_classes])\n",
    "                P[np.arange(n_samples), self.trees[i].predict(X[:, self.features_idx[i]])] = 1\n",
    "                predictions[i, :, :] = P\n",
    "        mean_predictions = np.mean(predictions, axis=0)\n",
    "        classes = np.argmax(mean_predictions, axis=1)\n",
    "        return mean_predictions, classes"
   ]
  },
  {
   "cell_type": "code",
   "execution_count": 172,
   "metadata": {},
   "outputs": [],
   "source": [
    "def ROC_AUC(y, probabilities):\n",
    "    shifts = sorted(list(zip(probabilities, y)), reverse=True)\n",
    "    step_x = 1/np.where(y != 1)[0].shape[0]\n",
    "    step_y = 1/np.where(y == 1)[0].shape[0]\n",
    "    points_x = [0]\n",
    "    points_y = [0]\n",
    "    last_x = 0\n",
    "    last_y = 0\n",
    "    auc = 0\n",
    "    for prob, sample_y in shifts:\n",
    "        if sample_y == 1:\n",
    "            points_x.append(last_x)\n",
    "            last_y += step_y\n",
    "            points_y.append(last_y)\n",
    "        else:\n",
    "            points_y.append(last_y)\n",
    "            last_x += step_x\n",
    "            points_x.append(last_x)\n",
    "            auc += step_x * last_y\n",
    "    return auc, points_x, points_y"
   ]
  },
  {
   "cell_type": "markdown",
   "metadata": {},
   "source": [
    "### Spam dataset"
   ]
  },
  {
   "cell_type": "code",
   "execution_count": 215,
   "metadata": {},
   "outputs": [],
   "source": [
    "spam_df = pd.read_csv('../data/spam.csv')\n",
    "X = spam_df[spam_df.columns.difference(['label'])].values\n",
    "y = spam_df.label.values\n",
    "X_train, X_test, y_train, y_test = train_test_split(X, y, test_size=0.2, random_state=42)"
   ]
  },
  {
   "cell_type": "markdown",
   "metadata": {},
   "source": [
    "20 trees, max_depth = 3"
   ]
  },
  {
   "cell_type": "code",
   "execution_count": 219,
   "metadata": {},
   "outputs": [
    {
     "data": {
      "text/plain": [
       "Text(0.5, 1.0, '[SPAM], ntree: 20, max_depth:3, AUC: 0.9575933169153539, accuracy: 0.8490770901194354')"
      ]
     },
     "execution_count": 219,
     "metadata": {},
     "output_type": "execute_result"
    },
    {
     "data": {
      "image/png": "[encoded data removed]",
      "text/plain": [
       "<Figure size 864x576 with 1 Axes>"
      ]
     },
     "metadata": {},
     "output_type": "display_data"
    }
   ],
   "source": [
    "ntree = 20\n",
    "max_depth = 3\n",
    "rf = RandomForest()\n",
    "rf.fit(X_train, y_train, ntree=ntree, max_depth=max_depth)\n",
    "probs, classes = rf.predict(X_test)\n",
    "\n",
    "auc, points_x, points_y = ROC_AUC(y_test, probs[:, 1]) # probabilities of the 2nd class\n",
    "accuracy = accuracy_score(y_test, classes)\n",
    "\n",
    "plt.figure(figsize=(12, 8))\n",
    "plt.plot(points_x, points_y)\n",
    "plt.title(f\"[SPAM], ntree: {ntree}, max_depth:{max_depth}, AUC: {auc}, accuracy: {accuracy}\")"
   ]
  },
  {
   "cell_type": "markdown",
   "metadata": {},
   "source": [
    "Cross validation"
   ]
  },
  {
   "cell_type": "code",
   "execution_count": 221,
   "metadata": {},
   "outputs": [
    {
     "name": "stdout",
     "output_type": "stream",
     "text": [
      "ntree: 5, max_depth: 2, auc: 0.9370234751723663\n",
      "ntree: 5, max_depth: 3, auc: 0.9416022438224584\n",
      "ntree: 5, max_depth: 5, auc: 0.9415684412122328\n",
      "ntree: 5, max_depth: 7, auc: 0.9378344800790808\n",
      "ntree: 5, max_depth: 10, auc: 0.9436877418483837\n",
      "ntree: 10, max_depth: 2, auc: 0.9480144084484406\n",
      "ntree: 10, max_depth: 3, auc: 0.9532841579052495\n",
      "ntree: 10, max_depth: 5, auc: 0.9643396555785229\n",
      "ntree: 10, max_depth: 7, auc: 0.9567627152211525\n",
      "ntree: 10, max_depth: 10, auc: 0.9618899119023808\n",
      "ntree: 20, max_depth: 2, auc: 0.9509200814212369\n",
      "ntree: 20, max_depth: 3, auc: 0.9565925760757172\n",
      "ntree: 20, max_depth: 5, auc: 0.9654871430623377\n",
      "ntree: 20, max_depth: 7, auc: 0.9679355564447951\n",
      "ntree: 20, max_depth: 10, auc: 0.9676811816210453\n",
      "ntree: 30, max_depth: 2, auc: 0.9571275946853481\n",
      "ntree: 30, max_depth: 3, auc: 0.9589432559240224\n",
      "ntree: 30, max_depth: 5, auc: 0.9686209182222566\n",
      "ntree: 30, max_depth: 7, auc: 0.9719464885659269\n",
      "ntree: 30, max_depth: 10, auc: 0.9723969989540032\n",
      "ntree: 50, max_depth: 2, auc: 0.9570955514114441\n",
      "ntree: 50, max_depth: 3, auc: 0.9637411401116605\n",
      "ntree: 50, max_depth: 5, auc: 0.9716815209402574\n",
      "ntree: 50, max_depth: 7, auc: 0.9740124177270552\n",
      "ntree: 50, max_depth: 10, auc: 0.9733330867614068\n",
      "ntree: 100, max_depth: 2, auc: 0.9594530027695782\n",
      "ntree: 100, max_depth: 3, auc: 0.9644414680518956\n",
      "ntree: 100, max_depth: 5, auc: 0.9703798931515626\n",
      "ntree: 100, max_depth: 7, auc: 0.9729267329243235\n",
      "ntree: 100, max_depth: 10, auc: 0.9762127992079235\n",
      "--\n",
      "best ntree: 100, best max_depth: 10, AUC: 0.9762127992079235\n"
     ]
    }
   ],
   "source": [
    "ntree_p = [5, 10, 20, 30, 50, 100]\n",
    "max_depth_p = [2, 3, 5, 7, 10]\n",
    "\n",
    "best_auc = None\n",
    "best_ntree = None\n",
    "best_max_depth = None\n",
    "\n",
    "kf = KFold(n_splits=5, random_state=42, shuffle=False)\n",
    "for ntree in ntree_p:\n",
    "    for max_depth in max_depth_p:\n",
    "        roc_auc_CV = []\n",
    "        for train_index, val_index in kf.split(X_train):\n",
    "            X_train_new, X_val = X_train[train_index], X_train[val_index]\n",
    "            y_train_new, y_val = y_train[train_index], y_train[val_index]\n",
    "            rf = RandomForest()\n",
    "            rf.fit(X_train_new, y_train_new, ntree=ntree, max_depth=max_depth)\n",
    "            probs, classes = rf.predict(X_val)\n",
    "            auc, points_x, points_y = ROC_AUC(y_val, probs[:, 1])\n",
    "            roc_auc_CV.append(auc)\n",
    "        auc = np.mean(roc_auc_CV)\n",
    "        print(f\"ntree: {ntree}, max_depth: {max_depth}, auc: {auc}\")\n",
    "        if not best_auc or best_auc < auc:\n",
    "            best_auc = auc\n",
    "            best_ntree = ntree\n",
    "            best_max_depth = max_depth\n",
    "print('--')            \n",
    "print(f\"best ntree: {best_ntree}, best max_depth: {best_max_depth}, AUC: {best_auc}\")"
   ]
  },
  {
   "cell_type": "markdown",
   "metadata": {},
   "source": [
    "ROC-curve on the test set (optimal parameters)"
   ]
  },
  {
   "cell_type": "code",
   "execution_count": 222,
   "metadata": {},
   "outputs": [
    {
     "data": {
      "text/plain": [
       "Text(0.5, 1.0, '[SPAM], ntree: 100, max_depth: 10, AUC: 0.9784972717176142, accuracy: 0.9022801302931596')"
      ]
     },
     "execution_count": 222,
     "metadata": {},
     "output_type": "execute_result"
    },
    {
     "data": {
      "image/png": "[encoded data removed]",
      "text/plain": [
       "<Figure size 864x576 with 1 Axes>"
      ]
     },
     "metadata": {},
     "output_type": "display_data"
    }
   ],
   "source": [
    "ntree = best_ntree\n",
    "max_depth = best_max_depth\n",
    "rf = RandomForest()\n",
    "rf.fit(X_train, y_train, ntree=ntree, max_depth=max_depth)\n",
    "probs, classes = rf.predict(X_test)\n",
    "\n",
    "auc, points_x, points_y = ROC_AUC(y_test, probs[:, 1]) # probabilities of the 2nd class\n",
    "accuracy = accuracy_score(y_test, classes)\n",
    "\n",
    "plt.figure(figsize=(12, 8))\n",
    "plt.plot(points_x, points_y)\n",
    "plt.title(f\"[SPAM], ntree: {ntree}, max_depth: {max_depth}, AUC: {auc}, accuracy: {accuracy}\")"
   ]
  },
  {
   "cell_type": "markdown",
   "metadata": {},
   "source": [
    "### Cancer dataset"
   ]
  },
  {
   "cell_type": "code",
   "execution_count": 223,
   "metadata": {},
   "outputs": [],
   "source": [
    "cancer_df = pd.read_csv('../data/cancer.csv')\n",
    "cancer_df['int_label'] = cancer_df.label.map({'M':1, 'B':0})\n",
    "cancer_df['label'] = cancer_df.int_label\n",
    "cancer_df.drop('int_label', axis=1, inplace=True)\n",
    "X = cancer_df[cancer_df.columns.difference(['label'])].values\n",
    "y = cancer_df.label.values\n",
    "X_train, X_test, y_train, y_test = train_test_split(X, y, test_size=0.2, random_state=42)"
   ]
  },
  {
   "cell_type": "markdown",
   "metadata": {},
   "source": [
    "20 trees, max_depth = 3"
   ]
  },
  {
   "cell_type": "code",
   "execution_count": 224,
   "metadata": {},
   "outputs": [
    {
     "data": {
      "text/plain": [
       "Text(0.5, 1.0, '[Cancer], ntree: 20, max_depth:3, AUC: 0.995741893219783, accuracy: 0.956140350877193')"
      ]
     },
     "execution_count": 224,
     "metadata": {},
     "output_type": "execute_result"
    },
    {
     "data": {
      "image/png": "[encoded data removed]",
      "text/plain": [
       "<Figure size 864x576 with 1 Axes>"
      ]
     },
     "metadata": {},
     "output_type": "display_data"
    }
   ],
   "source": [
    "ntree = 20\n",
    "max_depth = 3\n",
    "rf = RandomForest()\n",
    "rf.fit(X_train, y_train, ntree=ntree, max_depth=max_depth)\n",
    "probs, classes = rf.predict(X_test)\n",
    "\n",
    "auc, points_x, points_y = ROC_AUC(y_test, probs[:, 1]) # probabilities of the 2nd class\n",
    "accuracy = accuracy_score(y_test, classes)\n",
    "\n",
    "plt.figure(figsize=(12, 8))\n",
    "plt.plot(points_x, points_y)\n",
    "plt.title(f\"[Cancer], ntree: {ntree}, max_depth:{max_depth}, AUC: {auc}, accuracy: {accuracy}\")"
   ]
  },
  {
   "cell_type": "markdown",
   "metadata": {},
   "source": [
    "Cross validation"
   ]
  },
  {
   "cell_type": "code",
   "execution_count": 225,
   "metadata": {},
   "outputs": [
    {
     "name": "stdout",
     "output_type": "stream",
     "text": [
      "ntree: 5, max_depth: 2, auc: 0.9807783073438754\n",
      "ntree: 5, max_depth: 3, auc: 0.983581346095392\n",
      "ntree: 5, max_depth: 5, auc: 0.9777235799480583\n",
      "ntree: 5, max_depth: 7, auc: 0.9805006446403063\n",
      "ntree: 5, max_depth: 10, auc: 0.9734380824097142\n",
      "ntree: 10, max_depth: 2, auc: 0.9784900689001936\n",
      "ntree: 10, max_depth: 3, auc: 0.9814809305680434\n",
      "ntree: 10, max_depth: 5, auc: 0.9831916984159115\n",
      "ntree: 10, max_depth: 7, auc: 0.9885337205220456\n",
      "ntree: 10, max_depth: 10, auc: 0.9892785137616187\n",
      "ntree: 20, max_depth: 2, auc: 0.9828179593608006\n",
      "ntree: 20, max_depth: 3, auc: 0.9865215714490644\n",
      "ntree: 20, max_depth: 5, auc: 0.9849567634776619\n",
      "ntree: 20, max_depth: 7, auc: 0.987322205270314\n",
      "ntree: 20, max_depth: 10, auc: 0.9874249278753151\n",
      "ntree: 30, max_depth: 2, auc: 0.9849213432616949\n",
      "ntree: 30, max_depth: 3, auc: 0.9852580910985868\n",
      "ntree: 30, max_depth: 5, auc: 0.9882410416539005\n",
      "ntree: 30, max_depth: 7, auc: 0.9900479379592451\n",
      "ntree: 30, max_depth: 10, auc: 0.9892789565788263\n",
      "ntree: 50, max_depth: 2, auc: 0.9855082824880128\n",
      "ntree: 50, max_depth: 3, auc: 0.9851853653640668\n",
      "ntree: 50, max_depth: 5, auc: 0.9876583406543837\n",
      "ntree: 50, max_depth: 7, auc: 0.9855022095663066\n",
      "ntree: 50, max_depth: 10, auc: 0.9881966412381382\n",
      "ntree: 100, max_depth: 2, auc: 0.9859599147546911\n",
      "ntree: 100, max_depth: 3, auc: 0.989044051539062\n",
      "ntree: 100, max_depth: 5, auc: 0.9877756291154846\n",
      "ntree: 100, max_depth: 7, auc: 0.9884578369681218\n",
      "ntree: 100, max_depth: 10, auc: 0.989174633172972\n",
      "--\n",
      "best ntree: 30, best max_depth: 7, AUC: 0.9900479379592451\n"
     ]
    }
   ],
   "source": [
    "ntree_p = [5, 10, 20, 30, 50, 100]\n",
    "max_depth_p = [2, 3, 5, 7, 10]\n",
    "\n",
    "best_auc = None\n",
    "best_ntree = None\n",
    "best_max_depth = None\n",
    "\n",
    "kf = KFold(n_splits=5, random_state=42, shuffle=False)\n",
    "for ntree in ntree_p:\n",
    "    for max_depth in max_depth_p:\n",
    "        roc_auc_CV = []\n",
    "        for train_index, val_index in kf.split(X_train):\n",
    "            X_train_new, X_val = X_train[train_index], X_train[val_index]\n",
    "            y_train_new, y_val = y_train[train_index], y_train[val_index]\n",
    "            rf = RandomForest()\n",
    "            rf.fit(X_train_new, y_train_new, ntree=ntree, max_depth=max_depth)\n",
    "            probs, classes = rf.predict(X_val)\n",
    "            auc, points_x, points_y = ROC_AUC(y_val, probs[:, 1])\n",
    "            roc_auc_CV.append(auc)\n",
    "        auc = np.mean(roc_auc_CV)\n",
    "        print(f\"ntree: {ntree}, max_depth: {max_depth}, auc: {auc}\")\n",
    "        if not best_auc or best_auc < auc:\n",
    "            best_auc = auc\n",
    "            best_ntree = ntree\n",
    "            best_max_depth = max_depth\n",
    "print('--')            \n",
    "print(f\"best ntree: {best_ntree}, best max_depth: {best_max_depth}, AUC: {best_auc}\")"
   ]
  },
  {
   "cell_type": "markdown",
   "metadata": {},
   "source": [
    "ROC-curve on the test set (optimal parameters)"
   ]
  },
  {
   "cell_type": "code",
   "execution_count": 227,
   "metadata": {},
   "outputs": [
    {
     "data": {
      "text/plain": [
       "Text(0.5, 1.0, '[Cancer], ntree: 30, max_depth: 7, AUC: 0.9954143465443818, accuracy: 0.9649122807017544')"
      ]
     },
     "execution_count": 227,
     "metadata": {},
     "output_type": "execute_result"
    },
    {
     "data": {
      "image/png": "[encoded data removed]",
      "text/plain": [
       "<Figure size 864x576 with 1 Axes>"
      ]
     },
     "metadata": {},
     "output_type": "display_data"
    }
   ],
   "source": [
    "ntree = best_ntree\n",
    "max_depth = best_max_depth\n",
    "rf = RandomForest()\n",
    "rf.fit(X_train, y_train, ntree=ntree, max_depth=max_depth)\n",
    "probs, classes = rf.predict(X_test)\n",
    "\n",
    "auc, points_x, points_y = ROC_AUC(y_test, probs[:, 1]) # probabilities of the 2nd class\n",
    "accuracy = accuracy_score(y_test, classes)\n",
    "\n",
    "plt.figure(figsize=(12, 8))\n",
    "plt.plot(points_x, points_y)\n",
    "plt.title(f\"[Cancer], ntree: {ntree}, max_depth: {max_depth}, AUC: {auc}, accuracy: {accuracy}\")"
   ]
  }
 ],
 "metadata": {
  "kernelspec": {
   "display_name": "Python 3",
   "language": "python",
   "name": "python3"
  },
  "language_info": {
   "codemirror_mode": {
    "name": "ipython",
    "version": 3
   },
   "file_extension": ".py",
   "mimetype": "text/x-python",
   "name": "python",
   "nbconvert_exporter": "python",
   "pygments_lexer": "ipython3",
   "version": "3.7.1"
  }
 },
 "nbformat": 4,
 "nbformat_minor": 2
}
