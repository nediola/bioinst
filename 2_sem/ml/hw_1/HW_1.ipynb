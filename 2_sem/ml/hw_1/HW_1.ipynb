{
 "cells": [
  {
   "cell_type": "code",
   "execution_count": 2,
   "metadata": {},
   "outputs": [],
   "source": [
    "import numpy as np\n",
    "import pandas as pd\n",
    "from collections import defaultdict\n",
    "import matplotlib.pyplot as plt\n",
    "import seaborn as sns; sns.set()\n",
    "from sklearn.decomposition import PCA\n",
    "from sklearn.metrics import accuracy_score\n",
    "from sklearn.preprocessing import MinMaxScaler\n",
    "from sklearn.model_selection import train_test_split"
   ]
  },
  {
   "cell_type": "code",
   "execution_count": 23,
   "metadata": {},
   "outputs": [],
   "source": [
    "def kNN(data, labels, target, k, set_distances=None):    \n",
    "    if set_distances is not None:\n",
    "        distances = set_distances\n",
    "    else:\n",
    "        distances = np.linalg.norm(data - target, ord=2, axis=1)\n",
    "    argsort_indices = distances.argsort()\n",
    "    nn_indices = argsort_indices[:k]\n",
    "    target_label = np.bincount(labels[nn_indices]).argmax()\n",
    "    return distances, target_label\n",
    "    \n",
    "def LOO_gen(X, y):\n",
    "    for i in range(X.shape[0]):\n",
    "        X_train = np.delete(X, i, axis=0)\n",
    "        X_test = X[i, :]\n",
    "        y_train = np.delete(y, i)\n",
    "        y_test = y[i]\n",
    "        yield X_train, X_test, y_train, y_test\n",
    "\n",
    "def calc_kNN_LOO(X, y, k, set_distances=None, track_lines=None):\n",
    "    mismatches = 0\n",
    "    for line_num, (X_train, X_test, y_train, y_test) in enumerate(LOO_gen(X, y)):\n",
    "        if track_lines and line_num and line_num % 1000 == 0:\n",
    "            print(f'Lines processed: {line_num}')\n",
    "        _, target_label = kNN(X_train, y_train, X_test, k, set_distances=set_distances)\n",
    "        if target_label != y_test:\n",
    "            mismatches += 1\n",
    "    return mismatches / X.shape[0]\n",
    "                                    \n",
    "def calc_kNN_LOO_iterate_k(X, y, k_min, k_max, track_lines=None):\n",
    "    k2mismatches = defaultdict(int)\n",
    "    for line_num, (X_train, X_test, y_train, y_test) in enumerate(LOO_gen(X, y)):\n",
    "        if track_lines and line_num and line_num % 1000 == 0:\n",
    "            print(f'Lines processed: {line_num}')\n",
    "        distances = np.linalg.norm(X_train - X_test, ord=2, axis=1)\n",
    "        for k in range(k_min, k_max+1):\n",
    "            _, target_label = kNN(X_train, y_train, X_test, k, set_distances=distances)\n",
    "            if target_label != y_test:\n",
    "                k2mismatches[k] += 1\n",
    "    n = X.shape[0]\n",
    "    return sorted([(k, mismatches/n) for (k, mismatches) in k2mismatches.items()])\n",
    "\n",
    "def RadiusNeighbours(data, labels, target, radius, set_distances=None):\n",
    "    if set_distances is not None:\n",
    "        distances = set_distances\n",
    "    else:\n",
    "        distances = np.linalg.norm(data - target, ord=2, axis=1)\n",
    "    in_radius_indices = np.argwhere(distances < radius).flatten()\n",
    "    if in_radius_indices.shape[0] > 0:\n",
    "        target_label = np.bincount(labels[in_radius_indices]).argmax()\n",
    "    else:\n",
    "        target_label = -1\n",
    "    return distances, target_label\n",
    "\n",
    "def calc_RN_LOO(X, y, radius, set_distances=None, track_lines=None):\n",
    "    mismatches = 0\n",
    "    for line_num, (X_train, X_test, y_train, y_test) in enumerate(LOO_gen(X, y)):\n",
    "        if track_lines and line_num and line_num % 1000 == 0:\n",
    "            print(f'Lines processed: {line_num}')\n",
    "        _, target_label = RadiusNeighbours(X_train, y_train, X_test, radius, set_distances=set_distances)\n",
    "        if target_label != y_test:\n",
    "            mismatches += 1\n",
    "    return mismatches / X.shape[0]\n",
    "     \n",
    "def calc_RN_LOO_iterate_r(X, y, r_min, r_max, steps, track_lines=None):\n",
    "    r2mismatches = defaultdict(int)\n",
    "    for line_num, (X_train, X_test, y_train, y_test) in enumerate(LOO_gen(X, y)):\n",
    "        if track_lines and line_num and line_num % 1000 == 0:\n",
    "            print(f'Lines processed: {line_num}')\n",
    "        distances = np.linalg.norm(X_train - X_test, ord=2, axis=1)\n",
    "        for radius in np.linspace(r_min, r_max, steps):\n",
    "            _, target_label = RadiusNeighbours(X_train, y_train, X_test, radius, set_distances=distances)\n",
    "            if target_label==-1 or target_label != y_test:\n",
    "                r2mismatches[radius] += 1\n",
    "    n = X.shape[0]\n",
    "    return sorted([(r, mismatches/n) for (r, mismatches) in r2mismatches.items()])"
   ]
  },
  {
   "cell_type": "code",
   "execution_count": 4,
   "metadata": {},
   "outputs": [],
   "source": [
    "def get_minmax_distances(X):\n",
    "    min_distance = None\n",
    "    max_distance = None\n",
    "    for i in range(X.shape[0]):\n",
    "        X_ = np.delete(X, i, axis=0)\n",
    "        target = X[i, :]\n",
    "        distances = np.linalg.norm(X_ - target, ord=2, axis=1) \n",
    "        local_min = distances.min()\n",
    "        local_max = distances.max()\n",
    "        min_distance = local_min if not min_distance else min(local_min, min_distance)\n",
    "        max_distance = local_max if not max_distance else max(local_max, max_distance)\n",
    "    return min_distance, max_distance"
   ]
  },
  {
   "cell_type": "markdown",
   "metadata": {},
   "source": [
    "## Spam"
   ]
  },
  {
   "cell_type": "markdown",
   "metadata": {},
   "source": [
    "#### 0. Preparing stage"
   ]
  },
  {
   "cell_type": "code",
   "execution_count": 5,
   "metadata": {
    "scrolled": true
   },
   "outputs": [
    {
     "data": {
      "text/html": [
       "<div>\n",
       "<style scoped>\n",
       "    .dataframe tbody tr th:only-of-type {\n",
       "        vertical-align: middle;\n",
       "    }\n",
       "\n",
       "    .dataframe tbody tr th {\n",
       "        vertical-align: top;\n",
       "    }\n",
       "\n",
       "    .dataframe thead th {\n",
       "        text-align: right;\n",
       "    }\n",
       "</style>\n",
       "<table border=\"1\" class=\"dataframe\">\n",
       "  <thead>\n",
       "    <tr style=\"text-align: right;\">\n",
       "      <th></th>\n",
       "      <th>word_freq_make</th>\n",
       "      <th>word_freq_address</th>\n",
       "      <th>word_freq_all</th>\n",
       "      <th>word_freq_3d</th>\n",
       "      <th>word_freq_our</th>\n",
       "      <th>word_freq_over</th>\n",
       "      <th>word_freq_remove</th>\n",
       "      <th>word_freq_internet</th>\n",
       "      <th>word_freq_order</th>\n",
       "      <th>word_freq_mail</th>\n",
       "      <th>...</th>\n",
       "      <th>char_freq_:</th>\n",
       "      <th>char_freq_(</th>\n",
       "      <th>char_freq_[</th>\n",
       "      <th>char_freq_!</th>\n",
       "      <th>char_freq_$</th>\n",
       "      <th>char_freq_#</th>\n",
       "      <th>capital_run_length_average</th>\n",
       "      <th>capital_run_length_longest</th>\n",
       "      <th>capital_run_length_total</th>\n",
       "      <th>label</th>\n",
       "    </tr>\n",
       "  </thead>\n",
       "  <tbody>\n",
       "    <tr>\n",
       "      <th>1781</th>\n",
       "      <td>0.0</td>\n",
       "      <td>0.78</td>\n",
       "      <td>2.34</td>\n",
       "      <td>0.0</td>\n",
       "      <td>0.78</td>\n",
       "      <td>0.0</td>\n",
       "      <td>1.56</td>\n",
       "      <td>0.0</td>\n",
       "      <td>0.0</td>\n",
       "      <td>0.0</td>\n",
       "      <td>...</td>\n",
       "      <td>0.000</td>\n",
       "      <td>0.000</td>\n",
       "      <td>0.0</td>\n",
       "      <td>1.363</td>\n",
       "      <td>0.0</td>\n",
       "      <td>0.0</td>\n",
       "      <td>1.348</td>\n",
       "      <td>29</td>\n",
       "      <td>147</td>\n",
       "      <td>1</td>\n",
       "    </tr>\n",
       "    <tr>\n",
       "      <th>3521</th>\n",
       "      <td>0.0</td>\n",
       "      <td>0.00</td>\n",
       "      <td>0.00</td>\n",
       "      <td>0.0</td>\n",
       "      <td>0.00</td>\n",
       "      <td>0.0</td>\n",
       "      <td>0.00</td>\n",
       "      <td>0.0</td>\n",
       "      <td>0.0</td>\n",
       "      <td>0.0</td>\n",
       "      <td>...</td>\n",
       "      <td>0.000</td>\n",
       "      <td>0.224</td>\n",
       "      <td>0.0</td>\n",
       "      <td>0.000</td>\n",
       "      <td>0.0</td>\n",
       "      <td>0.0</td>\n",
       "      <td>2.379</td>\n",
       "      <td>18</td>\n",
       "      <td>69</td>\n",
       "      <td>0</td>\n",
       "    </tr>\n",
       "    <tr>\n",
       "      <th>3480</th>\n",
       "      <td>0.0</td>\n",
       "      <td>0.00</td>\n",
       "      <td>0.00</td>\n",
       "      <td>0.0</td>\n",
       "      <td>0.00</td>\n",
       "      <td>0.0</td>\n",
       "      <td>0.00</td>\n",
       "      <td>0.0</td>\n",
       "      <td>0.0</td>\n",
       "      <td>0.0</td>\n",
       "      <td>...</td>\n",
       "      <td>0.000</td>\n",
       "      <td>0.061</td>\n",
       "      <td>0.0</td>\n",
       "      <td>0.000</td>\n",
       "      <td>0.0</td>\n",
       "      <td>0.0</td>\n",
       "      <td>2.288</td>\n",
       "      <td>11</td>\n",
       "      <td>103</td>\n",
       "      <td>0</td>\n",
       "    </tr>\n",
       "    <tr>\n",
       "      <th>3640</th>\n",
       "      <td>0.0</td>\n",
       "      <td>0.00</td>\n",
       "      <td>0.00</td>\n",
       "      <td>0.0</td>\n",
       "      <td>0.00</td>\n",
       "      <td>0.0</td>\n",
       "      <td>0.00</td>\n",
       "      <td>0.0</td>\n",
       "      <td>0.0</td>\n",
       "      <td>0.0</td>\n",
       "      <td>...</td>\n",
       "      <td>0.000</td>\n",
       "      <td>0.000</td>\n",
       "      <td>0.0</td>\n",
       "      <td>0.000</td>\n",
       "      <td>0.0</td>\n",
       "      <td>0.0</td>\n",
       "      <td>1.000</td>\n",
       "      <td>1</td>\n",
       "      <td>5</td>\n",
       "      <td>0</td>\n",
       "    </tr>\n",
       "    <tr>\n",
       "      <th>4115</th>\n",
       "      <td>0.0</td>\n",
       "      <td>0.00</td>\n",
       "      <td>0.00</td>\n",
       "      <td>0.0</td>\n",
       "      <td>0.00</td>\n",
       "      <td>0.0</td>\n",
       "      <td>0.00</td>\n",
       "      <td>0.0</td>\n",
       "      <td>0.0</td>\n",
       "      <td>0.0</td>\n",
       "      <td>...</td>\n",
       "      <td>0.182</td>\n",
       "      <td>0.182</td>\n",
       "      <td>0.0</td>\n",
       "      <td>0.000</td>\n",
       "      <td>0.0</td>\n",
       "      <td>0.0</td>\n",
       "      <td>1.000</td>\n",
       "      <td>1</td>\n",
       "      <td>9</td>\n",
       "      <td>0</td>\n",
       "    </tr>\n",
       "  </tbody>\n",
       "</table>\n",
       "<p>5 rows × 58 columns</p>\n",
       "</div>"
      ],
      "text/plain": [
       "      word_freq_make  word_freq_address  word_freq_all  word_freq_3d  \\\n",
       "1781             0.0               0.78           2.34           0.0   \n",
       "3521             0.0               0.00           0.00           0.0   \n",
       "3480             0.0               0.00           0.00           0.0   \n",
       "3640             0.0               0.00           0.00           0.0   \n",
       "4115             0.0               0.00           0.00           0.0   \n",
       "\n",
       "      word_freq_our  word_freq_over  word_freq_remove  word_freq_internet  \\\n",
       "1781           0.78             0.0              1.56                 0.0   \n",
       "3521           0.00             0.0              0.00                 0.0   \n",
       "3480           0.00             0.0              0.00                 0.0   \n",
       "3640           0.00             0.0              0.00                 0.0   \n",
       "4115           0.00             0.0              0.00                 0.0   \n",
       "\n",
       "      word_freq_order  word_freq_mail  ...    char_freq_:  char_freq_(  \\\n",
       "1781              0.0             0.0  ...          0.000        0.000   \n",
       "3521              0.0             0.0  ...          0.000        0.224   \n",
       "3480              0.0             0.0  ...          0.000        0.061   \n",
       "3640              0.0             0.0  ...          0.000        0.000   \n",
       "4115              0.0             0.0  ...          0.182        0.182   \n",
       "\n",
       "      char_freq_[  char_freq_!  char_freq_$  char_freq_#  \\\n",
       "1781          0.0        1.363          0.0          0.0   \n",
       "3521          0.0        0.000          0.0          0.0   \n",
       "3480          0.0        0.000          0.0          0.0   \n",
       "3640          0.0        0.000          0.0          0.0   \n",
       "4115          0.0        0.000          0.0          0.0   \n",
       "\n",
       "      capital_run_length_average  capital_run_length_longest  \\\n",
       "1781                       1.348                          29   \n",
       "3521                       2.379                          18   \n",
       "3480                       2.288                          11   \n",
       "3640                       1.000                           1   \n",
       "4115                       1.000                           1   \n",
       "\n",
       "      capital_run_length_total  label  \n",
       "1781                       147      1  \n",
       "3521                        69      0  \n",
       "3480                       103      0  \n",
       "3640                         5      0  \n",
       "4115                         9      0  \n",
       "\n",
       "[5 rows x 58 columns]"
      ]
     },
     "execution_count": 5,
     "metadata": {},
     "output_type": "execute_result"
    }
   ],
   "source": [
    "spam_df = pd.read_csv('./spam.csv')\n",
    "spam_df.sample(5)"
   ]
  },
  {
   "cell_type": "markdown",
   "metadata": {},
   "source": [
    "Draw data (unnormalized)"
   ]
  },
  {
   "cell_type": "code",
   "execution_count": 6,
   "metadata": {},
   "outputs": [
    {
     "data": {
      "image/png": "[encoded data removed]",
      "text/plain": [
       "<Figure size 432x288 with 2 Axes>"
      ]
     },
     "metadata": {
      "needs_background": "light"
     },
     "output_type": "display_data"
    }
   ],
   "source": [
    "X = spam_df[spam_df.columns.difference(['label'])].values\n",
    "y = spam_df.label.values\n",
    "pca = PCA(n_components=2, random_state=42)\n",
    "pca_components = pca.fit_transform(X)\n",
    "plt.scatter(pca_components[:, 0], pca_components[:, 1], c=y,\n",
    "            edgecolor='none', alpha=0.5,\n",
    "            cmap=plt.cm.get_cmap('cool', 2))\n",
    "plt.xlabel('component 1')\n",
    "plt.ylabel('component 2')\n",
    "plt.colorbar();"
   ]
  },
  {
   "cell_type": "markdown",
   "metadata": {},
   "source": [
    "#### 1. kNN + LOO"
   ]
  },
  {
   "cell_type": "markdown",
   "metadata": {},
   "source": [
    "Split to test & train sets"
   ]
  },
  {
   "cell_type": "code",
   "execution_count": 7,
   "metadata": {},
   "outputs": [
    {
     "name": "stdout",
     "output_type": "stream",
     "text": [
      "Train set (X, y): (3680, 57) (3680,)\n",
      "Test set (X, y): (921, 57) (921,)\n"
     ]
    }
   ],
   "source": [
    "X = spam_df[spam_df.columns.difference(['label'])].values\n",
    "y = spam_df.label.values\n",
    "X_train, X_test, y_train, y_test = train_test_split(X, y, test_size=0.2, random_state=42)\n",
    "print(\"Train set (X, y):\", X_train.shape, y_train.shape)\n",
    "print(\"Test set (X, y):\", X_test.shape, y_test.shape)"
   ]
  },
  {
   "cell_type": "markdown",
   "metadata": {},
   "source": [
    "Select best k with LOO"
   ]
  },
  {
   "cell_type": "code",
   "execution_count": 8,
   "metadata": {},
   "outputs": [
    {
     "name": "stdout",
     "output_type": "stream",
     "text": [
      "Lines processed: 1000\n",
      "Lines processed: 2000\n",
      "Lines processed: 3000\n",
      "k=1, loo=0.18315217391304348\n",
      "k=2, loo=0.19945652173913042\n",
      "k=3, loo=0.1875\n",
      "k=4, loo=0.1904891304347826\n",
      "k=5, loo=0.19619565217391305\n",
      "k=6, loo=0.20625\n",
      "k=7, loo=0.20543478260869566\n",
      "k=8, loo=0.21195652173913043\n",
      "k=9, loo=0.20380434782608695\n",
      "k=10, loo=0.20597826086956522\n"
     ]
    }
   ],
   "source": [
    "loo_results = calc_kNN_LOO_iterate_k(X_train, y_train, k_min=1, k_max=10, track_lines=1000)\n",
    "for k, loo in loo_results:\n",
    "    print(f\"k={k}, loo={loo}\")"
   ]
  },
  {
   "cell_type": "markdown",
   "metadata": {},
   "source": [
    "Here we can see that the best k is k=1. Let's calculate accuracy"
   ]
  },
  {
   "cell_type": "code",
   "execution_count": 9,
   "metadata": {},
   "outputs": [
    {
     "name": "stdout",
     "output_type": "stream",
     "text": [
      "k=1, accuracy=0.8078175895765473\n"
     ]
    }
   ],
   "source": [
    "k=1\n",
    "predicted_labels = []\n",
    "for i in range(y_test.shape[0]):\n",
    "    _, label = kNN(X_train, y_train, X_test[i, :], k)\n",
    "    predicted_labels.append(label)\n",
    "score = accuracy_score(y_test, predicted_labels)\n",
    "print(f'k={k}, accuracy={score}')"
   ]
  },
  {
   "cell_type": "markdown",
   "metadata": {},
   "source": [
    "#### 2. RadiusNeighbours + LOO"
   ]
  },
  {
   "cell_type": "markdown",
   "metadata": {},
   "source": [
    "Find minimum and maximum radius"
   ]
  },
  {
   "cell_type": "code",
   "execution_count": 13,
   "metadata": {},
   "outputs": [
    {
     "name": "stdout",
     "output_type": "stream",
     "text": [
      "Min radius: 0.014142135623730963, max_radius: 14178.892299136876\n"
     ]
    }
   ],
   "source": [
    "min_radius, max_radius = get_minmax_distances(X_train)\n",
    "print(f\"Min radius: {min_radius}, max_radius: {max_radius}\")"
   ]
  },
  {
   "cell_type": "code",
   "execution_count": 14,
   "metadata": {},
   "outputs": [
    {
     "name": "stdout",
     "output_type": "stream",
     "text": [
      "Lines processed: 1000\n",
      "Lines processed: 2000\n",
      "Lines processed: 3000\n"
     ]
    },
    {
     "data": {
      "text/plain": [
       "<matplotlib.collections.PathCollection at 0x1a2070e828>"
      ]
     },
     "execution_count": 14,
     "metadata": {},
     "output_type": "execute_result"
    },
    {
     "data": {
      "image/png": "[encoded data removed]",
      "text/plain": [
       "<Figure size 432x288 with 1 Axes>"
      ]
     },
     "metadata": {
      "needs_background": "light"
     },
     "output_type": "display_data"
    }
   ],
   "source": [
    "loo_results = calc_RN_LOO_iterate_r(X_train, y_train, r_min=min_radius,\n",
    "                                    r_max=max_radius, steps=100, track_lines=1000)\n",
    "x_radius = [r for (r, loo) in loo_results]\n",
    "y_loo = [loo for (r, loo) in loo_results]\n",
    "plt.scatter(x=x_radius, y=y_loo)"
   ]
  },
  {
   "cell_type": "code",
   "execution_count": 17,
   "metadata": {},
   "outputs": [
    {
     "name": "stdout",
     "output_type": "stream",
     "text": [
      "Lines processed: 1000\n",
      "Lines processed: 2000\n",
      "Lines processed: 3000\n"
     ]
    },
    {
     "data": {
      "text/plain": [
       "<matplotlib.collections.PathCollection at 0x1a2236f6d8>"
      ]
     },
     "execution_count": 17,
     "metadata": {},
     "output_type": "execute_result"
    },
    {
     "data": {
      "image/png": "[encoded data removed]",
      "text/plain": [
       "<Figure size 432x288 with 1 Axes>"
      ]
     },
     "metadata": {
      "needs_background": "light"
     },
     "output_type": "display_data"
    }
   ],
   "source": [
    "loo_results = calc_RN_LOO_iterate_r(X_train, y_train, r_min=min_radius, r_max=500, steps=100, track_lines=1000)\n",
    "x_radius = [r for (r, loo) in loo_results]\n",
    "y_loo = [loo for (r, loo) in loo_results]\n",
    "plt.scatter(x=x_radius, y=y_loo)"
   ]
  },
  {
   "cell_type": "code",
   "execution_count": 18,
   "metadata": {},
   "outputs": [
    {
     "name": "stdout",
     "output_type": "stream",
     "text": [
      "Lines processed: 1000\n",
      "Lines processed: 2000\n",
      "Lines processed: 3000\n"
     ]
    },
    {
     "data": {
      "text/plain": [
       "<matplotlib.collections.PathCollection at 0x1a22527fd0>"
      ]
     },
     "execution_count": 18,
     "metadata": {},
     "output_type": "execute_result"
    },
    {
     "data": {
      "image/png": "[encoded data removed]",
      "text/plain": [
       "<Figure size 432x288 with 1 Axes>"
      ]
     },
     "metadata": {
      "needs_background": "light"
     },
     "output_type": "display_data"
    }
   ],
   "source": [
    "loo_results = calc_RN_LOO_iterate_r(X_train, y_train, r_min=70, r_max=120, steps=1000, track_lines=1000)\n",
    "x_radius = [r for (r, loo) in loo_results]\n",
    "y_loo = [loo for (r, loo) in loo_results]\n",
    "plt.scatter(x=x_radius, y=y_loo)"
   ]
  },
  {
   "cell_type": "code",
   "execution_count": 19,
   "metadata": {
    "scrolled": true
   },
   "outputs": [
    {
     "name": "stdout",
     "output_type": "stream",
     "text": [
      "Best radius: 80.26026026026025, loo: 0.8070652173913043\n"
     ]
    }
   ],
   "source": [
    "best_params = sorted(loo_results, key=lambda x: x[1])[0]\n",
    "print(f\"Best radius: {best_params[0]}, loo: {best_params[1]}\")"
   ]
  },
  {
   "cell_type": "markdown",
   "metadata": {},
   "source": [
    "Here we can see, that the best radius is r=80.26. Let's calculate accuracy"
   ]
  },
  {
   "cell_type": "code",
   "execution_count": 24,
   "metadata": {},
   "outputs": [
    {
     "name": "stdout",
     "output_type": "stream",
     "text": [
      "radius=80.26, accuracy=0.6710097719869706\n"
     ]
    }
   ],
   "source": [
    "radius=80.26\n",
    "predicted_labels = []\n",
    "for i in range(y_test.shape[0]):\n",
    "    _, label = RadiusNeighbours(X_train, y_train, X_test[i, :], radius=radius)\n",
    "    predicted_labels.append(label)\n",
    "score = accuracy_score(y_test, predicted_labels)\n",
    "print(f'radius={radius}, accuracy={score}')"
   ]
  },
  {
   "cell_type": "markdown",
   "metadata": {},
   "source": [
    "#### 3. Scaled dataset: KNN + LOO"
   ]
  },
  {
   "cell_type": "code",
   "execution_count": 27,
   "metadata": {},
   "outputs": [],
   "source": [
    "scaler = MinMaxScaler()\n",
    "X_train_scaled = scaler.fit_transform(X_train)\n",
    "X_test_scaled = scaler.transform(X_test)"
   ]
  },
  {
   "cell_type": "code",
   "execution_count": 28,
   "metadata": {},
   "outputs": [
    {
     "name": "stdout",
     "output_type": "stream",
     "text": [
      "Lines processed: 1000\n",
      "Lines processed: 2000\n",
      "Lines processed: 3000\n",
      "k=1, loo=0.09293478260869566\n",
      "k=2, loo=0.10326086956521739\n",
      "k=3, loo=0.09918478260869565\n",
      "k=4, loo=0.10760869565217392\n",
      "k=5, loo=0.09918478260869565\n",
      "k=6, loo=0.10217391304347827\n",
      "k=7, loo=0.10163043478260869\n",
      "k=8, loo=0.10244565217391305\n",
      "k=9, loo=0.10135869565217391\n",
      "k=10, loo=0.10815217391304348\n"
     ]
    }
   ],
   "source": [
    "loo_results = calc_kNN_LOO_iterate_k(X_train_scaled, y_train, k_min=1, k_max=10, track_lines=1000)\n",
    "for k, loo in loo_results:\n",
    "    print(f\"k={k}, loo={loo}\")"
   ]
  },
  {
   "cell_type": "markdown",
   "metadata": {},
   "source": [
    "Here we can see that the best k is still k=1. Let's calculate accuracy"
   ]
  },
  {
   "cell_type": "code",
   "execution_count": 29,
   "metadata": {},
   "outputs": [
    {
     "name": "stdout",
     "output_type": "stream",
     "text": [
      "k=1, accuracy=0.8816503800217155\n"
     ]
    }
   ],
   "source": [
    "k=1\n",
    "predicted_labels = []\n",
    "for i in range(y_test.shape[0]):\n",
    "    _, label = kNN(X_train_scaled, y_train, X_test_scaled[i, :], k)\n",
    "    predicted_labels.append(label)\n",
    "score = accuracy_score(y_test, predicted_labels)\n",
    "print(f'k={k}, accuracy={score}')"
   ]
  },
  {
   "cell_type": "markdown",
   "metadata": {},
   "source": [
    "#### 4. Scaled dataset: RadiusNeighbours + LOO"
   ]
  },
  {
   "cell_type": "code",
   "execution_count": 30,
   "metadata": {},
   "outputs": [
    {
     "name": "stdout",
     "output_type": "stream",
     "text": [
      "Min radius: 0.00013481007020547416, max_radius: 2.976357922551212\n"
     ]
    }
   ],
   "source": [
    "min_radius, max_radius = get_minmax_distances(X_train_scaled)\n",
    "print(f\"Min radius: {min_radius}, max_radius: {max_radius}\")"
   ]
  },
  {
   "cell_type": "code",
   "execution_count": 31,
   "metadata": {},
   "outputs": [
    {
     "name": "stdout",
     "output_type": "stream",
     "text": [
      "Lines processed: 1000\n",
      "Lines processed: 2000\n",
      "Lines processed: 3000\n"
     ]
    },
    {
     "data": {
      "text/plain": [
       "<matplotlib.collections.PathCollection at 0x1a229831d0>"
      ]
     },
     "execution_count": 31,
     "metadata": {},
     "output_type": "execute_result"
    },
    {
     "data": {
      "image/png": "[encoded data removed]",
      "text/plain": [
       "<Figure size 432x288 with 1 Axes>"
      ]
     },
     "metadata": {
      "needs_background": "light"
     },
     "output_type": "display_data"
    }
   ],
   "source": [
    "loo_results = calc_RN_LOO_iterate_r(X_train_scaled, y_train, r_min=min_radius, r_max=max_radius,\n",
    "                                    steps=1000, track_lines=1000)\n",
    "x_radius = [r for (r, loo) in loo_results]\n",
    "y_loo = [loo for (r, loo) in loo_results]\n",
    "plt.scatter(x=x_radius, y=y_loo)"
   ]
  },
  {
   "cell_type": "code",
   "execution_count": 32,
   "metadata": {
    "scrolled": true
   },
   "outputs": [
    {
     "name": "stdout",
     "output_type": "stream",
     "text": [
      "Best radius: 0.2861382322906025, loo: 0.22527173913043477\n"
     ]
    }
   ],
   "source": [
    "best_params = sorted(loo_results, key=lambda x: x[1])[0]\n",
    "print(f\"Best radius: {best_params[0]}, loo: {best_params[1]}\")"
   ]
  },
  {
   "cell_type": "markdown",
   "metadata": {},
   "source": [
    "Here we can see, that the best radius is r=0.286. Let's calculate accuracy"
   ]
  },
  {
   "cell_type": "code",
   "execution_count": 33,
   "metadata": {},
   "outputs": [
    {
     "name": "stdout",
     "output_type": "stream",
     "text": [
      "radius=0.286, accuracy=0.751357220412595\n"
     ]
    }
   ],
   "source": [
    "radius=0.286\n",
    "predicted_labels = []\n",
    "for i in range(y_test.shape[0]):\n",
    "    _, label = RadiusNeighbours(X_train_scaled, y_train, X_test_scaled[i, :], radius=radius)\n",
    "    predicted_labels.append(label)\n",
    "score = accuracy_score(y_test, predicted_labels)\n",
    "print(f'radius={radius}, accuracy={score}')"
   ]
  },
  {
   "cell_type": "markdown",
   "metadata": {},
   "source": [
    "### Results for Spam dataset"
   ]
  },
  {
   "cell_type": "markdown",
   "metadata": {},
   "source": [
    "<table>\n",
    "    <tr><td></td><td>Params</td><td>LOO</td><td>Accuracy</td></tr>\n",
    "    <tr><td>KNN</td><td>k=1</td><td>0.183</td><td>0.808</td></tr>\n",
    "    <tr><td>KNN + Scaled dataset</td><td>k=1</td><td>0.093</td><td>0.882</td></tr>\n",
    "    <tr><td>RN</td><td>radius=80.26</td><td>0.807</td><td>0.671</td></tr>\n",
    "    <tr><td>RN + Scaled dataset</td><td>radius=0.286</td><td>0.225</td><td>0.751</td></tr>\n",
    "</table>"
   ]
  },
  {
   "cell_type": "markdown",
   "metadata": {},
   "source": [
    "## Cancer"
   ]
  },
  {
   "cell_type": "code",
   "execution_count": 35,
   "metadata": {
    "scrolled": true
   },
   "outputs": [
    {
     "data": {
      "text/html": [
       "<div>\n",
       "<style scoped>\n",
       "    .dataframe tbody tr th:only-of-type {\n",
       "        vertical-align: middle;\n",
       "    }\n",
       "\n",
       "    .dataframe tbody tr th {\n",
       "        vertical-align: top;\n",
       "    }\n",
       "\n",
       "    .dataframe thead th {\n",
       "        text-align: right;\n",
       "    }\n",
       "</style>\n",
       "<table border=\"1\" class=\"dataframe\">\n",
       "  <thead>\n",
       "    <tr style=\"text-align: right;\">\n",
       "      <th></th>\n",
       "      <th>label</th>\n",
       "      <th>1</th>\n",
       "      <th>2</th>\n",
       "      <th>3</th>\n",
       "      <th>4</th>\n",
       "      <th>5</th>\n",
       "      <th>6</th>\n",
       "      <th>7</th>\n",
       "      <th>8</th>\n",
       "      <th>9</th>\n",
       "      <th>...</th>\n",
       "      <th>21</th>\n",
       "      <th>22</th>\n",
       "      <th>23</th>\n",
       "      <th>24</th>\n",
       "      <th>25</th>\n",
       "      <th>26</th>\n",
       "      <th>27</th>\n",
       "      <th>28</th>\n",
       "      <th>29</th>\n",
       "      <th>30</th>\n",
       "    </tr>\n",
       "  </thead>\n",
       "  <tbody>\n",
       "    <tr>\n",
       "      <th>157</th>\n",
       "      <td>0</td>\n",
       "      <td>16.84</td>\n",
       "      <td>19.46</td>\n",
       "      <td>108.40</td>\n",
       "      <td>880.2</td>\n",
       "      <td>0.07445</td>\n",
       "      <td>0.07223</td>\n",
       "      <td>0.051500</td>\n",
       "      <td>0.027710</td>\n",
       "      <td>0.1844</td>\n",
       "      <td>...</td>\n",
       "      <td>18.22</td>\n",
       "      <td>28.07</td>\n",
       "      <td>120.30</td>\n",
       "      <td>1032.0</td>\n",
       "      <td>0.08774</td>\n",
       "      <td>0.17100</td>\n",
       "      <td>0.188200</td>\n",
       "      <td>0.08436</td>\n",
       "      <td>0.2527</td>\n",
       "      <td>0.05972</td>\n",
       "    </tr>\n",
       "    <tr>\n",
       "      <th>58</th>\n",
       "      <td>0</td>\n",
       "      <td>13.05</td>\n",
       "      <td>19.31</td>\n",
       "      <td>82.61</td>\n",
       "      <td>527.2</td>\n",
       "      <td>0.08060</td>\n",
       "      <td>0.03789</td>\n",
       "      <td>0.000692</td>\n",
       "      <td>0.004167</td>\n",
       "      <td>0.1819</td>\n",
       "      <td>...</td>\n",
       "      <td>14.23</td>\n",
       "      <td>22.25</td>\n",
       "      <td>90.24</td>\n",
       "      <td>624.1</td>\n",
       "      <td>0.10210</td>\n",
       "      <td>0.06191</td>\n",
       "      <td>0.001845</td>\n",
       "      <td>0.01111</td>\n",
       "      <td>0.2439</td>\n",
       "      <td>0.06289</td>\n",
       "    </tr>\n",
       "    <tr>\n",
       "      <th>433</th>\n",
       "      <td>1</td>\n",
       "      <td>18.82</td>\n",
       "      <td>21.97</td>\n",
       "      <td>123.70</td>\n",
       "      <td>1110.0</td>\n",
       "      <td>0.10180</td>\n",
       "      <td>0.13890</td>\n",
       "      <td>0.159400</td>\n",
       "      <td>0.087440</td>\n",
       "      <td>0.1943</td>\n",
       "      <td>...</td>\n",
       "      <td>22.66</td>\n",
       "      <td>30.93</td>\n",
       "      <td>145.30</td>\n",
       "      <td>1603.0</td>\n",
       "      <td>0.13900</td>\n",
       "      <td>0.34630</td>\n",
       "      <td>0.391200</td>\n",
       "      <td>0.17080</td>\n",
       "      <td>0.3007</td>\n",
       "      <td>0.08314</td>\n",
       "    </tr>\n",
       "    <tr>\n",
       "      <th>526</th>\n",
       "      <td>0</td>\n",
       "      <td>13.46</td>\n",
       "      <td>18.75</td>\n",
       "      <td>87.44</td>\n",
       "      <td>551.1</td>\n",
       "      <td>0.10750</td>\n",
       "      <td>0.11380</td>\n",
       "      <td>0.042010</td>\n",
       "      <td>0.031520</td>\n",
       "      <td>0.1723</td>\n",
       "      <td>...</td>\n",
       "      <td>15.35</td>\n",
       "      <td>25.16</td>\n",
       "      <td>101.90</td>\n",
       "      <td>719.8</td>\n",
       "      <td>0.16240</td>\n",
       "      <td>0.31240</td>\n",
       "      <td>0.265400</td>\n",
       "      <td>0.14270</td>\n",
       "      <td>0.3518</td>\n",
       "      <td>0.08665</td>\n",
       "    </tr>\n",
       "    <tr>\n",
       "      <th>15</th>\n",
       "      <td>1</td>\n",
       "      <td>14.54</td>\n",
       "      <td>27.54</td>\n",
       "      <td>96.73</td>\n",
       "      <td>658.8</td>\n",
       "      <td>0.11390</td>\n",
       "      <td>0.15950</td>\n",
       "      <td>0.163900</td>\n",
       "      <td>0.073640</td>\n",
       "      <td>0.2303</td>\n",
       "      <td>...</td>\n",
       "      <td>17.46</td>\n",
       "      <td>37.13</td>\n",
       "      <td>124.10</td>\n",
       "      <td>943.2</td>\n",
       "      <td>0.16780</td>\n",
       "      <td>0.65770</td>\n",
       "      <td>0.702600</td>\n",
       "      <td>0.17120</td>\n",
       "      <td>0.4218</td>\n",
       "      <td>0.13410</td>\n",
       "    </tr>\n",
       "  </tbody>\n",
       "</table>\n",
       "<p>5 rows × 31 columns</p>\n",
       "</div>"
      ],
      "text/plain": [
       "     label      1      2       3       4        5        6         7  \\\n",
       "157      0  16.84  19.46  108.40   880.2  0.07445  0.07223  0.051500   \n",
       "58       0  13.05  19.31   82.61   527.2  0.08060  0.03789  0.000692   \n",
       "433      1  18.82  21.97  123.70  1110.0  0.10180  0.13890  0.159400   \n",
       "526      0  13.46  18.75   87.44   551.1  0.10750  0.11380  0.042010   \n",
       "15       1  14.54  27.54   96.73   658.8  0.11390  0.15950  0.163900   \n",
       "\n",
       "            8       9   ...        21     22      23      24       25  \\\n",
       "157  0.027710  0.1844   ...     18.22  28.07  120.30  1032.0  0.08774   \n",
       "58   0.004167  0.1819   ...     14.23  22.25   90.24   624.1  0.10210   \n",
       "433  0.087440  0.1943   ...     22.66  30.93  145.30  1603.0  0.13900   \n",
       "526  0.031520  0.1723   ...     15.35  25.16  101.90   719.8  0.16240   \n",
       "15   0.073640  0.2303   ...     17.46  37.13  124.10   943.2  0.16780   \n",
       "\n",
       "          26        27       28      29       30  \n",
       "157  0.17100  0.188200  0.08436  0.2527  0.05972  \n",
       "58   0.06191  0.001845  0.01111  0.2439  0.06289  \n",
       "433  0.34630  0.391200  0.17080  0.3007  0.08314  \n",
       "526  0.31240  0.265400  0.14270  0.3518  0.08665  \n",
       "15   0.65770  0.702600  0.17120  0.4218  0.13410  \n",
       "\n",
       "[5 rows x 31 columns]"
      ]
     },
     "execution_count": 35,
     "metadata": {},
     "output_type": "execute_result"
    }
   ],
   "source": [
    "cancer_df = pd.read_csv('./cancer.csv')\n",
    "cancer_df['int_label'] = cancer_df.label.map({'M':1, 'B':0})\n",
    "cancer_df['label'] = cancer_df.int_label\n",
    "cancer_df.drop('int_label', axis=1, inplace=True)\n",
    "cancer_df.sample(5)"
   ]
  },
  {
   "cell_type": "markdown",
   "metadata": {},
   "source": [
    "Draw data (unnormalized)"
   ]
  },
  {
   "cell_type": "code",
   "execution_count": 36,
   "metadata": {},
   "outputs": [
    {
     "data": {
      "text/plain": [
       "Text(0, 0.5, 'component 2')"
      ]
     },
     "execution_count": 36,
     "metadata": {},
     "output_type": "execute_result"
    },
    {
     "data": {
      "image/png": "[encoded data removed]",
      "text/plain": [
       "<Figure size 432x288 with 1 Axes>"
      ]
     },
     "metadata": {
      "needs_background": "light"
     },
     "output_type": "display_data"
    }
   ],
   "source": [
    "X = cancer_df[cancer_df.columns.difference(['label'])].values\n",
    "y = cancer_df.label.values\n",
    "pca = PCA(n_components=2, random_state=42)\n",
    "pca_components = pca.fit_transform(X)\n",
    "plt.scatter(pca_components[:, 0], pca_components[:, 1], c=y)\n",
    "plt.xlabel('component 1')\n",
    "plt.ylabel('component 2')"
   ]
  },
  {
   "cell_type": "markdown",
   "metadata": {},
   "source": [
    "#### 1. kNN + LOO"
   ]
  },
  {
   "cell_type": "markdown",
   "metadata": {},
   "source": [
    "Split to test & train sets"
   ]
  },
  {
   "cell_type": "code",
   "execution_count": 37,
   "metadata": {},
   "outputs": [
    {
     "name": "stdout",
     "output_type": "stream",
     "text": [
      "Train set (X, y): (455, 30) (455,)\n",
      "Test set (X, y): (114, 30) (114,)\n"
     ]
    }
   ],
   "source": [
    "X = cancer_df[cancer_df.columns.difference(['label'])].values\n",
    "y = cancer_df.label.values\n",
    "X_train, X_test, y_train, y_test = train_test_split(X, y, test_size=0.2, random_state=42)\n",
    "print(\"Train set (X, y):\", X_train.shape, y_train.shape)\n",
    "print(\"Test set (X, y):\", X_test.shape, y_test.shape)"
   ]
  },
  {
   "cell_type": "markdown",
   "metadata": {},
   "source": [
    "Select best k with LOO"
   ]
  },
  {
   "cell_type": "code",
   "execution_count": 38,
   "metadata": {},
   "outputs": [
    {
     "name": "stdout",
     "output_type": "stream",
     "text": [
      "k=1, loo=0.09230769230769231\n",
      "k=2, loo=0.07912087912087912\n",
      "k=3, loo=0.07252747252747253\n",
      "k=4, loo=0.07472527472527472\n",
      "k=5, loo=0.08131868131868132\n",
      "k=6, loo=0.07472527472527472\n",
      "k=7, loo=0.07692307692307693\n",
      "k=8, loo=0.08351648351648351\n",
      "k=9, loo=0.08131868131868132\n",
      "k=10, loo=0.08351648351648351\n"
     ]
    }
   ],
   "source": [
    "loo_results = calc_kNN_LOO_iterate_k(X_train, y_train, k_min=1, k_max=10, track_lines=1000)\n",
    "for k, loo in loo_results:\n",
    "    print(f\"k={k}, loo={loo}\")"
   ]
  },
  {
   "cell_type": "markdown",
   "metadata": {},
   "source": [
    "Here we can see that the best k is k=3. Let's calculate accuracy"
   ]
  },
  {
   "cell_type": "code",
   "execution_count": 39,
   "metadata": {},
   "outputs": [
    {
     "name": "stdout",
     "output_type": "stream",
     "text": [
      "k=1, accuracy=0.9298245614035088\n"
     ]
    }
   ],
   "source": [
    "k=1\n",
    "predicted_labels = []\n",
    "for i in range(y_test.shape[0]):\n",
    "    _, label = kNN(X_train, y_train, X_test[i, :], k)\n",
    "    predicted_labels.append(label)\n",
    "score = accuracy_score(y_test, predicted_labels)\n",
    "print(f'k={k}, accuracy={score}')"
   ]
  },
  {
   "cell_type": "markdown",
   "metadata": {},
   "source": [
    "#### 2. RadiusNeighbours + LOO"
   ]
  },
  {
   "cell_type": "markdown",
   "metadata": {},
   "source": [
    "Find minimum and maximum radius"
   ]
  },
  {
   "cell_type": "code",
   "execution_count": 40,
   "metadata": {},
   "outputs": [
    {
     "name": "stdout",
     "output_type": "stream",
     "text": [
      "Min radius: 3.8159672659759636, max_radius: 4692.180010811616\n"
     ]
    }
   ],
   "source": [
    "min_radius, max_radius = get_minmax_distances(X_train)\n",
    "print(f\"Min radius: {min_radius}, max_radius: {max_radius}\")"
   ]
  },
  {
   "cell_type": "code",
   "execution_count": 41,
   "metadata": {},
   "outputs": [
    {
     "data": {
      "text/plain": [
       "<matplotlib.collections.PathCollection at 0x1a2390e6d8>"
      ]
     },
     "execution_count": 41,
     "metadata": {},
     "output_type": "execute_result"
    },
    {
     "data": {
      "image/png": "[encoded data removed]",
      "text/plain": [
       "<Figure size 432x288 with 1 Axes>"
      ]
     },
     "metadata": {
      "needs_background": "light"
     },
     "output_type": "display_data"
    }
   ],
   "source": [
    "loo_results = calc_RN_LOO_iterate_r(X_train, y_train, r_min=min_radius,\n",
    "                                    r_max=max_radius, steps=100, track_lines=1000)\n",
    "x_radius = [r for (r, loo) in loo_results]\n",
    "y_loo = [loo for (r, loo) in loo_results]\n",
    "plt.scatter(x=x_radius, y=y_loo)"
   ]
  },
  {
   "cell_type": "code",
   "execution_count": 42,
   "metadata": {},
   "outputs": [
    {
     "data": {
      "text/plain": [
       "<matplotlib.collections.PathCollection at 0x1a221615f8>"
      ]
     },
     "execution_count": 42,
     "metadata": {},
     "output_type": "execute_result"
    },
    {
     "data": {
      "image/png": "[encoded data removed]",
      "text/plain": [
       "<Figure size 432x288 with 1 Axes>"
      ]
     },
     "metadata": {
      "needs_background": "light"
     },
     "output_type": "display_data"
    }
   ],
   "source": [
    "loo_results = calc_RN_LOO_iterate_r(X_train, y_train, r_min=min_radius, r_max=350, steps=100, track_lines=1000)\n",
    "x_radius = [r for (r, loo) in loo_results]\n",
    "y_loo = [loo for (r, loo) in loo_results]\n",
    "plt.scatter(x=x_radius, y=y_loo)"
   ]
  },
  {
   "cell_type": "code",
   "execution_count": 43,
   "metadata": {},
   "outputs": [
    {
     "data": {
      "text/plain": [
       "<matplotlib.collections.PathCollection at 0x1a222d82b0>"
      ]
     },
     "execution_count": 43,
     "metadata": {},
     "output_type": "execute_result"
    },
    {
     "data": {
      "image/png": "[encoded data removed]",
      "text/plain": [
       "<Figure size 432x288 with 1 Axes>"
      ]
     },
     "metadata": {
      "needs_background": "light"
     },
     "output_type": "display_data"
    }
   ],
   "source": [
    "loo_results = calc_RN_LOO_iterate_r(X_train, y_train, r_min=200, r_max=300, steps=1000, track_lines=1000)\n",
    "x_radius = [r for (r, loo) in loo_results]\n",
    "y_loo = [loo for (r, loo) in loo_results]\n",
    "plt.scatter(x=x_radius, y=y_loo)"
   ]
  },
  {
   "cell_type": "code",
   "execution_count": 44,
   "metadata": {
    "scrolled": true
   },
   "outputs": [
    {
     "name": "stdout",
     "output_type": "stream",
     "text": [
      "Best radius: 245.54554554554556, loo: 0.10329670329670329\n"
     ]
    }
   ],
   "source": [
    "best_params = sorted(loo_results, key=lambda x: x[1])[0]\n",
    "print(f\"Best radius: {best_params[0]}, loo: {best_params[1]}\")"
   ]
  },
  {
   "cell_type": "markdown",
   "metadata": {},
   "source": [
    "Here we can see, that the best radius is r=245.546. Let's calculate accuracy"
   ]
  },
  {
   "cell_type": "code",
   "execution_count": 46,
   "metadata": {},
   "outputs": [
    {
     "name": "stdout",
     "output_type": "stream",
     "text": [
      "radius=245.545, accuracy=0.9385964912280702\n"
     ]
    }
   ],
   "source": [
    "radius=245.545\n",
    "predicted_labels = []\n",
    "for i in range(y_test.shape[0]):\n",
    "    _, label = RadiusNeighbours(X_train, y_train, X_test[i, :], radius=radius)\n",
    "    predicted_labels.append(label)\n",
    "score = accuracy_score(y_test, predicted_labels)\n",
    "print(f'radius={radius}, accuracy={score}')"
   ]
  },
  {
   "cell_type": "markdown",
   "metadata": {},
   "source": [
    "#### 3. Scaled dataset: KNN + LOO"
   ]
  },
  {
   "cell_type": "code",
   "execution_count": 47,
   "metadata": {},
   "outputs": [],
   "source": [
    "scaler = MinMaxScaler()\n",
    "X_train_scaled = scaler.fit_transform(X_train)\n",
    "X_test_scaled = scaler.transform(X_test)"
   ]
  },
  {
   "cell_type": "code",
   "execution_count": 48,
   "metadata": {},
   "outputs": [
    {
     "name": "stdout",
     "output_type": "stream",
     "text": [
      "k=1, loo=0.03736263736263736\n",
      "k=2, loo=0.046153846153846156\n",
      "k=3, loo=0.035164835164835165\n",
      "k=4, loo=0.035164835164835165\n",
      "k=5, loo=0.03736263736263736\n",
      "k=6, loo=0.04395604395604396\n",
      "k=7, loo=0.03956043956043956\n",
      "k=8, loo=0.03736263736263736\n",
      "k=9, loo=0.03296703296703297\n",
      "k=10, loo=0.03956043956043956\n"
     ]
    }
   ],
   "source": [
    "loo_results = calc_kNN_LOO_iterate_k(X_train_scaled, y_train, k_min=1, k_max=10, track_lines=1000)\n",
    "for k, loo in loo_results:\n",
    "    print(f\"k={k}, loo={loo}\")"
   ]
  },
  {
   "cell_type": "markdown",
   "metadata": {},
   "source": [
    "Here we can see that the best k is still k=3. Let's calculate accuracy"
   ]
  },
  {
   "cell_type": "code",
   "execution_count": 49,
   "metadata": {},
   "outputs": [
    {
     "name": "stdout",
     "output_type": "stream",
     "text": [
      "k=3, accuracy=0.9649122807017544\n"
     ]
    }
   ],
   "source": [
    "k=3\n",
    "predicted_labels = []\n",
    "for i in range(y_test.shape[0]):\n",
    "    _, label = kNN(X_train_scaled, y_train, X_test_scaled[i, :], k)\n",
    "    predicted_labels.append(label)\n",
    "score = accuracy_score(y_test, predicted_labels)\n",
    "print(f'k={k}, accuracy={score}')"
   ]
  },
  {
   "cell_type": "markdown",
   "metadata": {},
   "source": [
    "#### 4. Scaled dataset: RadiusNeighbours + LOO"
   ]
  },
  {
   "cell_type": "code",
   "execution_count": 50,
   "metadata": {},
   "outputs": [
    {
     "name": "stdout",
     "output_type": "stream",
     "text": [
      "Min radius: 0.16793795317542295, max_radius: 3.5231926343268385\n"
     ]
    }
   ],
   "source": [
    "min_radius, max_radius = get_minmax_distances(X_train_scaled)\n",
    "print(f\"Min radius: {min_radius}, max_radius: {max_radius}\")"
   ]
  },
  {
   "cell_type": "code",
   "execution_count": 51,
   "metadata": {},
   "outputs": [
    {
     "data": {
      "text/plain": [
       "<matplotlib.collections.PathCollection at 0x1a229bba58>"
      ]
     },
     "execution_count": 51,
     "metadata": {},
     "output_type": "execute_result"
    },
    {
     "data": {
      "image/png": "[encoded data removed]",
      "text/plain": [
       "<Figure size 432x288 with 1 Axes>"
      ]
     },
     "metadata": {
      "needs_background": "light"
     },
     "output_type": "display_data"
    }
   ],
   "source": [
    "loo_results = calc_RN_LOO_iterate_r(X_train_scaled, y_train, r_min=min_radius, r_max=max_radius,\n",
    "                                    steps=1000, track_lines=1000)\n",
    "x_radius = [r for (r, loo) in loo_results]\n",
    "y_loo = [loo for (r, loo) in loo_results]\n",
    "plt.scatter(x=x_radius, y=y_loo)"
   ]
  },
  {
   "cell_type": "code",
   "execution_count": 52,
   "metadata": {
    "scrolled": true
   },
   "outputs": [
    {
     "name": "stdout",
     "output_type": "stream",
     "text": [
      "Best radius: 0.8094330924145825, loo: 0.09230769230769231\n"
     ]
    }
   ],
   "source": [
    "best_params = sorted(loo_results, key=lambda x: x[1])[0]\n",
    "print(f\"Best radius: {best_params[0]}, loo: {best_params[1]}\")"
   ]
  },
  {
   "cell_type": "markdown",
   "metadata": {},
   "source": [
    "Here we can see, that the best radius is r=0.8094. Let's calculate accuracy"
   ]
  },
  {
   "cell_type": "code",
   "execution_count": 59,
   "metadata": {},
   "outputs": [
    {
     "name": "stdout",
     "output_type": "stream",
     "text": [
      "radius=0.8094, accuracy=0.8947368421052632\n"
     ]
    }
   ],
   "source": [
    "radius=0.8094\n",
    "predicted_labels = []\n",
    "for i in range(y_test.shape[0]):\n",
    "    _, label = RadiusNeighbours(X_train_scaled, y_train, X_test_scaled[i, :], radius=radius)\n",
    "    predicted_labels.append(label)\n",
    "score = accuracy_score(y_test, predicted_labels)\n",
    "print(f'radius={radius}, accuracy={score}')"
   ]
  },
  {
   "cell_type": "markdown",
   "metadata": {},
   "source": [
    "### Results for Cancer dataset"
   ]
  },
  {
   "cell_type": "markdown",
   "metadata": {},
   "source": [
    "<table>\n",
    "    <tr><td></td><td>Params</td><td>LOO</td><td>Accuracy</td></tr>\n",
    "    <tr><td>KNN</td><td>k=3</td><td>0.073</td><td>0.93</td></tr>\n",
    "    <tr><td>KNN + Scaled dataset</td><td>k=3</td><td>0.035</td><td>0.965</td></tr>\n",
    "    <tr><td>RN</td><td>radius=245.545</td><td>0.103</td><td>0.939</td></tr>\n",
    "    <tr><td>RN + Scaled dataset</td><td>radius=0.8094</td><td>0.092</td><td>0.895</td></tr>\n",
    "</table>"
   ]
  }
 ],
 "metadata": {
  "kernelspec": {
   "display_name": "Python 3",
   "language": "python",
   "name": "python3"
  },
  "language_info": {
   "codemirror_mode": {
    "name": "ipython",
    "version": 3
   },
   "file_extension": ".py",
   "mimetype": "text/x-python",
   "name": "python",
   "nbconvert_exporter": "python",
   "pygments_lexer": "ipython3",
   "version": "3.7.1"
  }
 },
 "nbformat": 4,
 "nbformat_minor": 2
}
