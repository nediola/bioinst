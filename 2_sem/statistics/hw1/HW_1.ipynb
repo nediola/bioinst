{
 "cells": [
  {
   "cell_type": "code",
   "execution_count": 399,
   "metadata": {},
   "outputs": [
    {
     "data": {
      "text/html": [
       "        <script type=\"text/javascript\">\n",
       "        window.PlotlyConfig = {MathJaxConfig: 'local'};\n",
       "        if (window.MathJax) {MathJax.Hub.Config({SVG: {font: \"STIX-Web\"}});}\n",
       "        if (typeof require !== 'undefined') {\n",
       "        require.undef(\"plotly\");\n",
       "        requirejs.config({\n",
       "            paths: {\n",
       "                'plotly': ['https://cdn.plot.ly/plotly-latest.min']\n",
       "            }\n",
       "        });\n",
       "        require(['plotly'], function(Plotly) {\n",
       "            window._Plotly = Plotly;\n",
       "        });\n",
       "        }\n",
       "        </script>\n",
       "        "
      ]
     },
     "metadata": {},
     "output_type": "display_data"
    }
   ],
   "source": [
    "import pandas as pd\n",
    "import numpy as np\n",
    "import seaborn as sns\n",
    "from scipy import stats, special\n",
    "\n",
    "from plotly import tools\n",
    "from plotly.offline import download_plotlyjs, init_notebook_mode, plot, iplot\n",
    "import plotly.graph_objs as go\n",
    "init_notebook_mode(connected=True)"
   ]
  },
  {
   "cell_type": "markdown",
   "metadata": {},
   "source": [
    "#### Task 1"
   ]
  },
  {
   "cell_type": "code",
   "execution_count": 388,
   "metadata": {},
   "outputs": [],
   "source": [
    "mouses = np.array([[5, 13], [9, 34], [18, 40], [8, 13]])"
   ]
  },
  {
   "cell_type": "code",
   "execution_count": 534,
   "metadata": {},
   "outputs": [],
   "source": [
    "X_gene = []\n",
    "Y_intellect = []\n",
    "for i in range(mouses.shape[0]):\n",
    "    for _ in range(mouses[i][0]):\n",
    "        X_gene.append(1)\n",
    "        Y_intellect.append(i)\n",
    "    for _ in range(mouses[i][1]):\n",
    "        X_gene.append(0)\n",
    "        Y_intellect.append(i)\n",
    "\n",
    "X_gene = np.array(X_gene)\n",
    "Y_intellect = np.array(Y_intellect)"
   ]
  },
  {
   "cell_type": "markdown",
   "metadata": {},
   "source": [
    "1a. Метод Хи-квадрат (не можем отклонить гипотезу H0)"
   ]
  },
  {
   "cell_type": "code",
   "execution_count": 631,
   "metadata": {},
   "outputs": [],
   "source": [
    "def check_hypothesis_chi_squared(X, p=0.975):\n",
    "    n = X.sum()\n",
    "    chi_squared_sum = 0\n",
    "    for i in range(X.shape[0]):\n",
    "        for j in range(X.shape[1]):\n",
    "            chi_squared_sum += X[i, j]**2/(X[i,:].sum() * X[:,j].sum())\n",
    "    chi_squared = n * (chi_squared_sum - 1)\n",
    "    chi_squared_criteria = stats.chi2.ppf(p, (X.shape[0]-1) * (X.shape[1]-1))\n",
    "    if chi_squared > chi_squared_criteria:\n",
    "        print(\"H0 is rejected!\")\n",
    "    else:\n",
    "        print(\"H0 can't be rejected!\")\n",
    "    print(f\"chi_squared: {chi_squared}, criteria: {chi_squared_criteria}\")"
   ]
  },
  {
   "cell_type": "code",
   "execution_count": 632,
   "metadata": {},
   "outputs": [
    {
     "name": "stdout",
     "output_type": "stream",
     "text": [
      "H0 can't be rejected!\n",
      "chi_squared: 2.3415352401319023, criteria: 9.348403604496148\n"
     ]
    }
   ],
   "source": [
    "check_hypothesis_chi_squared(mouses)"
   ]
  },
  {
   "cell_type": "markdown",
   "metadata": {},
   "source": [
    "1b. Коэффициент корреляции Пирсона (не можем отклонить гипотезу H0, но тоже не имеет смысла применять Пирсона к этим данным)"
   ]
  },
  {
   "cell_type": "code",
   "execution_count": 538,
   "metadata": {},
   "outputs": [],
   "source": [
    "def check_hypothesis_pearson_correlation(X, Y, p=0.975):\n",
    "    pearson_coef = np.mean((X - np.mean(X))*(Y - np.mean(Y)))/(np.std(X)*np.std(Y))\n",
    "    n = X.shape[0]\n",
    "    t = pearson_coef * np.sqrt(n-2) / (np.sqrt(1-pearson_coef**2))\n",
    "    t_criteria = stats.t.ppf(p, n-2)\n",
    "    if np.abs(t) > t_criteria:\n",
    "        print(\"H0 is rejected!\")\n",
    "    else:\n",
    "        print(\"H0 can't be rejected!\")\n",
    "    print(f\"pearson_coef: {pearson_coef}, t: {t}, criteria: {t_criteria}\")"
   ]
  },
  {
   "cell_type": "code",
   "execution_count": 539,
   "metadata": {},
   "outputs": [
    {
     "name": "stdout",
     "output_type": "stream",
     "text": [
      "H0 can't be rejected!\n",
      "pearson_coef: 0.09850243798170102, t: 1.162796543110034, criteria: 1.9773035420129161\n"
     ]
    }
   ],
   "source": [
    "check_hypothesis_pearson_correlation(X_gene, Y_intellect)"
   ]
  },
  {
   "cell_type": "markdown",
   "metadata": {},
   "source": [
    "Проверим правильность посчитанного коэффициента корреляции Пирсона"
   ]
  },
  {
   "cell_type": "code",
   "execution_count": 541,
   "metadata": {},
   "outputs": [
    {
     "data": {
      "text/plain": [
       "0.09850243798170102"
      ]
     },
     "execution_count": 541,
     "metadata": {},
     "output_type": "execute_result"
    }
   ],
   "source": [
    "stats.pearsonr(X_gene, Y_intellect)[0]"
   ]
  },
  {
   "cell_type": "markdown",
   "metadata": {},
   "source": [
    "1с. Коэффициент корреляции Спирмена (не можем отклонить гипотезу H0)"
   ]
  },
  {
   "cell_type": "code",
   "execution_count": 542,
   "metadata": {},
   "outputs": [],
   "source": [
    "from collections import Counter\n",
    "\n",
    "def check_hypothesis_spearman_correlation(X, Y, p=0.975):    \n",
    "    X_cnt = Counter(X)\n",
    "    Y_cnt = Counter(Y)\n",
    "    X_ranks = {}\n",
    "    Y_ranks = {}\n",
    "    x_last_rank = 1\n",
    "    y_last_rank = 1\n",
    "    for value, cnt in sorted(X_cnt.items()):\n",
    "        if cnt == 1:\n",
    "            X_ranks[value] = x_last_rank\n",
    "            x_last_rank += 1\n",
    "        else:\n",
    "            X_ranks[value] = (x_last_rank + (x_last_rank + cnt) - 1)/2\n",
    "            x_last_rank += cnt\n",
    "    for value, cnt in sorted(Y_cnt.items()):\n",
    "        if cnt == 1:\n",
    "            Y_ranks[value] = y_last_rank\n",
    "            y_last_rank += 1\n",
    "        else:\n",
    "            Y_ranks[value] = (y_last_rank + (y_last_rank + cnt) - 1)/2\n",
    "            y_last_rank += cnt\n",
    "\n",
    "    X_ranks_v = np.array([X_ranks[value] for value in X])\n",
    "    Y_ranks_v = np.array([Y_ranks[value] for value in Y])\n",
    "    x_diff = X_ranks_v - np.mean(X_ranks_v)\n",
    "    y_diff = Y_ranks_v - np.mean(Y_ranks_v)\n",
    "    spearman_coef = np.sum(x_diff*y_diff)/(np.sqrt(np.sum(x_diff**2)*np.sum(y_diff**2)))\n",
    "    n = X.shape[0]\n",
    "    criteria = np.sqrt(n-1) * spearman_coef\n",
    "    norm_criteria = stats.norm.ppf(p)\n",
    "    if np.abs(criteria) > norm_criteria:\n",
    "        print(\"H0 is rejected!\")\n",
    "    else:\n",
    "        print(\"H0 can't be rejected!\")\n",
    "    print(f\"spearman_coef: {spearman_coef}, spearman_criteria: {criteria}, norm_criteria: {norm_criteria}\")"
   ]
  },
  {
   "cell_type": "code",
   "execution_count": 543,
   "metadata": {},
   "outputs": [
    {
     "name": "stdout",
     "output_type": "stream",
     "text": [
      "H0 can't be rejected!\n",
      "spearman_coef: 0.10610827460866344, spearman_criteria: 1.2509981078000985, norm_criteria: 1.959963984540054\n"
     ]
    }
   ],
   "source": [
    "check_hypothesis_spearman_correlation(X_gene, Y_intellect)"
   ]
  },
  {
   "cell_type": "markdown",
   "metadata": {},
   "source": [
    "Проверим правильность посчитанного коэффициента корреляции Спирмена"
   ]
  },
  {
   "cell_type": "code",
   "execution_count": 545,
   "metadata": {},
   "outputs": [
    {
     "data": {
      "text/plain": [
       "0.10610827460866344"
      ]
     },
     "execution_count": 545,
     "metadata": {},
     "output_type": "execute_result"
    }
   ],
   "source": [
    "stats.spearmanr(X_gene, Y_intellect)[0]"
   ]
  },
  {
   "cell_type": "markdown",
   "metadata": {},
   "source": [
    "1d. Коэффициент корелляции Кендалла\n",
    "\n",
    "По алгоритму расчета tau-B из Википедии гипотеза H0 отклонилась: https://en.wikipedia.org/wiki/Kendall_rank_correlation_coefficient\n",
    "\n",
    "По алгоритму, реализованному в scipy гипотеза H0 не отклонилась.\n",
    "\n",
    "Ответ: не можем отклонить гипотезу H0\n",
    "\n",
    "Алгоритм из лекций давал непохожий на эти две реализации результат."
   ]
  },
  {
   "cell_type": "code",
   "execution_count": 621,
   "metadata": {},
   "outputs": [],
   "source": [
    "def check_hypothesis_kendall_correlation(X, Y, p=0.975):\n",
    "    X_cnt = Counter(X)\n",
    "    Y_cnt = Counter(Y)\n",
    "    X_ranks = {}\n",
    "    Y_ranks = {}\n",
    "    x_last_rank = 1\n",
    "    y_last_rank = 1\n",
    "    for value, cnt in sorted(X_cnt.items()):\n",
    "        if cnt == 1:\n",
    "            X_ranks[value] = x_last_rank\n",
    "            x_last_rank += 1\n",
    "        else:\n",
    "            X_ranks[value] = (x_last_rank + (x_last_rank + cnt) - 1)/2\n",
    "            x_last_rank += cnt\n",
    "    for value, cnt in sorted(Y_cnt.items()):\n",
    "        if cnt == 1:\n",
    "            Y_ranks[value] = y_last_rank\n",
    "            y_last_rank += 1\n",
    "        else:\n",
    "            Y_ranks[value] = (y_last_rank + (y_last_rank + cnt) - 1)/2\n",
    "            y_last_rank += cnt\n",
    "\n",
    "    X_ranks_v = np.array([X_ranks[value] for value in X])\n",
    "    Y_ranks_v = np.array([Y_ranks[value] for value in Y])\n",
    "    data = np.column_stack((X, Y, X_ranks_v, Y_ranks_v))\n",
    "    data.view('i8,i8,i8,i8').sort(order=['f0','f1'], axis=0)\n",
    "    conc_n = 0\n",
    "    disc_n = 0\n",
    "    n = data.shape[0]\n",
    "    for i in range(0, n-1):\n",
    "        for j in range(i+1, n):\n",
    "            if (data[i][2] == data[j][2]) or (data[i][3] == data[j][3]):\n",
    "                continue\n",
    "            if (data[i][2] < data[j][2]) == (data[i][3] < data[j][3]):\n",
    "                conc_n += 1\n",
    "            else:\n",
    "                disc_n += 1\n",
    "    n0 = n*(n-1)/2\n",
    "    n1 = np.sum([cnt*(cnt-1)/2 for tie, cnt in X_cnt.items()])\n",
    "    n2 = np.sum([cnt*(cnt-1)/2 for tie, cnt in X_cnt.items()])           \n",
    "    tau = (conc_n - disc_n)/np.sqrt((n0-n1)*(n0-n2))    \n",
    "    criteria = stats.norm.ppf(p, loc=0, scale=np.sqrt(2*(2*n+5)/(9*n*(n-1))))\n",
    "    if np.abs(tau) > criteria:\n",
    "        print(\"H0 is rejected!\")\n",
    "    else:\n",
    "        print(\"H0 can't be rejected!\")\n",
    "    print(f\"kendall_tau: {tau}, criteria: {criteria}\")"
   ]
  },
  {
   "cell_type": "code",
   "execution_count": 622,
   "metadata": {},
   "outputs": [
    {
     "name": "stdout",
     "output_type": "stream",
     "text": [
      "H0 is rejected!\n",
      "kendall_tau: 0.12825, criteria: 0.11181314062353948\n"
     ]
    }
   ],
   "source": [
    "check_hypothesis_kendall_correlation(X_gene, Y_intellect)"
   ]
  },
  {
   "cell_type": "code",
   "execution_count": 548,
   "metadata": {},
   "outputs": [
    {
     "data": {
      "text/plain": [
       "KendalltauResult(correlation=0.09828379769397348, pvalue=0.21093516779416832)"
      ]
     },
     "execution_count": 548,
     "metadata": {},
     "output_type": "execute_result"
    }
   ],
   "source": [
    "stats.kendalltau(X_gene, Y_intellect)"
   ]
  },
  {
   "cell_type": "markdown",
   "metadata": {},
   "source": [
    "#### Task 2"
   ]
  },
  {
   "cell_type": "markdown",
   "metadata": {},
   "source": [
    "Выборки, на которых разница между коэффициентами корреляции Пирсона и Спирмена больше 1."
   ]
  },
  {
   "cell_type": "code",
   "execution_count": 478,
   "metadata": {},
   "outputs": [
    {
     "data": {
      "application/vnd.plotly.v1+json": {
       "config": {
        "linkText": "Export to plot.ly",
        "plotlyServerURL": "https://plot.ly",
        "showLink": false
       },
       "data": [
        {
         "type": "scatter",
         "x": [
          0,
          1,
          2,
          3,
          4,
          5,
          6,
          7,
          8,
          9,
          10,
          11,
          12,
          13,
          14,
          15
         ],
         "y": [
          15,
          14,
          13,
          12,
          11,
          10,
          9,
          8,
          7,
          6,
          5,
          4,
          3,
          2,
          1,
          0
         ]
        },
        {
         "type": "scatter",
         "x": [
          0,
          1,
          2,
          3,
          4,
          5,
          6,
          7,
          8,
          9,
          10,
          11,
          12,
          13,
          14,
          15
         ],
         "y": [
          1500,
          1,
          2,
          3,
          4,
          5,
          6,
          7,
          8,
          9,
          10,
          11,
          12,
          13,
          14,
          15
         ]
        }
       ],
       "layout": {
        "template": {
         "data": {
          "bar": [
           {
            "error_x": {
             "color": "#2a3f5f"
            },
            "error_y": {
             "color": "#2a3f5f"
            },
            "marker": {
             "line": {
              "color": "#E5ECF6",
              "width": 0.5
             }
            },
            "type": "bar"
           }
          ],
          "barpolar": [
           {
            "marker": {
             "line": {
              "color": "#E5ECF6",
              "width": 0.5
             }
            },
            "type": "barpolar"
           }
          ],
          "carpet": [
           {
            "aaxis": {
             "endlinecolor": "#2a3f5f",
             "gridcolor": "white",
             "linecolor": "white",
             "minorgridcolor": "white",
             "startlinecolor": "#2a3f5f"
            },
            "baxis": {
             "endlinecolor": "#2a3f5f",
             "gridcolor": "white",
             "linecolor": "white",
             "minorgridcolor": "white",
             "startlinecolor": "#2a3f5f"
            },
            "type": "carpet"
           }
          ],
          "choropleth": [
           {
            "colorbar": {
             "outlinewidth": 0,
             "ticks": ""
            },
            "type": "choropleth"
           }
          ],
          "contour": [
           {
            "colorbar": {
             "outlinewidth": 0,
             "ticks": ""
            },
            "colorscale": [
             [
              0,
              "#0d0887"
             ],
             [
              0.1111111111111111,
              "#46039f"
             ],
             [
              0.2222222222222222,
              "#7201a8"
             ],
             [
              0.3333333333333333,
              "#9c179e"
             ],
             [
              0.4444444444444444,
              "#bd3786"
             ],
             [
              0.5555555555555556,
              "#d8576b"
             ],
             [
              0.6666666666666666,
              "#ed7953"
             ],
             [
              0.7777777777777778,
              "#fb9f3a"
             ],
             [
              0.8888888888888888,
              "#fdca26"
             ],
             [
              1,
              "#f0f921"
             ]
            ],
            "type": "contour"
           }
          ],
          "contourcarpet": [
           {
            "colorbar": {
             "outlinewidth": 0,
             "ticks": ""
            },
            "type": "contourcarpet"
           }
          ],
          "heatmap": [
           {
            "colorbar": {
             "outlinewidth": 0,
             "ticks": ""
            },
            "colorscale": [
             [
              0,
              "#0d0887"
             ],
             [
              0.1111111111111111,
              "#46039f"
             ],
             [
              0.2222222222222222,
              "#7201a8"
             ],
             [
              0.3333333333333333,
              "#9c179e"
             ],
             [
              0.4444444444444444,
              "#bd3786"
             ],
             [
              0.5555555555555556,
              "#d8576b"
             ],
             [
              0.6666666666666666,
              "#ed7953"
             ],
             [
              0.7777777777777778,
              "#fb9f3a"
             ],
             [
              0.8888888888888888,
              "#fdca26"
             ],
             [
              1,
              "#f0f921"
             ]
            ],
            "type": "heatmap"
           }
          ],
          "heatmapgl": [
           {
            "colorbar": {
             "outlinewidth": 0,
             "ticks": ""
            },
            "colorscale": [
             [
              0,
              "#0d0887"
             ],
             [
              0.1111111111111111,
              "#46039f"
             ],
             [
              0.2222222222222222,
              "#7201a8"
             ],
             [
              0.3333333333333333,
              "#9c179e"
             ],
             [
              0.4444444444444444,
              "#bd3786"
             ],
             [
              0.5555555555555556,
              "#d8576b"
             ],
             [
              0.6666666666666666,
              "#ed7953"
             ],
             [
              0.7777777777777778,
              "#fb9f3a"
             ],
             [
              0.8888888888888888,
              "#fdca26"
             ],
             [
              1,
              "#f0f921"
             ]
            ],
            "type": "heatmapgl"
           }
          ],
          "histogram": [
           {
            "marker": {
             "colorbar": {
              "outlinewidth": 0,
              "ticks": ""
             }
            },
            "type": "histogram"
           }
          ],
          "histogram2d": [
           {
            "colorbar": {
             "outlinewidth": 0,
             "ticks": ""
            },
            "colorscale": [
             [
              0,
              "#0d0887"
             ],
             [
              0.1111111111111111,
              "#46039f"
             ],
             [
              0.2222222222222222,
              "#7201a8"
             ],
             [
              0.3333333333333333,
              "#9c179e"
             ],
             [
              0.4444444444444444,
              "#bd3786"
             ],
             [
              0.5555555555555556,
              "#d8576b"
             ],
             [
              0.6666666666666666,
              "#ed7953"
             ],
             [
              0.7777777777777778,
              "#fb9f3a"
             ],
             [
              0.8888888888888888,
              "#fdca26"
             ],
             [
              1,
              "#f0f921"
             ]
            ],
            "type": "histogram2d"
           }
          ],
          "histogram2dcontour": [
           {
            "colorbar": {
             "outlinewidth": 0,
             "ticks": ""
            },
            "colorscale": [
             [
              0,
              "#0d0887"
             ],
             [
              0.1111111111111111,
              "#46039f"
             ],
             [
              0.2222222222222222,
              "#7201a8"
             ],
             [
              0.3333333333333333,
              "#9c179e"
             ],
             [
              0.4444444444444444,
              "#bd3786"
             ],
             [
              0.5555555555555556,
              "#d8576b"
             ],
             [
              0.6666666666666666,
              "#ed7953"
             ],
             [
              0.7777777777777778,
              "#fb9f3a"
             ],
             [
              0.8888888888888888,
              "#fdca26"
             ],
             [
              1,
              "#f0f921"
             ]
            ],
            "type": "histogram2dcontour"
           }
          ],
          "mesh3d": [
           {
            "colorbar": {
             "outlinewidth": 0,
             "ticks": ""
            },
            "type": "mesh3d"
           }
          ],
          "parcoords": [
           {
            "line": {
             "colorbar": {
              "outlinewidth": 0,
              "ticks": ""
             }
            },
            "type": "parcoords"
           }
          ],
          "scatter": [
           {
            "marker": {
             "colorbar": {
              "outlinewidth": 0,
              "ticks": ""
             }
            },
            "type": "scatter"
           }
          ],
          "scatter3d": [
           {
            "line": {
             "colorbar": {
              "outlinewidth": 0,
              "ticks": ""
             }
            },
            "marker": {
             "colorbar": {
              "outlinewidth": 0,
              "ticks": ""
             }
            },
            "type": "scatter3d"
           }
          ],
          "scattercarpet": [
           {
            "marker": {
             "colorbar": {
              "outlinewidth": 0,
              "ticks": ""
             }
            },
            "type": "scattercarpet"
           }
          ],
          "scattergeo": [
           {
            "marker": {
             "colorbar": {
              "outlinewidth": 0,
              "ticks": ""
             }
            },
            "type": "scattergeo"
           }
          ],
          "scattergl": [
           {
            "marker": {
             "colorbar": {
              "outlinewidth": 0,
              "ticks": ""
             }
            },
            "type": "scattergl"
           }
          ],
          "scattermapbox": [
           {
            "marker": {
             "colorbar": {
              "outlinewidth": 0,
              "ticks": ""
             }
            },
            "type": "scattermapbox"
           }
          ],
          "scatterpolar": [
           {
            "marker": {
             "colorbar": {
              "outlinewidth": 0,
              "ticks": ""
             }
            },
            "type": "scatterpolar"
           }
          ],
          "scatterpolargl": [
           {
            "marker": {
             "colorbar": {
              "outlinewidth": 0,
              "ticks": ""
             }
            },
            "type": "scatterpolargl"
           }
          ],
          "scatterternary": [
           {
            "marker": {
             "colorbar": {
              "outlinewidth": 0,
              "ticks": ""
             }
            },
            "type": "scatterternary"
           }
          ],
          "surface": [
           {
            "colorbar": {
             "outlinewidth": 0,
             "ticks": ""
            },
            "colorscale": [
             [
              0,
              "#0d0887"
             ],
             [
              0.1111111111111111,
              "#46039f"
             ],
             [
              0.2222222222222222,
              "#7201a8"
             ],
             [
              0.3333333333333333,
              "#9c179e"
             ],
             [
              0.4444444444444444,
              "#bd3786"
             ],
             [
              0.5555555555555556,
              "#d8576b"
             ],
             [
              0.6666666666666666,
              "#ed7953"
             ],
             [
              0.7777777777777778,
              "#fb9f3a"
             ],
             [
              0.8888888888888888,
              "#fdca26"
             ],
             [
              1,
              "#f0f921"
             ]
            ],
            "type": "surface"
           }
          ],
          "table": [
           {
            "cells": {
             "fill": {
              "color": "#EBF0F8"
             },
             "line": {
              "color": "white"
             }
            },
            "header": {
             "fill": {
              "color": "#C8D4E3"
             },
             "line": {
              "color": "white"
             }
            },
            "type": "table"
           }
          ]
         },
         "layout": {
          "annotationdefaults": {
           "arrowcolor": "#2a3f5f",
           "arrowhead": 0,
           "arrowwidth": 1
          },
          "colorscale": {
           "diverging": [
            [
             0,
             "#8e0152"
            ],
            [
             0.1,
             "#c51b7d"
            ],
            [
             0.2,
             "#de77ae"
            ],
            [
             0.3,
             "#f1b6da"
            ],
            [
             0.4,
             "#fde0ef"
            ],
            [
             0.5,
             "#f7f7f7"
            ],
            [
             0.6,
             "#e6f5d0"
            ],
            [
             0.7,
             "#b8e186"
            ],
            [
             0.8,
             "#7fbc41"
            ],
            [
             0.9,
             "#4d9221"
            ],
            [
             1,
             "#276419"
            ]
           ],
           "sequential": [
            [
             0,
             "#0d0887"
            ],
            [
             0.1111111111111111,
             "#46039f"
            ],
            [
             0.2222222222222222,
             "#7201a8"
            ],
            [
             0.3333333333333333,
             "#9c179e"
            ],
            [
             0.4444444444444444,
             "#bd3786"
            ],
            [
             0.5555555555555556,
             "#d8576b"
            ],
            [
             0.6666666666666666,
             "#ed7953"
            ],
            [
             0.7777777777777778,
             "#fb9f3a"
            ],
            [
             0.8888888888888888,
             "#fdca26"
            ],
            [
             1,
             "#f0f921"
            ]
           ],
           "sequentialminus": [
            [
             0,
             "#0d0887"
            ],
            [
             0.1111111111111111,
             "#46039f"
            ],
            [
             0.2222222222222222,
             "#7201a8"
            ],
            [
             0.3333333333333333,
             "#9c179e"
            ],
            [
             0.4444444444444444,
             "#bd3786"
            ],
            [
             0.5555555555555556,
             "#d8576b"
            ],
            [
             0.6666666666666666,
             "#ed7953"
            ],
            [
             0.7777777777777778,
             "#fb9f3a"
            ],
            [
             0.8888888888888888,
             "#fdca26"
            ],
            [
             1,
             "#f0f921"
            ]
           ]
          },
          "colorway": [
           "#636efa",
           "#EF553B",
           "#00cc96",
           "#ab63fa",
           "#FFA15A",
           "#19d3f3",
           "#FF6692",
           "#B6E880",
           "#FF97FF",
           "#FECB52"
          ],
          "font": {
           "color": "#2a3f5f"
          },
          "geo": {
           "bgcolor": "white",
           "lakecolor": "white",
           "landcolor": "#E5ECF6",
           "showlakes": true,
           "showland": true,
           "subunitcolor": "white"
          },
          "hoverlabel": {
           "align": "left"
          },
          "hovermode": "closest",
          "mapbox": {
           "style": "light"
          },
          "paper_bgcolor": "white",
          "plot_bgcolor": "#E5ECF6",
          "polar": {
           "angularaxis": {
            "gridcolor": "white",
            "linecolor": "white",
            "ticks": ""
           },
           "bgcolor": "#E5ECF6",
           "radialaxis": {
            "gridcolor": "white",
            "linecolor": "white",
            "ticks": ""
           }
          },
          "scene": {
           "xaxis": {
            "backgroundcolor": "#E5ECF6",
            "gridcolor": "white",
            "gridwidth": 2,
            "linecolor": "white",
            "showbackground": true,
            "ticks": "",
            "zerolinecolor": "white"
           },
           "yaxis": {
            "backgroundcolor": "#E5ECF6",
            "gridcolor": "white",
            "gridwidth": 2,
            "linecolor": "white",
            "showbackground": true,
            "ticks": "",
            "zerolinecolor": "white"
           },
           "zaxis": {
            "backgroundcolor": "#E5ECF6",
            "gridcolor": "white",
            "gridwidth": 2,
            "linecolor": "white",
            "showbackground": true,
            "ticks": "",
            "zerolinecolor": "white"
           }
          },
          "shapedefaults": {
           "line": {
            "color": "#2a3f5f"
           }
          },
          "ternary": {
           "aaxis": {
            "gridcolor": "white",
            "linecolor": "white",
            "ticks": ""
           },
           "baxis": {
            "gridcolor": "white",
            "linecolor": "white",
            "ticks": ""
           },
           "bgcolor": "#E5ECF6",
           "caxis": {
            "gridcolor": "white",
            "linecolor": "white",
            "ticks": ""
           }
          },
          "title": {
           "x": 0.05
          },
          "xaxis": {
           "automargin": true,
           "gridcolor": "white",
           "linecolor": "white",
           "ticks": "",
           "zerolinecolor": "white",
           "zerolinewidth": 2
          },
          "yaxis": {
           "automargin": true,
           "gridcolor": "white",
           "linecolor": "white",
           "ticks": "",
           "zerolinecolor": "white",
           "zerolinewidth": 2
          }
         }
        }
       }
      },
      "text/html": [
       "<div>\n",
       "        \n",
       "        \n",
       "            <div id=\"ca8a2922-9c80-4876-930b-6e9260ccfef8\" class=\"plotly-graph-div\" style=\"height:525px; width:100%;\"></div>\n",
       "            <script type=\"text/javascript\">\n",
       "                require([\"plotly\"], function(Plotly) {\n",
       "                    window.PLOTLYENV=window.PLOTLYENV || {};\n",
       "                    \n",
       "                if (document.getElementById(\"ca8a2922-9c80-4876-930b-6e9260ccfef8\")) {\n",
       "                    Plotly.newPlot(\n",
       "                        'ca8a2922-9c80-4876-930b-6e9260ccfef8',\n",
       "                        [{\"type\": \"scatter\", \"x\": [0, 1, 2, 3, 4, 5, 6, 7, 8, 9, 10, 11, 12, 13, 14, 15], \"y\": [15, 14, 13, 12, 11, 10, 9, 8, 7, 6, 5, 4, 3, 2, 1, 0]}, {\"type\": \"scatter\", \"x\": [0, 1, 2, 3, 4, 5, 6, 7, 8, 9, 10, 11, 12, 13, 14, 15], \"y\": [1500, 1, 2, 3, 4, 5, 6, 7, 8, 9, 10, 11, 12, 13, 14, 15]}],\n",
       "                        {\"template\": {\"data\": {\"bar\": [{\"error_x\": {\"color\": \"#2a3f5f\"}, \"error_y\": {\"color\": \"#2a3f5f\"}, \"marker\": {\"line\": {\"color\": \"#E5ECF6\", \"width\": 0.5}}, \"type\": \"bar\"}], \"barpolar\": [{\"marker\": {\"line\": {\"color\": \"#E5ECF6\", \"width\": 0.5}}, \"type\": \"barpolar\"}], \"carpet\": [{\"aaxis\": {\"endlinecolor\": \"#2a3f5f\", \"gridcolor\": \"white\", \"linecolor\": \"white\", \"minorgridcolor\": \"white\", \"startlinecolor\": \"#2a3f5f\"}, \"baxis\": {\"endlinecolor\": \"#2a3f5f\", \"gridcolor\": \"white\", \"linecolor\": \"white\", \"minorgridcolor\": \"white\", \"startlinecolor\": \"#2a3f5f\"}, \"type\": \"carpet\"}], \"choropleth\": [{\"colorbar\": {\"outlinewidth\": 0, \"ticks\": \"\"}, \"type\": \"choropleth\"}], \"contour\": [{\"colorbar\": {\"outlinewidth\": 0, \"ticks\": \"\"}, \"colorscale\": [[0.0, \"#0d0887\"], [0.1111111111111111, \"#46039f\"], [0.2222222222222222, \"#7201a8\"], [0.3333333333333333, \"#9c179e\"], [0.4444444444444444, \"#bd3786\"], [0.5555555555555556, \"#d8576b\"], [0.6666666666666666, \"#ed7953\"], [0.7777777777777778, \"#fb9f3a\"], [0.8888888888888888, \"#fdca26\"], [1.0, \"#f0f921\"]], \"type\": \"contour\"}], \"contourcarpet\": [{\"colorbar\": {\"outlinewidth\": 0, \"ticks\": \"\"}, \"type\": \"contourcarpet\"}], \"heatmap\": [{\"colorbar\": {\"outlinewidth\": 0, \"ticks\": \"\"}, \"colorscale\": [[0.0, \"#0d0887\"], [0.1111111111111111, \"#46039f\"], [0.2222222222222222, \"#7201a8\"], [0.3333333333333333, \"#9c179e\"], [0.4444444444444444, \"#bd3786\"], [0.5555555555555556, \"#d8576b\"], [0.6666666666666666, \"#ed7953\"], [0.7777777777777778, \"#fb9f3a\"], [0.8888888888888888, \"#fdca26\"], [1.0, \"#f0f921\"]], \"type\": \"heatmap\"}], \"heatmapgl\": [{\"colorbar\": {\"outlinewidth\": 0, \"ticks\": \"\"}, \"colorscale\": [[0.0, \"#0d0887\"], [0.1111111111111111, \"#46039f\"], [0.2222222222222222, \"#7201a8\"], [0.3333333333333333, \"#9c179e\"], [0.4444444444444444, \"#bd3786\"], [0.5555555555555556, \"#d8576b\"], [0.6666666666666666, \"#ed7953\"], [0.7777777777777778, \"#fb9f3a\"], [0.8888888888888888, \"#fdca26\"], [1.0, \"#f0f921\"]], \"type\": \"heatmapgl\"}], \"histogram\": [{\"marker\": {\"colorbar\": {\"outlinewidth\": 0, \"ticks\": \"\"}}, \"type\": \"histogram\"}], \"histogram2d\": [{\"colorbar\": {\"outlinewidth\": 0, \"ticks\": \"\"}, \"colorscale\": [[0.0, \"#0d0887\"], [0.1111111111111111, \"#46039f\"], [0.2222222222222222, \"#7201a8\"], [0.3333333333333333, \"#9c179e\"], [0.4444444444444444, \"#bd3786\"], [0.5555555555555556, \"#d8576b\"], [0.6666666666666666, \"#ed7953\"], [0.7777777777777778, \"#fb9f3a\"], [0.8888888888888888, \"#fdca26\"], [1.0, \"#f0f921\"]], \"type\": \"histogram2d\"}], \"histogram2dcontour\": [{\"colorbar\": {\"outlinewidth\": 0, \"ticks\": \"\"}, \"colorscale\": [[0.0, \"#0d0887\"], [0.1111111111111111, \"#46039f\"], [0.2222222222222222, \"#7201a8\"], [0.3333333333333333, \"#9c179e\"], [0.4444444444444444, \"#bd3786\"], [0.5555555555555556, \"#d8576b\"], [0.6666666666666666, \"#ed7953\"], [0.7777777777777778, \"#fb9f3a\"], [0.8888888888888888, \"#fdca26\"], [1.0, \"#f0f921\"]], \"type\": \"histogram2dcontour\"}], \"mesh3d\": [{\"colorbar\": {\"outlinewidth\": 0, \"ticks\": \"\"}, \"type\": \"mesh3d\"}], \"parcoords\": [{\"line\": {\"colorbar\": {\"outlinewidth\": 0, \"ticks\": \"\"}}, \"type\": \"parcoords\"}], \"scatter\": [{\"marker\": {\"colorbar\": {\"outlinewidth\": 0, \"ticks\": \"\"}}, \"type\": \"scatter\"}], \"scatter3d\": [{\"line\": {\"colorbar\": {\"outlinewidth\": 0, \"ticks\": \"\"}}, \"marker\": {\"colorbar\": {\"outlinewidth\": 0, \"ticks\": \"\"}}, \"type\": \"scatter3d\"}], \"scattercarpet\": [{\"marker\": {\"colorbar\": {\"outlinewidth\": 0, \"ticks\": \"\"}}, \"type\": \"scattercarpet\"}], \"scattergeo\": [{\"marker\": {\"colorbar\": {\"outlinewidth\": 0, \"ticks\": \"\"}}, \"type\": \"scattergeo\"}], \"scattergl\": [{\"marker\": {\"colorbar\": {\"outlinewidth\": 0, \"ticks\": \"\"}}, \"type\": \"scattergl\"}], \"scattermapbox\": [{\"marker\": {\"colorbar\": {\"outlinewidth\": 0, \"ticks\": \"\"}}, \"type\": \"scattermapbox\"}], \"scatterpolar\": [{\"marker\": {\"colorbar\": {\"outlinewidth\": 0, \"ticks\": \"\"}}, \"type\": \"scatterpolar\"}], \"scatterpolargl\": [{\"marker\": {\"colorbar\": {\"outlinewidth\": 0, \"ticks\": \"\"}}, \"type\": \"scatterpolargl\"}], \"scatterternary\": [{\"marker\": {\"colorbar\": {\"outlinewidth\": 0, \"ticks\": \"\"}}, \"type\": \"scatterternary\"}], \"surface\": [{\"colorbar\": {\"outlinewidth\": 0, \"ticks\": \"\"}, \"colorscale\": [[0.0, \"#0d0887\"], [0.1111111111111111, \"#46039f\"], [0.2222222222222222, \"#7201a8\"], [0.3333333333333333, \"#9c179e\"], [0.4444444444444444, \"#bd3786\"], [0.5555555555555556, \"#d8576b\"], [0.6666666666666666, \"#ed7953\"], [0.7777777777777778, \"#fb9f3a\"], [0.8888888888888888, \"#fdca26\"], [1.0, \"#f0f921\"]], \"type\": \"surface\"}], \"table\": [{\"cells\": {\"fill\": {\"color\": \"#EBF0F8\"}, \"line\": {\"color\": \"white\"}}, \"header\": {\"fill\": {\"color\": \"#C8D4E3\"}, \"line\": {\"color\": \"white\"}}, \"type\": \"table\"}]}, \"layout\": {\"annotationdefaults\": {\"arrowcolor\": \"#2a3f5f\", \"arrowhead\": 0, \"arrowwidth\": 1}, \"colorscale\": {\"diverging\": [[0, \"#8e0152\"], [0.1, \"#c51b7d\"], [0.2, \"#de77ae\"], [0.3, \"#f1b6da\"], [0.4, \"#fde0ef\"], [0.5, \"#f7f7f7\"], [0.6, \"#e6f5d0\"], [0.7, \"#b8e186\"], [0.8, \"#7fbc41\"], [0.9, \"#4d9221\"], [1, \"#276419\"]], \"sequential\": [[0.0, \"#0d0887\"], [0.1111111111111111, \"#46039f\"], [0.2222222222222222, \"#7201a8\"], [0.3333333333333333, \"#9c179e\"], [0.4444444444444444, \"#bd3786\"], [0.5555555555555556, \"#d8576b\"], [0.6666666666666666, \"#ed7953\"], [0.7777777777777778, \"#fb9f3a\"], [0.8888888888888888, \"#fdca26\"], [1.0, \"#f0f921\"]], \"sequentialminus\": [[0.0, \"#0d0887\"], [0.1111111111111111, \"#46039f\"], [0.2222222222222222, \"#7201a8\"], [0.3333333333333333, \"#9c179e\"], [0.4444444444444444, \"#bd3786\"], [0.5555555555555556, \"#d8576b\"], [0.6666666666666666, \"#ed7953\"], [0.7777777777777778, \"#fb9f3a\"], [0.8888888888888888, \"#fdca26\"], [1.0, \"#f0f921\"]]}, \"colorway\": [\"#636efa\", \"#EF553B\", \"#00cc96\", \"#ab63fa\", \"#FFA15A\", \"#19d3f3\", \"#FF6692\", \"#B6E880\", \"#FF97FF\", \"#FECB52\"], \"font\": {\"color\": \"#2a3f5f\"}, \"geo\": {\"bgcolor\": \"white\", \"lakecolor\": \"white\", \"landcolor\": \"#E5ECF6\", \"showlakes\": true, \"showland\": true, \"subunitcolor\": \"white\"}, \"hoverlabel\": {\"align\": \"left\"}, \"hovermode\": \"closest\", \"mapbox\": {\"style\": \"light\"}, \"paper_bgcolor\": \"white\", \"plot_bgcolor\": \"#E5ECF6\", \"polar\": {\"angularaxis\": {\"gridcolor\": \"white\", \"linecolor\": \"white\", \"ticks\": \"\"}, \"bgcolor\": \"#E5ECF6\", \"radialaxis\": {\"gridcolor\": \"white\", \"linecolor\": \"white\", \"ticks\": \"\"}}, \"scene\": {\"xaxis\": {\"backgroundcolor\": \"#E5ECF6\", \"gridcolor\": \"white\", \"gridwidth\": 2, \"linecolor\": \"white\", \"showbackground\": true, \"ticks\": \"\", \"zerolinecolor\": \"white\"}, \"yaxis\": {\"backgroundcolor\": \"#E5ECF6\", \"gridcolor\": \"white\", \"gridwidth\": 2, \"linecolor\": \"white\", \"showbackground\": true, \"ticks\": \"\", \"zerolinecolor\": \"white\"}, \"zaxis\": {\"backgroundcolor\": \"#E5ECF6\", \"gridcolor\": \"white\", \"gridwidth\": 2, \"linecolor\": \"white\", \"showbackground\": true, \"ticks\": \"\", \"zerolinecolor\": \"white\"}}, \"shapedefaults\": {\"line\": {\"color\": \"#2a3f5f\"}}, \"ternary\": {\"aaxis\": {\"gridcolor\": \"white\", \"linecolor\": \"white\", \"ticks\": \"\"}, \"baxis\": {\"gridcolor\": \"white\", \"linecolor\": \"white\", \"ticks\": \"\"}, \"bgcolor\": \"#E5ECF6\", \"caxis\": {\"gridcolor\": \"white\", \"linecolor\": \"white\", \"ticks\": \"\"}}, \"title\": {\"x\": 0.05}, \"xaxis\": {\"automargin\": true, \"gridcolor\": \"white\", \"linecolor\": \"white\", \"ticks\": \"\", \"zerolinecolor\": \"white\", \"zerolinewidth\": 2}, \"yaxis\": {\"automargin\": true, \"gridcolor\": \"white\", \"linecolor\": \"white\", \"ticks\": \"\", \"zerolinecolor\": \"white\", \"zerolinewidth\": 2}}}},\n",
       "                        {\"responsive\": true}\n",
       "                    ).then(function(){\n",
       "                            \n",
       "var gd = document.getElementById('ca8a2922-9c80-4876-930b-6e9260ccfef8');\n",
       "var x = new MutationObserver(function (mutations, observer) {{\n",
       "        var display = window.getComputedStyle(gd).display;\n",
       "        if (!display || display === 'none') {{\n",
       "            console.log([gd, 'removed!']);\n",
       "            Plotly.purge(gd);\n",
       "            observer.disconnect();\n",
       "        }}\n",
       "}});\n",
       "\n",
       "// Listen for the removal of the full notebook cells\n",
       "var notebookContainer = gd.closest('#notebook-container');\n",
       "if (notebookContainer) {{\n",
       "    x.observe(notebookContainer, {childList: true});\n",
       "}}\n",
       "\n",
       "// Listen for the clearing of the current output cell\n",
       "var outputEl = gd.closest('.output');\n",
       "if (outputEl) {{\n",
       "    x.observe(outputEl, {childList: true});\n",
       "}}\n",
       "\n",
       "                        })\n",
       "                };\n",
       "                });\n",
       "            </script>\n",
       "        </div>"
      ]
     },
     "metadata": {},
     "output_type": "display_data"
    }
   ],
   "source": [
    "x = [0, 1, 2, 3, 4, 5, 6, 7, 8, 9, 10, 11, 12, 13, 14, 15]\n",
    "y1 = [15, 14, 13, 12, 11, 10, 9, 8, 7, 6, 5, 4, 3, 2, 1, 0]\n",
    "y2 = [1500, 1, 2, 3, 4, 5, 6, 7, 8, 9, 10, 11, 12, 13, 14, 15]\n",
    "\n",
    "traces = []\n",
    "traces.append(go.Scatter(x=x, y=y1))\n",
    "traces.append(go.Scatter(x=x, y=y2))\n",
    "fig = go.Figure(data=traces)\n",
    "iplot(fig)"
   ]
  },
  {
   "cell_type": "code",
   "execution_count": 479,
   "metadata": {},
   "outputs": [
    {
     "name": "stdout",
     "output_type": "stream",
     "text": [
      "pearson_corr: 0.40954506631288373, spearman_corr: -0.6470588235294118, diff: 1.0566038898422956\n"
     ]
    }
   ],
   "source": [
    "pearson_coef = stats.pearsonr(y1, y2)[0]\n",
    "spearman_coef = stats.spearmanr(y1, y2)[0]\n",
    "print(f\"pearson_corr: {pearson_coef}, spearman_corr: {spearman_coef}, diff: {pearson_coef - spearman_coef}\")"
   ]
  },
  {
   "cell_type": "markdown",
   "metadata": {},
   "source": [
    "#### Task 3 (p = 0)"
   ]
  },
  {
   "cell_type": "markdown",
   "metadata": {},
   "source": [
    "Для решения задачи воспользуемся:\n",
    "\n",
    "1) формулой нахождения моментов равномерного распределения:\n",
    "$$ E[X^n] = \\frac{1}{n+1}\\sum_{k=0}^na^kb^{n-k}$$\n",
    "\n",
    "2) представлением ковариации в виде:\n",
    "$$ cov[X, Y] = E[XY] - EXEY = E[\\xi^3] - E[\\xi]E[\\xi^2]$$\n",
    "\n",
    "3) представлением дисперсии в виде:\n",
    "$$D[\\xi^2] = E[\\xi^4]-E[\\xi^2]^2$$\n",
    "\n",
    "4) знанием дисперсии равномерного распределения:\n",
    "$$D[\\xi] = \\frac{(b-a)^2}{12}$$\n",
    "\n",
    "Тогда:\n",
    "$$\\rho = \\frac{E[\\xi^3] - E[\\xi]E[\\xi^2]}{\\sqrt{\\frac{(b-a)^2}{12}}\\sqrt{E[\\xi^4]-E[\\xi^2]^2}}$$"
   ]
  },
  {
   "cell_type": "code",
   "execution_count": 476,
   "metadata": {},
   "outputs": [
    {
     "name": "stdout",
     "output_type": "stream",
     "text": [
      "Pearson correlation: 0.0\n"
     ]
    }
   ],
   "source": [
    "def get_moment(n, a, b):\n",
    "    return 1/(n+1)*np.sum([a**k * b**(n-k) for k in range(0, n+1)])\n",
    "\n",
    "a = -1\n",
    "b = 1\n",
    "EX = get_moment(1, a, b)\n",
    "EX2 = get_moment(2, a, b)\n",
    "EX3 = get_moment(3, a, b)\n",
    "EX4 = get_moment(4, a, b)\n",
    "\n",
    "cov_XY = EX3 - EX*EX2\n",
    "sigma_X = np.sqrt((b-a)**2/12)\n",
    "sigma_Y = np.sqrt(EX4 - EX2**2)\n",
    "\n",
    "p = cov_XY/(sigma_X*sigma_Y)\n",
    "print(f\"Pearson correlation: {p}\")"
   ]
  },
  {
   "cell_type": "markdown",
   "metadata": {},
   "source": [
    "Проверяем на примере"
   ]
  },
  {
   "cell_type": "code",
   "execution_count": 474,
   "metadata": {},
   "outputs": [],
   "source": [
    "X_sample = np.random.uniform(-1, 1, 1000)\n",
    "Y_sample = np.array([y**2 for y in np.random.uniform(-1, 1, 1000)])"
   ]
  },
  {
   "cell_type": "code",
   "execution_count": 475,
   "metadata": {},
   "outputs": [
    {
     "name": "stdout",
     "output_type": "stream",
     "text": [
      "Pearson correlation: -0.0038718955371243027\n"
     ]
    }
   ],
   "source": [
    "pearson_correlation = stats.pearsonr(X_sample, Y_sample)[0]\n",
    "print(f\"Pearson correlation: {pearson_correlation}\")"
   ]
  },
  {
   "cell_type": "markdown",
   "metadata": {},
   "source": [
    "#### Task 4 (H0 отклоняется)"
   ]
  },
  {
   "cell_type": "code",
   "execution_count": 484,
   "metadata": {},
   "outputs": [
    {
     "name": "stdout",
     "output_type": "stream",
     "text": [
      "sample correlation: 0.8238114063384586, hypothesis: 0.9, t: -4.14130332987004, criteria: 1.959963984540054\n",
      "H0 is rejected!\n"
     ]
    }
   ],
   "source": [
    "def fisher_z(x):\n",
    "    return 0.5 * np.log((1+x)/(1-x))\n",
    "\n",
    "df = pd.read_csv('./IB_statistics_data_HW_1.txt', sep=' ')\n",
    "X = df.ex4x.values\n",
    "Y = df.ex4y.values\n",
    "\n",
    "corr0 = 0.9\n",
    "corr = stats.pearsonr(X, Y)[0]\n",
    "\n",
    "t = np.sqrt(X.shape[0]-1) * (fisher_z(corr) - fisher_z(corr0))\n",
    "criteria = stats.norm.ppf(0.975)\n",
    "print(f\"sample correlation: {corr}, hypothesis: {corr0}, t: {t}, criteria: {criteria}\")\n",
    "\n",
    "if np.abs(t) > criteria:\n",
    "    print(\"H0 is rejected!\")\n",
    "else:\n",
    "    print(\"H0 can't be rejected!\")"
   ]
  },
  {
   "cell_type": "markdown",
   "metadata": {},
   "source": [
    "#### Task 5 (не решено, но есть предположение, как) "
   ]
  },
  {
   "cell_type": "markdown",
   "metadata": {},
   "source": [
    "1. Разбиваем отрезок max(sample) - min(sample) на 15 равных интервалов (должно подойти)\n",
    "\n",
    "2. При выбранных mu и sigma мы можем расчитать вероятность попадания в каждый из интервалов:\n",
    "\n",
    "Для интервалов, не включающих 0: \n",
    "$$ p = \\frac{6}{7}(F(b) - F(a))$$\n",
    "Для интервала, включающего 0: \n",
    "$$ p = \\frac{6}{7}(F(b) - F(a)) + \\frac{1}{7}$$\n",
    "\n",
    "3. Считаем частоты попадания значений выборки в эти интервалы\n",
    "\n",
    "4. Применяем критерий согласия Хи-квадрат"
   ]
  },
  {
   "cell_type": "markdown",
   "metadata": {},
   "source": [
    "#### Task 6 (по U-критерию Манна—Уитни H0 отклоняется)"
   ]
  },
  {
   "cell_type": "code",
   "execution_count": 679,
   "metadata": {},
   "outputs": [],
   "source": [
    "df = pd.read_csv('./IB_statistics_data_HW_1.txt', sep=' ')\n",
    "X = df.ex6x.values\n",
    "Y = np.exp(df.ex6y.values)"
   ]
  },
  {
   "cell_type": "code",
   "execution_count": 685,
   "metadata": {},
   "outputs": [],
   "source": [
    "def get_sample_F(sample):\n",
    "    sample_cnt = Counter(sample)\n",
    "    x_v = []\n",
    "    y_v = []\n",
    "    n = sample.shape[0]\n",
    "    steps = 0\n",
    "    for x, cnt in sorted(sample_cnt.items()):\n",
    "        x_v.append(x)\n",
    "        y_v.append(steps/n)\n",
    "        steps+=cnt\n",
    "    return np.array(x_v), np.array(y_v)"
   ]
  },
  {
   "cell_type": "code",
   "execution_count": 688,
   "metadata": {},
   "outputs": [
    {
     "data": {
      "application/vnd.plotly.v1+json": {
       "config": {
        "linkText": "Export to plot.ly",
        "plotlyServerURL": "https://plot.ly",
        "showLink": false
       },
       "data": [
        {
         "name": "X",
         "type": "scatter",
         "x": [
          4.03705225096842,
          4.1270157810656,
          4.18576183903383,
          4.19248532237893,
          4.25598956669791,
          4.26887947521661,
          4.31120244387867,
          4.32893898056008,
          4.34564830600947,
          4.3969576005771,
          4.39861161909202,
          4.4876150424922,
          4.49617646237417,
          4.54256116359756,
          4.54781752746607,
          4.577022152380129,
          4.59581354301908,
          4.609521141302809,
          4.6324033108666,
          4.65143619565195,
          4.65589987175326,
          4.74189443742745,
          4.76217683902105,
          4.80973470344712,
          4.82691480361579,
          4.83277013560832,
          4.86234972795687,
          4.87543436165421,
          4.8967651228566,
          4.90604083408175,
          4.9132117594704,
          5.03466048282981,
          5.04454119647879,
          5.07611130000329,
          5.07829734199889,
          5.1200457776530595,
          5.163102366838039,
          5.22907690830146,
          5.306146184998941,
          5.36815120147073,
          5.405431158363639,
          5.42898237578134,
          5.458249661152481,
          5.466845901164151,
          5.49883979955468,
          5.51022107518592,
          5.55644534162801,
          5.55892100482849,
          5.56595376448539,
          5.57249976712875,
          5.6199660919853605,
          5.66995400068195,
          5.675569562966679,
          5.67742497497053,
          5.681385997137481,
          5.6814816017133705,
          5.69692051080867,
          5.7155901273200405,
          5.717873569580441,
          5.76052234181609,
          5.786191844123301,
          5.788005959844611,
          5.788389204424809,
          5.79484502761527,
          5.80078449278661,
          5.834959263046299,
          5.84952933016955,
          5.8496563889573805,
          5.852713352140911,
          5.88337725630203,
          5.90559413541741,
          5.915863838640179,
          5.922107350059,
          5.92904938451354,
          5.94171372655748,
          5.952903068439269,
          5.972226173495491,
          5.990397165018869,
          6.01644119703452,
          6.03424268804735,
          6.038148549390381,
          6.06850495267022,
          6.069052742714749,
          6.07752702595704,
          6.09671225477118,
          6.110125278562781,
          6.119396692801269,
          6.121493238796081,
          6.170253352620589,
          6.215211636084,
          6.23468029706517,
          6.261730843388519,
          6.2706242202574805,
          6.29903522223302,
          6.3500622023085205,
          6.364130083432701,
          6.37474389510558,
          6.395443974502679,
          6.41839769005414,
          6.42858362340778,
          6.43187586160586,
          6.514335999903429,
          6.56351425738981,
          6.56635214829384,
          6.572804399946669,
          6.61571427344533,
          6.62469222187394,
          6.681505829614039,
          6.68672388701829,
          6.72089579845651,
          6.72710510729881,
          6.72763666373739,
          6.816677664521049,
          6.8289935351924695,
          6.87888868471726,
          6.881490202861481,
          6.883618814140429,
          6.8861009027932,
          6.886782053924791,
          6.91878805904886,
          6.9447963584618195,
          6.95182970521944,
          6.9837062917398,
          7.008932522464749,
          7.019165630735309,
          7.04335133520301,
          7.06588085649955,
          7.08675990529945,
          7.088357463498349,
          7.11875282568066,
          7.136055636513599,
          7.16302849627356,
          7.16957495644684,
          7.18838881222508,
          7.25139010801358,
          7.253544429513361,
          7.2636045197787,
          7.32991977449006,
          7.35162021907574,
          7.38412663185068,
          7.412601689629179,
          7.49759463245907,
          7.51752625351384,
          7.54631719566876,
          7.57791394941555,
          7.5922520829704805,
          7.602543998707071,
          7.6115722382214805,
          7.65998178333812,
          7.70347457531298,
          7.71072003986308,
          7.7328021944732,
          7.74786799885945,
          7.7560537198824795,
          7.768327197959289,
          7.82192006065397,
          7.83881732442845,
          7.8430415082144105,
          7.85430945249578,
          7.858628029110661,
          7.858683007195211,
          7.86892014780838,
          7.90893176979162,
          7.91416268487526,
          8.1177080487547,
          8.185645877763191,
          8.25331167392679,
          8.28560561054224,
          8.32590949450142,
          8.362074592495,
          8.36941149342043,
          8.45881718520287,
          8.4913918397062,
          8.52473554950162,
          8.571225522945129,
          8.60221316749799,
          8.70670267281633,
          8.96474804138169,
          9.0646791954914,
          9.10484163905733,
          9.229090333252831,
          9.343647911938211,
          9.36562229666961,
          9.451182520136141,
          9.492420584464261,
          9.522755296569038,
          9.89041605368954
         ],
         "y": [
          0,
          0.0053475935828877,
          0.0106951871657754,
          0.016042780748663103,
          0.0213903743315508,
          0.026737967914438502,
          0.03208556149732621,
          0.0374331550802139,
          0.0427807486631016,
          0.0481283422459893,
          0.053475935828877004,
          0.058823529411764705,
          0.06417112299465241,
          0.06951871657754011,
          0.0748663101604278,
          0.08021390374331551,
          0.0855614973262032,
          0.09090909090909091,
          0.0962566844919786,
          0.10160427807486631,
          0.10695187165775401,
          0.11229946524064172,
          0.11764705882352941,
          0.12299465240641712,
          0.12834224598930483,
          0.13368983957219252,
          0.13903743315508021,
          0.1443850267379679,
          0.1497326203208556,
          0.15508021390374332,
          0.16042780748663102,
          0.1657754010695187,
          0.1711229946524064,
          0.17647058823529413,
          0.18181818181818182,
          0.18716577540106952,
          0.1925133689839572,
          0.19786096256684493,
          0.20320855614973263,
          0.20855614973262032,
          0.21390374331550802,
          0.2192513368983957,
          0.22459893048128343,
          0.22994652406417113,
          0.23529411764705882,
          0.24064171122994651,
          0.24598930481283424,
          0.25133689839572193,
          0.25668449197860965,
          0.2620320855614973,
          0.26737967914438504,
          0.2727272727272727,
          0.27807486631016043,
          0.28342245989304815,
          0.2887700534759358,
          0.29411764705882354,
          0.2994652406417112,
          0.3048128342245989,
          0.31016042780748665,
          0.3155080213903743,
          0.32085561497326204,
          0.32620320855614976,
          0.3315508021390374,
          0.33689839572192515,
          0.3422459893048128,
          0.34759358288770054,
          0.35294117647058826,
          0.3582887700534759,
          0.36363636363636365,
          0.3689839572192513,
          0.37433155080213903,
          0.37967914438502676,
          0.3850267379679144,
          0.39037433155080214,
          0.39572192513368987,
          0.40106951871657753,
          0.40641711229946526,
          0.4117647058823529,
          0.41711229946524064,
          0.42245989304812837,
          0.42780748663101603,
          0.43315508021390375,
          0.4385026737967914,
          0.44385026737967914,
          0.44919786096256686,
          0.45454545454545453,
          0.45989304812834225,
          0.46524064171123,
          0.47058823529411764,
          0.47593582887700536,
          0.48128342245989303,
          0.48663101604278075,
          0.4919786096256685,
          0.49732620320855614,
          0.5026737967914439,
          0.5080213903743316,
          0.5133689839572193,
          0.5187165775401069,
          0.5240641711229946,
          0.5294117647058824,
          0.5347593582887701,
          0.5401069518716578,
          0.5454545454545454,
          0.5508021390374331,
          0.5561497326203209,
          0.5614973262032086,
          0.5668449197860963,
          0.5721925133689839,
          0.5775401069518716,
          0.5828877005347594,
          0.5882352941176471,
          0.5935828877005348,
          0.5989304812834224,
          0.6042780748663101,
          0.6096256684491979,
          0.6149732620320856,
          0.6203208556149733,
          0.6256684491978609,
          0.6310160427807486,
          0.6363636363636364,
          0.6417112299465241,
          0.6470588235294118,
          0.6524064171122995,
          0.6577540106951871,
          0.6631016042780749,
          0.6684491978609626,
          0.6737967914438503,
          0.679144385026738,
          0.6844919786096256,
          0.6898395721925134,
          0.6951871657754011,
          0.7005347593582888,
          0.7058823529411765,
          0.7112299465240641,
          0.7165775401069518,
          0.7219251336898396,
          0.7272727272727273,
          0.732620320855615,
          0.7379679144385026,
          0.7433155080213903,
          0.7486631016042781,
          0.7540106951871658,
          0.7593582887700535,
          0.7647058823529411,
          0.7700534759358288,
          0.7754010695187166,
          0.7807486631016043,
          0.786096256684492,
          0.7914438502673797,
          0.7967914438502673,
          0.8021390374331551,
          0.8074866310160428,
          0.8128342245989305,
          0.8181818181818182,
          0.8235294117647058,
          0.8288770053475936,
          0.8342245989304813,
          0.839572192513369,
          0.8449197860962567,
          0.8502673796791443,
          0.8556149732620321,
          0.8609625668449198,
          0.8663101604278075,
          0.8716577540106952,
          0.8770053475935828,
          0.8823529411764706,
          0.8877005347593583,
          0.893048128342246,
          0.8983957219251337,
          0.9037433155080213,
          0.9090909090909091,
          0.9144385026737968,
          0.9197860962566845,
          0.9251336898395722,
          0.93048128342246,
          0.9358288770053476,
          0.9411764705882353,
          0.946524064171123,
          0.9518716577540107,
          0.9572192513368984,
          0.9625668449197861,
          0.9679144385026738,
          0.9732620320855615,
          0.9786096256684492,
          0.983957219251337,
          0.9893048128342246,
          0.9946524064171123
         ]
        },
        {
         "name": "Y",
         "type": "scatter",
         "x": [
          3.7041382614977585,
          3.8728070904264125,
          3.889419188343951,
          3.93922528099755,
          4.011012295774179,
          4.107983502031692,
          4.1625952745423875,
          4.255954593094567,
          4.274876690023854,
          4.290104903959049,
          4.2944659116318284,
          4.33441847389824,
          4.344619455756908,
          4.416353191817195,
          4.437031727173123,
          4.45178713236821,
          4.472744618811122,
          4.486557937185279,
          4.491876583485622,
          4.573982054685272,
          4.623378795537456,
          4.623736205580235,
          4.636300544635957,
          4.66500945847036,
          4.679643720079047,
          4.691082735218552,
          4.704447276275893,
          4.7222143844031805,
          4.742974162890369,
          4.761692620619085,
          4.782880076491916,
          4.804430542545079,
          4.806826119656801,
          4.816282750421493,
          4.824731244707365,
          4.862790436190181,
          4.863177886303488,
          4.871669606108019,
          4.879809446018615,
          4.902416061982833,
          4.904658240932898,
          4.916331760849944,
          4.930086400239696,
          4.93366282332258,
          4.9545936382135105,
          4.995697993473926,
          5.011042579715309,
          5.0352469450611075,
          5.069634701935525,
          5.1125082857076,
          5.12177246628712,
          5.1295437633248575,
          5.1377998812796015,
          5.148667749724842,
          5.152658113392046,
          5.161375542794484,
          5.1678188564211975,
          5.177848963163419,
          5.191400367985072,
          5.193748678541781,
          5.206994007914992,
          5.254023318883425,
          5.2677587897132465,
          5.271412205964664,
          5.286913221984001,
          5.339070851987991,
          5.3414395514864,
          5.403342556891967,
          5.427598717321546,
          5.461565788068372,
          5.464404828810967,
          5.470981881290765,
          5.472607616039054,
          5.490210230985742,
          5.518408299522515,
          5.538186880068576,
          5.5667744986208625,
          5.5958157813714475,
          5.609255850834309,
          5.6098133683996645,
          5.612044570283744,
          5.634550749242287,
          5.677494794492968,
          5.683569165028432,
          5.690033415378411,
          5.6942207661826085,
          5.703741467089749,
          5.756238992826786,
          5.771785006860445,
          5.772696861435837,
          5.798125749970593,
          5.839639815206931,
          5.842430126892802,
          5.858687060077431,
          5.871750407352222,
          5.876999453593571,
          5.932009258016357,
          5.944830148967106,
          5.945701984089192,
          5.957412036397115,
          5.968738350285557,
          5.975485450949198,
          6.046313006795741,
          6.077493918584021,
          6.081309880593506,
          6.1026382308994185,
          6.132623239855238,
          6.1563990213614845,
          6.226528574495734,
          6.242626237575886,
          6.2536406182033035,
          6.27078192370937,
          6.271304142581964,
          6.295139745138976,
          6.385284855076754,
          6.394062191344216,
          6.411894032707851,
          6.423870355051574,
          6.445750628654983,
          6.49577047312979,
          6.497638721834222,
          6.500504471194713,
          6.5163729996431865,
          6.524988597662265,
          6.5287637464068125,
          6.547999178927548,
          6.582598327549529,
          6.5952579479768865,
          6.599220907740414,
          6.625757184989558,
          6.669686196917335,
          6.669740250394001,
          6.712902951037576,
          6.72106296881887,
          6.7471346602563615,
          6.752606462847311,
          6.87829664569681,
          6.878719829937028,
          6.9319659784015295,
          6.956862791257179,
          6.961526622579371,
          7.013463750250772,
          7.028163225974181,
          7.029750390297299,
          7.067484119020744,
          7.103509127099552,
          7.11733278343257,
          7.11961438369285,
          7.16527142450406,
          7.233494448905743,
          7.237962829493153,
          7.258660171960946,
          7.3578236540202475,
          7.359160054703886,
          7.402206368995544,
          7.423652340875902,
          7.46710951366521,
          7.498275022593214,
          7.571534579095814,
          7.6992044297900595,
          7.74605062733569,
          7.788305670009162,
          7.812094469729923,
          7.824794482055912,
          7.921776287498824,
          7.924968119786823,
          7.988203668100811,
          7.996459814360985,
          8.009815290976077,
          8.101149322885538,
          8.162029956791827,
          8.174340802448574,
          8.299493452290356,
          8.33500131181577,
          8.341858485024657,
          8.401279006949684,
          8.624117728663617,
          8.674895383250414,
          8.697085106026794,
          8.73272323901216,
          8.757979818338649,
          8.8299861681611,
          8.867895573217252,
          8.879335337327444,
          9.194684249304869,
          9.789186193911274,
          10.352713410891743
         ],
         "y": [
          0,
          0.0053475935828877,
          0.0106951871657754,
          0.016042780748663103,
          0.0213903743315508,
          0.026737967914438502,
          0.03208556149732621,
          0.0374331550802139,
          0.0427807486631016,
          0.0481283422459893,
          0.053475935828877004,
          0.058823529411764705,
          0.06417112299465241,
          0.06951871657754011,
          0.0748663101604278,
          0.08021390374331551,
          0.0855614973262032,
          0.09090909090909091,
          0.0962566844919786,
          0.10160427807486631,
          0.10695187165775401,
          0.11229946524064172,
          0.11764705882352941,
          0.12299465240641712,
          0.12834224598930483,
          0.13368983957219252,
          0.13903743315508021,
          0.1443850267379679,
          0.1497326203208556,
          0.15508021390374332,
          0.16042780748663102,
          0.1657754010695187,
          0.1711229946524064,
          0.17647058823529413,
          0.18181818181818182,
          0.18716577540106952,
          0.1925133689839572,
          0.19786096256684493,
          0.20320855614973263,
          0.20855614973262032,
          0.21390374331550802,
          0.2192513368983957,
          0.22459893048128343,
          0.22994652406417113,
          0.23529411764705882,
          0.24064171122994651,
          0.24598930481283424,
          0.25133689839572193,
          0.25668449197860965,
          0.2620320855614973,
          0.26737967914438504,
          0.2727272727272727,
          0.27807486631016043,
          0.28342245989304815,
          0.2887700534759358,
          0.29411764705882354,
          0.2994652406417112,
          0.3048128342245989,
          0.31016042780748665,
          0.3155080213903743,
          0.32085561497326204,
          0.32620320855614976,
          0.3315508021390374,
          0.33689839572192515,
          0.3422459893048128,
          0.34759358288770054,
          0.35294117647058826,
          0.3582887700534759,
          0.36363636363636365,
          0.3689839572192513,
          0.37433155080213903,
          0.37967914438502676,
          0.3850267379679144,
          0.39037433155080214,
          0.39572192513368987,
          0.40106951871657753,
          0.40641711229946526,
          0.4117647058823529,
          0.41711229946524064,
          0.42245989304812837,
          0.42780748663101603,
          0.43315508021390375,
          0.4385026737967914,
          0.44385026737967914,
          0.44919786096256686,
          0.45454545454545453,
          0.45989304812834225,
          0.46524064171123,
          0.47058823529411764,
          0.47593582887700536,
          0.48128342245989303,
          0.48663101604278075,
          0.4919786096256685,
          0.49732620320855614,
          0.5026737967914439,
          0.5080213903743316,
          0.5133689839572193,
          0.5187165775401069,
          0.5240641711229946,
          0.5294117647058824,
          0.5347593582887701,
          0.5401069518716578,
          0.5454545454545454,
          0.5508021390374331,
          0.5561497326203209,
          0.5614973262032086,
          0.5668449197860963,
          0.5721925133689839,
          0.5775401069518716,
          0.5828877005347594,
          0.5882352941176471,
          0.5935828877005348,
          0.5989304812834224,
          0.6042780748663101,
          0.6096256684491979,
          0.6149732620320856,
          0.6203208556149733,
          0.6256684491978609,
          0.6310160427807486,
          0.6363636363636364,
          0.6417112299465241,
          0.6470588235294118,
          0.6524064171122995,
          0.6577540106951871,
          0.6631016042780749,
          0.6684491978609626,
          0.6737967914438503,
          0.679144385026738,
          0.6844919786096256,
          0.6898395721925134,
          0.6951871657754011,
          0.7005347593582888,
          0.7058823529411765,
          0.7112299465240641,
          0.7165775401069518,
          0.7219251336898396,
          0.7272727272727273,
          0.732620320855615,
          0.7379679144385026,
          0.7433155080213903,
          0.7486631016042781,
          0.7540106951871658,
          0.7593582887700535,
          0.7647058823529411,
          0.7700534759358288,
          0.7754010695187166,
          0.7807486631016043,
          0.786096256684492,
          0.7914438502673797,
          0.7967914438502673,
          0.8021390374331551,
          0.8074866310160428,
          0.8128342245989305,
          0.8181818181818182,
          0.8235294117647058,
          0.8288770053475936,
          0.8342245989304813,
          0.839572192513369,
          0.8449197860962567,
          0.8502673796791443,
          0.8556149732620321,
          0.8609625668449198,
          0.8663101604278075,
          0.8716577540106952,
          0.8770053475935828,
          0.8823529411764706,
          0.8877005347593583,
          0.893048128342246,
          0.8983957219251337,
          0.9037433155080213,
          0.9090909090909091,
          0.9144385026737968,
          0.9197860962566845,
          0.9251336898395722,
          0.93048128342246,
          0.9358288770053476,
          0.9411764705882353,
          0.946524064171123,
          0.9518716577540107,
          0.9572192513368984,
          0.9625668449197861,
          0.9679144385026738,
          0.9732620320855615,
          0.9786096256684492,
          0.983957219251337,
          0.9893048128342246,
          0.9946524064171123
         ]
        }
       ],
       "layout": {
        "template": {
         "data": {
          "bar": [
           {
            "error_x": {
             "color": "#2a3f5f"
            },
            "error_y": {
             "color": "#2a3f5f"
            },
            "marker": {
             "line": {
              "color": "#E5ECF6",
              "width": 0.5
             }
            },
            "type": "bar"
           }
          ],
          "barpolar": [
           {
            "marker": {
             "line": {
              "color": "#E5ECF6",
              "width": 0.5
             }
            },
            "type": "barpolar"
           }
          ],
          "carpet": [
           {
            "aaxis": {
             "endlinecolor": "#2a3f5f",
             "gridcolor": "white",
             "linecolor": "white",
             "minorgridcolor": "white",
             "startlinecolor": "#2a3f5f"
            },
            "baxis": {
             "endlinecolor": "#2a3f5f",
             "gridcolor": "white",
             "linecolor": "white",
             "minorgridcolor": "white",
             "startlinecolor": "#2a3f5f"
            },
            "type": "carpet"
           }
          ],
          "choropleth": [
           {
            "colorbar": {
             "outlinewidth": 0,
             "ticks": ""
            },
            "type": "choropleth"
           }
          ],
          "contour": [
           {
            "colorbar": {
             "outlinewidth": 0,
             "ticks": ""
            },
            "colorscale": [
             [
              0,
              "#0d0887"
             ],
             [
              0.1111111111111111,
              "#46039f"
             ],
             [
              0.2222222222222222,
              "#7201a8"
             ],
             [
              0.3333333333333333,
              "#9c179e"
             ],
             [
              0.4444444444444444,
              "#bd3786"
             ],
             [
              0.5555555555555556,
              "#d8576b"
             ],
             [
              0.6666666666666666,
              "#ed7953"
             ],
             [
              0.7777777777777778,
              "#fb9f3a"
             ],
             [
              0.8888888888888888,
              "#fdca26"
             ],
             [
              1,
              "#f0f921"
             ]
            ],
            "type": "contour"
           }
          ],
          "contourcarpet": [
           {
            "colorbar": {
             "outlinewidth": 0,
             "ticks": ""
            },
            "type": "contourcarpet"
           }
          ],
          "heatmap": [
           {
            "colorbar": {
             "outlinewidth": 0,
             "ticks": ""
            },
            "colorscale": [
             [
              0,
              "#0d0887"
             ],
             [
              0.1111111111111111,
              "#46039f"
             ],
             [
              0.2222222222222222,
              "#7201a8"
             ],
             [
              0.3333333333333333,
              "#9c179e"
             ],
             [
              0.4444444444444444,
              "#bd3786"
             ],
             [
              0.5555555555555556,
              "#d8576b"
             ],
             [
              0.6666666666666666,
              "#ed7953"
             ],
             [
              0.7777777777777778,
              "#fb9f3a"
             ],
             [
              0.8888888888888888,
              "#fdca26"
             ],
             [
              1,
              "#f0f921"
             ]
            ],
            "type": "heatmap"
           }
          ],
          "heatmapgl": [
           {
            "colorbar": {
             "outlinewidth": 0,
             "ticks": ""
            },
            "colorscale": [
             [
              0,
              "#0d0887"
             ],
             [
              0.1111111111111111,
              "#46039f"
             ],
             [
              0.2222222222222222,
              "#7201a8"
             ],
             [
              0.3333333333333333,
              "#9c179e"
             ],
             [
              0.4444444444444444,
              "#bd3786"
             ],
             [
              0.5555555555555556,
              "#d8576b"
             ],
             [
              0.6666666666666666,
              "#ed7953"
             ],
             [
              0.7777777777777778,
              "#fb9f3a"
             ],
             [
              0.8888888888888888,
              "#fdca26"
             ],
             [
              1,
              "#f0f921"
             ]
            ],
            "type": "heatmapgl"
           }
          ],
          "histogram": [
           {
            "marker": {
             "colorbar": {
              "outlinewidth": 0,
              "ticks": ""
             }
            },
            "type": "histogram"
           }
          ],
          "histogram2d": [
           {
            "colorbar": {
             "outlinewidth": 0,
             "ticks": ""
            },
            "colorscale": [
             [
              0,
              "#0d0887"
             ],
             [
              0.1111111111111111,
              "#46039f"
             ],
             [
              0.2222222222222222,
              "#7201a8"
             ],
             [
              0.3333333333333333,
              "#9c179e"
             ],
             [
              0.4444444444444444,
              "#bd3786"
             ],
             [
              0.5555555555555556,
              "#d8576b"
             ],
             [
              0.6666666666666666,
              "#ed7953"
             ],
             [
              0.7777777777777778,
              "#fb9f3a"
             ],
             [
              0.8888888888888888,
              "#fdca26"
             ],
             [
              1,
              "#f0f921"
             ]
            ],
            "type": "histogram2d"
           }
          ],
          "histogram2dcontour": [
           {
            "colorbar": {
             "outlinewidth": 0,
             "ticks": ""
            },
            "colorscale": [
             [
              0,
              "#0d0887"
             ],
             [
              0.1111111111111111,
              "#46039f"
             ],
             [
              0.2222222222222222,
              "#7201a8"
             ],
             [
              0.3333333333333333,
              "#9c179e"
             ],
             [
              0.4444444444444444,
              "#bd3786"
             ],
             [
              0.5555555555555556,
              "#d8576b"
             ],
             [
              0.6666666666666666,
              "#ed7953"
             ],
             [
              0.7777777777777778,
              "#fb9f3a"
             ],
             [
              0.8888888888888888,
              "#fdca26"
             ],
             [
              1,
              "#f0f921"
             ]
            ],
            "type": "histogram2dcontour"
           }
          ],
          "mesh3d": [
           {
            "colorbar": {
             "outlinewidth": 0,
             "ticks": ""
            },
            "type": "mesh3d"
           }
          ],
          "parcoords": [
           {
            "line": {
             "colorbar": {
              "outlinewidth": 0,
              "ticks": ""
             }
            },
            "type": "parcoords"
           }
          ],
          "scatter": [
           {
            "marker": {
             "colorbar": {
              "outlinewidth": 0,
              "ticks": ""
             }
            },
            "type": "scatter"
           }
          ],
          "scatter3d": [
           {
            "line": {
             "colorbar": {
              "outlinewidth": 0,
              "ticks": ""
             }
            },
            "marker": {
             "colorbar": {
              "outlinewidth": 0,
              "ticks": ""
             }
            },
            "type": "scatter3d"
           }
          ],
          "scattercarpet": [
           {
            "marker": {
             "colorbar": {
              "outlinewidth": 0,
              "ticks": ""
             }
            },
            "type": "scattercarpet"
           }
          ],
          "scattergeo": [
           {
            "marker": {
             "colorbar": {
              "outlinewidth": 0,
              "ticks": ""
             }
            },
            "type": "scattergeo"
           }
          ],
          "scattergl": [
           {
            "marker": {
             "colorbar": {
              "outlinewidth": 0,
              "ticks": ""
             }
            },
            "type": "scattergl"
           }
          ],
          "scattermapbox": [
           {
            "marker": {
             "colorbar": {
              "outlinewidth": 0,
              "ticks": ""
             }
            },
            "type": "scattermapbox"
           }
          ],
          "scatterpolar": [
           {
            "marker": {
             "colorbar": {
              "outlinewidth": 0,
              "ticks": ""
             }
            },
            "type": "scatterpolar"
           }
          ],
          "scatterpolargl": [
           {
            "marker": {
             "colorbar": {
              "outlinewidth": 0,
              "ticks": ""
             }
            },
            "type": "scatterpolargl"
           }
          ],
          "scatterternary": [
           {
            "marker": {
             "colorbar": {
              "outlinewidth": 0,
              "ticks": ""
             }
            },
            "type": "scatterternary"
           }
          ],
          "surface": [
           {
            "colorbar": {
             "outlinewidth": 0,
             "ticks": ""
            },
            "colorscale": [
             [
              0,
              "#0d0887"
             ],
             [
              0.1111111111111111,
              "#46039f"
             ],
             [
              0.2222222222222222,
              "#7201a8"
             ],
             [
              0.3333333333333333,
              "#9c179e"
             ],
             [
              0.4444444444444444,
              "#bd3786"
             ],
             [
              0.5555555555555556,
              "#d8576b"
             ],
             [
              0.6666666666666666,
              "#ed7953"
             ],
             [
              0.7777777777777778,
              "#fb9f3a"
             ],
             [
              0.8888888888888888,
              "#fdca26"
             ],
             [
              1,
              "#f0f921"
             ]
            ],
            "type": "surface"
           }
          ],
          "table": [
           {
            "cells": {
             "fill": {
              "color": "#EBF0F8"
             },
             "line": {
              "color": "white"
             }
            },
            "header": {
             "fill": {
              "color": "#C8D4E3"
             },
             "line": {
              "color": "white"
             }
            },
            "type": "table"
           }
          ]
         },
         "layout": {
          "annotationdefaults": {
           "arrowcolor": "#2a3f5f",
           "arrowhead": 0,
           "arrowwidth": 1
          },
          "colorscale": {
           "diverging": [
            [
             0,
             "#8e0152"
            ],
            [
             0.1,
             "#c51b7d"
            ],
            [
             0.2,
             "#de77ae"
            ],
            [
             0.3,
             "#f1b6da"
            ],
            [
             0.4,
             "#fde0ef"
            ],
            [
             0.5,
             "#f7f7f7"
            ],
            [
             0.6,
             "#e6f5d0"
            ],
            [
             0.7,
             "#b8e186"
            ],
            [
             0.8,
             "#7fbc41"
            ],
            [
             0.9,
             "#4d9221"
            ],
            [
             1,
             "#276419"
            ]
           ],
           "sequential": [
            [
             0,
             "#0d0887"
            ],
            [
             0.1111111111111111,
             "#46039f"
            ],
            [
             0.2222222222222222,
             "#7201a8"
            ],
            [
             0.3333333333333333,
             "#9c179e"
            ],
            [
             0.4444444444444444,
             "#bd3786"
            ],
            [
             0.5555555555555556,
             "#d8576b"
            ],
            [
             0.6666666666666666,
             "#ed7953"
            ],
            [
             0.7777777777777778,
             "#fb9f3a"
            ],
            [
             0.8888888888888888,
             "#fdca26"
            ],
            [
             1,
             "#f0f921"
            ]
           ],
           "sequentialminus": [
            [
             0,
             "#0d0887"
            ],
            [
             0.1111111111111111,
             "#46039f"
            ],
            [
             0.2222222222222222,
             "#7201a8"
            ],
            [
             0.3333333333333333,
             "#9c179e"
            ],
            [
             0.4444444444444444,
             "#bd3786"
            ],
            [
             0.5555555555555556,
             "#d8576b"
            ],
            [
             0.6666666666666666,
             "#ed7953"
            ],
            [
             0.7777777777777778,
             "#fb9f3a"
            ],
            [
             0.8888888888888888,
             "#fdca26"
            ],
            [
             1,
             "#f0f921"
            ]
           ]
          },
          "colorway": [
           "#636efa",
           "#EF553B",
           "#00cc96",
           "#ab63fa",
           "#FFA15A",
           "#19d3f3",
           "#FF6692",
           "#B6E880",
           "#FF97FF",
           "#FECB52"
          ],
          "font": {
           "color": "#2a3f5f"
          },
          "geo": {
           "bgcolor": "white",
           "lakecolor": "white",
           "landcolor": "#E5ECF6",
           "showlakes": true,
           "showland": true,
           "subunitcolor": "white"
          },
          "hoverlabel": {
           "align": "left"
          },
          "hovermode": "closest",
          "mapbox": {
           "style": "light"
          },
          "paper_bgcolor": "white",
          "plot_bgcolor": "#E5ECF6",
          "polar": {
           "angularaxis": {
            "gridcolor": "white",
            "linecolor": "white",
            "ticks": ""
           },
           "bgcolor": "#E5ECF6",
           "radialaxis": {
            "gridcolor": "white",
            "linecolor": "white",
            "ticks": ""
           }
          },
          "scene": {
           "xaxis": {
            "backgroundcolor": "#E5ECF6",
            "gridcolor": "white",
            "gridwidth": 2,
            "linecolor": "white",
            "showbackground": true,
            "ticks": "",
            "zerolinecolor": "white"
           },
           "yaxis": {
            "backgroundcolor": "#E5ECF6",
            "gridcolor": "white",
            "gridwidth": 2,
            "linecolor": "white",
            "showbackground": true,
            "ticks": "",
            "zerolinecolor": "white"
           },
           "zaxis": {
            "backgroundcolor": "#E5ECF6",
            "gridcolor": "white",
            "gridwidth": 2,
            "linecolor": "white",
            "showbackground": true,
            "ticks": "",
            "zerolinecolor": "white"
           }
          },
          "shapedefaults": {
           "line": {
            "color": "#2a3f5f"
           }
          },
          "ternary": {
           "aaxis": {
            "gridcolor": "white",
            "linecolor": "white",
            "ticks": ""
           },
           "baxis": {
            "gridcolor": "white",
            "linecolor": "white",
            "ticks": ""
           },
           "bgcolor": "#E5ECF6",
           "caxis": {
            "gridcolor": "white",
            "linecolor": "white",
            "ticks": ""
           }
          },
          "title": {
           "x": 0.05
          },
          "xaxis": {
           "automargin": true,
           "gridcolor": "white",
           "linecolor": "white",
           "ticks": "",
           "zerolinecolor": "white",
           "zerolinewidth": 2
          },
          "yaxis": {
           "automargin": true,
           "gridcolor": "white",
           "linecolor": "white",
           "ticks": "",
           "zerolinecolor": "white",
           "zerolinewidth": 2
          }
         }
        },
        "title": {
         "text": "Empirical distributions functions"
        }
       }
      },
      "text/html": [
       "<div>\n",
       "        \n",
       "        \n",
       "            <div id=\"c2cefacc-a916-4ece-bcbb-2cf0732b96af\" class=\"plotly-graph-div\" style=\"height:525px; width:100%;\"></div>\n",
       "            <script type=\"text/javascript\">\n",
       "                require([\"plotly\"], function(Plotly) {\n",
       "                    window.PLOTLYENV=window.PLOTLYENV || {};\n",
       "                    \n",
       "                if (document.getElementById(\"c2cefacc-a916-4ece-bcbb-2cf0732b96af\")) {\n",
       "                    Plotly.newPlot(\n",
       "                        'c2cefacc-a916-4ece-bcbb-2cf0732b96af',\n",
       "                        [{\"name\": \"X\", \"type\": \"scatter\", \"x\": [4.03705225096842, 4.1270157810656, 4.18576183903383, 4.19248532237893, 4.25598956669791, 4.26887947521661, 4.31120244387867, 4.32893898056008, 4.34564830600947, 4.3969576005771, 4.39861161909202, 4.4876150424922, 4.49617646237417, 4.54256116359756, 4.54781752746607, 4.577022152380129, 4.59581354301908, 4.609521141302809, 4.6324033108666, 4.65143619565195, 4.65589987175326, 4.74189443742745, 4.76217683902105, 4.80973470344712, 4.82691480361579, 4.83277013560832, 4.86234972795687, 4.87543436165421, 4.8967651228566, 4.90604083408175, 4.9132117594704, 5.03466048282981, 5.04454119647879, 5.07611130000329, 5.07829734199889, 5.1200457776530595, 5.163102366838039, 5.22907690830146, 5.306146184998941, 5.36815120147073, 5.405431158363639, 5.42898237578134, 5.458249661152481, 5.466845901164151, 5.49883979955468, 5.51022107518592, 5.55644534162801, 5.55892100482849, 5.56595376448539, 5.57249976712875, 5.6199660919853605, 5.66995400068195, 5.675569562966679, 5.67742497497053, 5.681385997137481, 5.6814816017133705, 5.69692051080867, 5.7155901273200405, 5.717873569580441, 5.76052234181609, 5.786191844123301, 5.788005959844611, 5.788389204424809, 5.79484502761527, 5.80078449278661, 5.834959263046299, 5.84952933016955, 5.8496563889573805, 5.852713352140911, 5.88337725630203, 5.90559413541741, 5.915863838640179, 5.922107350059, 5.92904938451354, 5.94171372655748, 5.952903068439269, 5.972226173495491, 5.990397165018869, 6.01644119703452, 6.03424268804735, 6.038148549390381, 6.06850495267022, 6.069052742714749, 6.07752702595704, 6.09671225477118, 6.110125278562781, 6.119396692801269, 6.121493238796081, 6.170253352620589, 6.215211636084, 6.23468029706517, 6.261730843388519, 6.2706242202574805, 6.29903522223302, 6.3500622023085205, 6.364130083432701, 6.37474389510558, 6.395443974502679, 6.41839769005414, 6.42858362340778, 6.43187586160586, 6.514335999903429, 6.56351425738981, 6.56635214829384, 6.572804399946669, 6.61571427344533, 6.62469222187394, 6.681505829614039, 6.68672388701829, 6.72089579845651, 6.72710510729881, 6.72763666373739, 6.816677664521049, 6.8289935351924695, 6.87888868471726, 6.881490202861481, 6.883618814140429, 6.8861009027932, 6.886782053924791, 6.91878805904886, 6.9447963584618195, 6.95182970521944, 6.9837062917398, 7.008932522464749, 7.019165630735309, 7.04335133520301, 7.06588085649955, 7.08675990529945, 7.088357463498349, 7.11875282568066, 7.136055636513599, 7.16302849627356, 7.16957495644684, 7.18838881222508, 7.25139010801358, 7.253544429513361, 7.2636045197787, 7.32991977449006, 7.35162021907574, 7.38412663185068, 7.412601689629179, 7.49759463245907, 7.51752625351384, 7.54631719566876, 7.57791394941555, 7.5922520829704805, 7.602543998707071, 7.6115722382214805, 7.65998178333812, 7.70347457531298, 7.71072003986308, 7.7328021944732, 7.74786799885945, 7.7560537198824795, 7.768327197959289, 7.82192006065397, 7.83881732442845, 7.8430415082144105, 7.85430945249578, 7.858628029110661, 7.858683007195211, 7.86892014780838, 7.90893176979162, 7.91416268487526, 8.1177080487547, 8.185645877763191, 8.25331167392679, 8.28560561054224, 8.32590949450142, 8.362074592495, 8.36941149342043, 8.45881718520287, 8.4913918397062, 8.52473554950162, 8.571225522945129, 8.60221316749799, 8.70670267281633, 8.96474804138169, 9.0646791954914, 9.10484163905733, 9.229090333252831, 9.343647911938211, 9.36562229666961, 9.451182520136141, 9.492420584464261, 9.522755296569038, 9.89041605368954], \"y\": [0.0, 0.0053475935828877, 0.0106951871657754, 0.016042780748663103, 0.0213903743315508, 0.026737967914438502, 0.03208556149732621, 0.0374331550802139, 0.0427807486631016, 0.0481283422459893, 0.053475935828877004, 0.058823529411764705, 0.06417112299465241, 0.06951871657754011, 0.0748663101604278, 0.08021390374331551, 0.0855614973262032, 0.09090909090909091, 0.0962566844919786, 0.10160427807486631, 0.10695187165775401, 0.11229946524064172, 0.11764705882352941, 0.12299465240641712, 0.12834224598930483, 0.13368983957219252, 0.13903743315508021, 0.1443850267379679, 0.1497326203208556, 0.15508021390374332, 0.16042780748663102, 0.1657754010695187, 0.1711229946524064, 0.17647058823529413, 0.18181818181818182, 0.18716577540106952, 0.1925133689839572, 0.19786096256684493, 0.20320855614973263, 0.20855614973262032, 0.21390374331550802, 0.2192513368983957, 0.22459893048128343, 0.22994652406417113, 0.23529411764705882, 0.24064171122994651, 0.24598930481283424, 0.25133689839572193, 0.25668449197860965, 0.2620320855614973, 0.26737967914438504, 0.2727272727272727, 0.27807486631016043, 0.28342245989304815, 0.2887700534759358, 0.29411764705882354, 0.2994652406417112, 0.3048128342245989, 0.31016042780748665, 0.3155080213903743, 0.32085561497326204, 0.32620320855614976, 0.3315508021390374, 0.33689839572192515, 0.3422459893048128, 0.34759358288770054, 0.35294117647058826, 0.3582887700534759, 0.36363636363636365, 0.3689839572192513, 0.37433155080213903, 0.37967914438502676, 0.3850267379679144, 0.39037433155080214, 0.39572192513368987, 0.40106951871657753, 0.40641711229946526, 0.4117647058823529, 0.41711229946524064, 0.42245989304812837, 0.42780748663101603, 0.43315508021390375, 0.4385026737967914, 0.44385026737967914, 0.44919786096256686, 0.45454545454545453, 0.45989304812834225, 0.46524064171123, 0.47058823529411764, 0.47593582887700536, 0.48128342245989303, 0.48663101604278075, 0.4919786096256685, 0.49732620320855614, 0.5026737967914439, 0.5080213903743316, 0.5133689839572193, 0.5187165775401069, 0.5240641711229946, 0.5294117647058824, 0.5347593582887701, 0.5401069518716578, 0.5454545454545454, 0.5508021390374331, 0.5561497326203209, 0.5614973262032086, 0.5668449197860963, 0.5721925133689839, 0.5775401069518716, 0.5828877005347594, 0.5882352941176471, 0.5935828877005348, 0.5989304812834224, 0.6042780748663101, 0.6096256684491979, 0.6149732620320856, 0.6203208556149733, 0.6256684491978609, 0.6310160427807486, 0.6363636363636364, 0.6417112299465241, 0.6470588235294118, 0.6524064171122995, 0.6577540106951871, 0.6631016042780749, 0.6684491978609626, 0.6737967914438503, 0.679144385026738, 0.6844919786096256, 0.6898395721925134, 0.6951871657754011, 0.7005347593582888, 0.7058823529411765, 0.7112299465240641, 0.7165775401069518, 0.7219251336898396, 0.7272727272727273, 0.732620320855615, 0.7379679144385026, 0.7433155080213903, 0.7486631016042781, 0.7540106951871658, 0.7593582887700535, 0.7647058823529411, 0.7700534759358288, 0.7754010695187166, 0.7807486631016043, 0.786096256684492, 0.7914438502673797, 0.7967914438502673, 0.8021390374331551, 0.8074866310160428, 0.8128342245989305, 0.8181818181818182, 0.8235294117647058, 0.8288770053475936, 0.8342245989304813, 0.839572192513369, 0.8449197860962567, 0.8502673796791443, 0.8556149732620321, 0.8609625668449198, 0.8663101604278075, 0.8716577540106952, 0.8770053475935828, 0.8823529411764706, 0.8877005347593583, 0.893048128342246, 0.8983957219251337, 0.9037433155080213, 0.9090909090909091, 0.9144385026737968, 0.9197860962566845, 0.9251336898395722, 0.93048128342246, 0.9358288770053476, 0.9411764705882353, 0.946524064171123, 0.9518716577540107, 0.9572192513368984, 0.9625668449197861, 0.9679144385026738, 0.9732620320855615, 0.9786096256684492, 0.983957219251337, 0.9893048128342246, 0.9946524064171123]}, {\"name\": \"Y\", \"type\": \"scatter\", \"x\": [3.7041382614977585, 3.8728070904264125, 3.889419188343951, 3.93922528099755, 4.011012295774179, 4.107983502031692, 4.1625952745423875, 4.255954593094567, 4.274876690023854, 4.290104903959049, 4.2944659116318284, 4.33441847389824, 4.344619455756908, 4.416353191817195, 4.437031727173123, 4.45178713236821, 4.472744618811122, 4.486557937185279, 4.491876583485622, 4.573982054685272, 4.623378795537456, 4.623736205580235, 4.636300544635957, 4.66500945847036, 4.679643720079047, 4.691082735218552, 4.704447276275893, 4.7222143844031805, 4.742974162890369, 4.761692620619085, 4.782880076491916, 4.804430542545079, 4.806826119656801, 4.816282750421493, 4.824731244707365, 4.862790436190181, 4.863177886303488, 4.871669606108019, 4.879809446018615, 4.902416061982833, 4.904658240932898, 4.916331760849944, 4.930086400239696, 4.93366282332258, 4.9545936382135105, 4.995697993473926, 5.011042579715309, 5.0352469450611075, 5.069634701935525, 5.1125082857076, 5.12177246628712, 5.1295437633248575, 5.1377998812796015, 5.148667749724842, 5.152658113392046, 5.161375542794484, 5.1678188564211975, 5.177848963163419, 5.191400367985072, 5.193748678541781, 5.206994007914992, 5.254023318883425, 5.2677587897132465, 5.271412205964664, 5.286913221984001, 5.339070851987991, 5.3414395514864, 5.403342556891967, 5.427598717321546, 5.461565788068372, 5.464404828810967, 5.470981881290765, 5.472607616039054, 5.490210230985742, 5.518408299522515, 5.538186880068576, 5.5667744986208625, 5.5958157813714475, 5.609255850834309, 5.6098133683996645, 5.612044570283744, 5.634550749242287, 5.677494794492968, 5.683569165028432, 5.690033415378411, 5.6942207661826085, 5.703741467089749, 5.756238992826786, 5.771785006860445, 5.772696861435837, 5.798125749970593, 5.839639815206931, 5.842430126892802, 5.858687060077431, 5.871750407352222, 5.876999453593571, 5.932009258016357, 5.944830148967106, 5.945701984089192, 5.957412036397115, 5.968738350285557, 5.975485450949198, 6.046313006795741, 6.077493918584021, 6.081309880593506, 6.1026382308994185, 6.132623239855238, 6.1563990213614845, 6.226528574495734, 6.242626237575886, 6.2536406182033035, 6.27078192370937, 6.271304142581964, 6.295139745138976, 6.385284855076754, 6.394062191344216, 6.411894032707851, 6.423870355051574, 6.445750628654983, 6.49577047312979, 6.497638721834222, 6.500504471194713, 6.5163729996431865, 6.524988597662265, 6.5287637464068125, 6.547999178927548, 6.582598327549529, 6.5952579479768865, 6.599220907740414, 6.625757184989558, 6.669686196917335, 6.669740250394001, 6.712902951037576, 6.72106296881887, 6.7471346602563615, 6.752606462847311, 6.87829664569681, 6.878719829937028, 6.9319659784015295, 6.956862791257179, 6.961526622579371, 7.013463750250772, 7.028163225974181, 7.029750390297299, 7.067484119020744, 7.103509127099552, 7.11733278343257, 7.11961438369285, 7.16527142450406, 7.233494448905743, 7.237962829493153, 7.258660171960946, 7.3578236540202475, 7.359160054703886, 7.402206368995544, 7.423652340875902, 7.46710951366521, 7.498275022593214, 7.571534579095814, 7.6992044297900595, 7.74605062733569, 7.788305670009162, 7.812094469729923, 7.824794482055912, 7.921776287498824, 7.924968119786823, 7.988203668100811, 7.996459814360985, 8.009815290976077, 8.101149322885538, 8.162029956791827, 8.174340802448574, 8.299493452290356, 8.33500131181577, 8.341858485024657, 8.401279006949684, 8.624117728663617, 8.674895383250414, 8.697085106026794, 8.73272323901216, 8.757979818338649, 8.8299861681611, 8.867895573217252, 8.879335337327444, 9.194684249304869, 9.789186193911274, 10.352713410891743], \"y\": [0.0, 0.0053475935828877, 0.0106951871657754, 0.016042780748663103, 0.0213903743315508, 0.026737967914438502, 0.03208556149732621, 0.0374331550802139, 0.0427807486631016, 0.0481283422459893, 0.053475935828877004, 0.058823529411764705, 0.06417112299465241, 0.06951871657754011, 0.0748663101604278, 0.08021390374331551, 0.0855614973262032, 0.09090909090909091, 0.0962566844919786, 0.10160427807486631, 0.10695187165775401, 0.11229946524064172, 0.11764705882352941, 0.12299465240641712, 0.12834224598930483, 0.13368983957219252, 0.13903743315508021, 0.1443850267379679, 0.1497326203208556, 0.15508021390374332, 0.16042780748663102, 0.1657754010695187, 0.1711229946524064, 0.17647058823529413, 0.18181818181818182, 0.18716577540106952, 0.1925133689839572, 0.19786096256684493, 0.20320855614973263, 0.20855614973262032, 0.21390374331550802, 0.2192513368983957, 0.22459893048128343, 0.22994652406417113, 0.23529411764705882, 0.24064171122994651, 0.24598930481283424, 0.25133689839572193, 0.25668449197860965, 0.2620320855614973, 0.26737967914438504, 0.2727272727272727, 0.27807486631016043, 0.28342245989304815, 0.2887700534759358, 0.29411764705882354, 0.2994652406417112, 0.3048128342245989, 0.31016042780748665, 0.3155080213903743, 0.32085561497326204, 0.32620320855614976, 0.3315508021390374, 0.33689839572192515, 0.3422459893048128, 0.34759358288770054, 0.35294117647058826, 0.3582887700534759, 0.36363636363636365, 0.3689839572192513, 0.37433155080213903, 0.37967914438502676, 0.3850267379679144, 0.39037433155080214, 0.39572192513368987, 0.40106951871657753, 0.40641711229946526, 0.4117647058823529, 0.41711229946524064, 0.42245989304812837, 0.42780748663101603, 0.43315508021390375, 0.4385026737967914, 0.44385026737967914, 0.44919786096256686, 0.45454545454545453, 0.45989304812834225, 0.46524064171123, 0.47058823529411764, 0.47593582887700536, 0.48128342245989303, 0.48663101604278075, 0.4919786096256685, 0.49732620320855614, 0.5026737967914439, 0.5080213903743316, 0.5133689839572193, 0.5187165775401069, 0.5240641711229946, 0.5294117647058824, 0.5347593582887701, 0.5401069518716578, 0.5454545454545454, 0.5508021390374331, 0.5561497326203209, 0.5614973262032086, 0.5668449197860963, 0.5721925133689839, 0.5775401069518716, 0.5828877005347594, 0.5882352941176471, 0.5935828877005348, 0.5989304812834224, 0.6042780748663101, 0.6096256684491979, 0.6149732620320856, 0.6203208556149733, 0.6256684491978609, 0.6310160427807486, 0.6363636363636364, 0.6417112299465241, 0.6470588235294118, 0.6524064171122995, 0.6577540106951871, 0.6631016042780749, 0.6684491978609626, 0.6737967914438503, 0.679144385026738, 0.6844919786096256, 0.6898395721925134, 0.6951871657754011, 0.7005347593582888, 0.7058823529411765, 0.7112299465240641, 0.7165775401069518, 0.7219251336898396, 0.7272727272727273, 0.732620320855615, 0.7379679144385026, 0.7433155080213903, 0.7486631016042781, 0.7540106951871658, 0.7593582887700535, 0.7647058823529411, 0.7700534759358288, 0.7754010695187166, 0.7807486631016043, 0.786096256684492, 0.7914438502673797, 0.7967914438502673, 0.8021390374331551, 0.8074866310160428, 0.8128342245989305, 0.8181818181818182, 0.8235294117647058, 0.8288770053475936, 0.8342245989304813, 0.839572192513369, 0.8449197860962567, 0.8502673796791443, 0.8556149732620321, 0.8609625668449198, 0.8663101604278075, 0.8716577540106952, 0.8770053475935828, 0.8823529411764706, 0.8877005347593583, 0.893048128342246, 0.8983957219251337, 0.9037433155080213, 0.9090909090909091, 0.9144385026737968, 0.9197860962566845, 0.9251336898395722, 0.93048128342246, 0.9358288770053476, 0.9411764705882353, 0.946524064171123, 0.9518716577540107, 0.9572192513368984, 0.9625668449197861, 0.9679144385026738, 0.9732620320855615, 0.9786096256684492, 0.983957219251337, 0.9893048128342246, 0.9946524064171123]}],\n",
       "                        {\"template\": {\"data\": {\"bar\": [{\"error_x\": {\"color\": \"#2a3f5f\"}, \"error_y\": {\"color\": \"#2a3f5f\"}, \"marker\": {\"line\": {\"color\": \"#E5ECF6\", \"width\": 0.5}}, \"type\": \"bar\"}], \"barpolar\": [{\"marker\": {\"line\": {\"color\": \"#E5ECF6\", \"width\": 0.5}}, \"type\": \"barpolar\"}], \"carpet\": [{\"aaxis\": {\"endlinecolor\": \"#2a3f5f\", \"gridcolor\": \"white\", \"linecolor\": \"white\", \"minorgridcolor\": \"white\", \"startlinecolor\": \"#2a3f5f\"}, \"baxis\": {\"endlinecolor\": \"#2a3f5f\", \"gridcolor\": \"white\", \"linecolor\": \"white\", \"minorgridcolor\": \"white\", \"startlinecolor\": \"#2a3f5f\"}, \"type\": \"carpet\"}], \"choropleth\": [{\"colorbar\": {\"outlinewidth\": 0, \"ticks\": \"\"}, \"type\": \"choropleth\"}], \"contour\": [{\"colorbar\": {\"outlinewidth\": 0, \"ticks\": \"\"}, \"colorscale\": [[0.0, \"#0d0887\"], [0.1111111111111111, \"#46039f\"], [0.2222222222222222, \"#7201a8\"], [0.3333333333333333, \"#9c179e\"], [0.4444444444444444, \"#bd3786\"], [0.5555555555555556, \"#d8576b\"], [0.6666666666666666, \"#ed7953\"], [0.7777777777777778, \"#fb9f3a\"], [0.8888888888888888, \"#fdca26\"], [1.0, \"#f0f921\"]], \"type\": \"contour\"}], \"contourcarpet\": [{\"colorbar\": {\"outlinewidth\": 0, \"ticks\": \"\"}, \"type\": \"contourcarpet\"}], \"heatmap\": [{\"colorbar\": {\"outlinewidth\": 0, \"ticks\": \"\"}, \"colorscale\": [[0.0, \"#0d0887\"], [0.1111111111111111, \"#46039f\"], [0.2222222222222222, \"#7201a8\"], [0.3333333333333333, \"#9c179e\"], [0.4444444444444444, \"#bd3786\"], [0.5555555555555556, \"#d8576b\"], [0.6666666666666666, \"#ed7953\"], [0.7777777777777778, \"#fb9f3a\"], [0.8888888888888888, \"#fdca26\"], [1.0, \"#f0f921\"]], \"type\": \"heatmap\"}], \"heatmapgl\": [{\"colorbar\": {\"outlinewidth\": 0, \"ticks\": \"\"}, \"colorscale\": [[0.0, \"#0d0887\"], [0.1111111111111111, \"#46039f\"], [0.2222222222222222, \"#7201a8\"], [0.3333333333333333, \"#9c179e\"], [0.4444444444444444, \"#bd3786\"], [0.5555555555555556, \"#d8576b\"], [0.6666666666666666, \"#ed7953\"], [0.7777777777777778, \"#fb9f3a\"], [0.8888888888888888, \"#fdca26\"], [1.0, \"#f0f921\"]], \"type\": \"heatmapgl\"}], \"histogram\": [{\"marker\": {\"colorbar\": {\"outlinewidth\": 0, \"ticks\": \"\"}}, \"type\": \"histogram\"}], \"histogram2d\": [{\"colorbar\": {\"outlinewidth\": 0, \"ticks\": \"\"}, \"colorscale\": [[0.0, \"#0d0887\"], [0.1111111111111111, \"#46039f\"], [0.2222222222222222, \"#7201a8\"], [0.3333333333333333, \"#9c179e\"], [0.4444444444444444, \"#bd3786\"], [0.5555555555555556, \"#d8576b\"], [0.6666666666666666, \"#ed7953\"], [0.7777777777777778, \"#fb9f3a\"], [0.8888888888888888, \"#fdca26\"], [1.0, \"#f0f921\"]], \"type\": \"histogram2d\"}], \"histogram2dcontour\": [{\"colorbar\": {\"outlinewidth\": 0, \"ticks\": \"\"}, \"colorscale\": [[0.0, \"#0d0887\"], [0.1111111111111111, \"#46039f\"], [0.2222222222222222, \"#7201a8\"], [0.3333333333333333, \"#9c179e\"], [0.4444444444444444, \"#bd3786\"], [0.5555555555555556, \"#d8576b\"], [0.6666666666666666, \"#ed7953\"], [0.7777777777777778, \"#fb9f3a\"], [0.8888888888888888, \"#fdca26\"], [1.0, \"#f0f921\"]], \"type\": \"histogram2dcontour\"}], \"mesh3d\": [{\"colorbar\": {\"outlinewidth\": 0, \"ticks\": \"\"}, \"type\": \"mesh3d\"}], \"parcoords\": [{\"line\": {\"colorbar\": {\"outlinewidth\": 0, \"ticks\": \"\"}}, \"type\": \"parcoords\"}], \"scatter\": [{\"marker\": {\"colorbar\": {\"outlinewidth\": 0, \"ticks\": \"\"}}, \"type\": \"scatter\"}], \"scatter3d\": [{\"line\": {\"colorbar\": {\"outlinewidth\": 0, \"ticks\": \"\"}}, \"marker\": {\"colorbar\": {\"outlinewidth\": 0, \"ticks\": \"\"}}, \"type\": \"scatter3d\"}], \"scattercarpet\": [{\"marker\": {\"colorbar\": {\"outlinewidth\": 0, \"ticks\": \"\"}}, \"type\": \"scattercarpet\"}], \"scattergeo\": [{\"marker\": {\"colorbar\": {\"outlinewidth\": 0, \"ticks\": \"\"}}, \"type\": \"scattergeo\"}], \"scattergl\": [{\"marker\": {\"colorbar\": {\"outlinewidth\": 0, \"ticks\": \"\"}}, \"type\": \"scattergl\"}], \"scattermapbox\": [{\"marker\": {\"colorbar\": {\"outlinewidth\": 0, \"ticks\": \"\"}}, \"type\": \"scattermapbox\"}], \"scatterpolar\": [{\"marker\": {\"colorbar\": {\"outlinewidth\": 0, \"ticks\": \"\"}}, \"type\": \"scatterpolar\"}], \"scatterpolargl\": [{\"marker\": {\"colorbar\": {\"outlinewidth\": 0, \"ticks\": \"\"}}, \"type\": \"scatterpolargl\"}], \"scatterternary\": [{\"marker\": {\"colorbar\": {\"outlinewidth\": 0, \"ticks\": \"\"}}, \"type\": \"scatterternary\"}], \"surface\": [{\"colorbar\": {\"outlinewidth\": 0, \"ticks\": \"\"}, \"colorscale\": [[0.0, \"#0d0887\"], [0.1111111111111111, \"#46039f\"], [0.2222222222222222, \"#7201a8\"], [0.3333333333333333, \"#9c179e\"], [0.4444444444444444, \"#bd3786\"], [0.5555555555555556, \"#d8576b\"], [0.6666666666666666, \"#ed7953\"], [0.7777777777777778, \"#fb9f3a\"], [0.8888888888888888, \"#fdca26\"], [1.0, \"#f0f921\"]], \"type\": \"surface\"}], \"table\": [{\"cells\": {\"fill\": {\"color\": \"#EBF0F8\"}, \"line\": {\"color\": \"white\"}}, \"header\": {\"fill\": {\"color\": \"#C8D4E3\"}, \"line\": {\"color\": \"white\"}}, \"type\": \"table\"}]}, \"layout\": {\"annotationdefaults\": {\"arrowcolor\": \"#2a3f5f\", \"arrowhead\": 0, \"arrowwidth\": 1}, \"colorscale\": {\"diverging\": [[0, \"#8e0152\"], [0.1, \"#c51b7d\"], [0.2, \"#de77ae\"], [0.3, \"#f1b6da\"], [0.4, \"#fde0ef\"], [0.5, \"#f7f7f7\"], [0.6, \"#e6f5d0\"], [0.7, \"#b8e186\"], [0.8, \"#7fbc41\"], [0.9, \"#4d9221\"], [1, \"#276419\"]], \"sequential\": [[0.0, \"#0d0887\"], [0.1111111111111111, \"#46039f\"], [0.2222222222222222, \"#7201a8\"], [0.3333333333333333, \"#9c179e\"], [0.4444444444444444, \"#bd3786\"], [0.5555555555555556, \"#d8576b\"], [0.6666666666666666, \"#ed7953\"], [0.7777777777777778, \"#fb9f3a\"], [0.8888888888888888, \"#fdca26\"], [1.0, \"#f0f921\"]], \"sequentialminus\": [[0.0, \"#0d0887\"], [0.1111111111111111, \"#46039f\"], [0.2222222222222222, \"#7201a8\"], [0.3333333333333333, \"#9c179e\"], [0.4444444444444444, \"#bd3786\"], [0.5555555555555556, \"#d8576b\"], [0.6666666666666666, \"#ed7953\"], [0.7777777777777778, \"#fb9f3a\"], [0.8888888888888888, \"#fdca26\"], [1.0, \"#f0f921\"]]}, \"colorway\": [\"#636efa\", \"#EF553B\", \"#00cc96\", \"#ab63fa\", \"#FFA15A\", \"#19d3f3\", \"#FF6692\", \"#B6E880\", \"#FF97FF\", \"#FECB52\"], \"font\": {\"color\": \"#2a3f5f\"}, \"geo\": {\"bgcolor\": \"white\", \"lakecolor\": \"white\", \"landcolor\": \"#E5ECF6\", \"showlakes\": true, \"showland\": true, \"subunitcolor\": \"white\"}, \"hoverlabel\": {\"align\": \"left\"}, \"hovermode\": \"closest\", \"mapbox\": {\"style\": \"light\"}, \"paper_bgcolor\": \"white\", \"plot_bgcolor\": \"#E5ECF6\", \"polar\": {\"angularaxis\": {\"gridcolor\": \"white\", \"linecolor\": \"white\", \"ticks\": \"\"}, \"bgcolor\": \"#E5ECF6\", \"radialaxis\": {\"gridcolor\": \"white\", \"linecolor\": \"white\", \"ticks\": \"\"}}, \"scene\": {\"xaxis\": {\"backgroundcolor\": \"#E5ECF6\", \"gridcolor\": \"white\", \"gridwidth\": 2, \"linecolor\": \"white\", \"showbackground\": true, \"ticks\": \"\", \"zerolinecolor\": \"white\"}, \"yaxis\": {\"backgroundcolor\": \"#E5ECF6\", \"gridcolor\": \"white\", \"gridwidth\": 2, \"linecolor\": \"white\", \"showbackground\": true, \"ticks\": \"\", \"zerolinecolor\": \"white\"}, \"zaxis\": {\"backgroundcolor\": \"#E5ECF6\", \"gridcolor\": \"white\", \"gridwidth\": 2, \"linecolor\": \"white\", \"showbackground\": true, \"ticks\": \"\", \"zerolinecolor\": \"white\"}}, \"shapedefaults\": {\"line\": {\"color\": \"#2a3f5f\"}}, \"ternary\": {\"aaxis\": {\"gridcolor\": \"white\", \"linecolor\": \"white\", \"ticks\": \"\"}, \"baxis\": {\"gridcolor\": \"white\", \"linecolor\": \"white\", \"ticks\": \"\"}, \"bgcolor\": \"#E5ECF6\", \"caxis\": {\"gridcolor\": \"white\", \"linecolor\": \"white\", \"ticks\": \"\"}}, \"title\": {\"x\": 0.05}, \"xaxis\": {\"automargin\": true, \"gridcolor\": \"white\", \"linecolor\": \"white\", \"ticks\": \"\", \"zerolinecolor\": \"white\", \"zerolinewidth\": 2}, \"yaxis\": {\"automargin\": true, \"gridcolor\": \"white\", \"linecolor\": \"white\", \"ticks\": \"\", \"zerolinecolor\": \"white\", \"zerolinewidth\": 2}}}, \"title\": {\"text\": \"Empirical distributions functions\"}},\n",
       "                        {\"responsive\": true}\n",
       "                    ).then(function(){\n",
       "                            \n",
       "var gd = document.getElementById('c2cefacc-a916-4ece-bcbb-2cf0732b96af');\n",
       "var x = new MutationObserver(function (mutations, observer) {{\n",
       "        var display = window.getComputedStyle(gd).display;\n",
       "        if (!display || display === 'none') {{\n",
       "            console.log([gd, 'removed!']);\n",
       "            Plotly.purge(gd);\n",
       "            observer.disconnect();\n",
       "        }}\n",
       "}});\n",
       "\n",
       "// Listen for the removal of the full notebook cells\n",
       "var notebookContainer = gd.closest('#notebook-container');\n",
       "if (notebookContainer) {{\n",
       "    x.observe(notebookContainer, {childList: true});\n",
       "}}\n",
       "\n",
       "// Listen for the clearing of the current output cell\n",
       "var outputEl = gd.closest('.output');\n",
       "if (outputEl) {{\n",
       "    x.observe(outputEl, {childList: true});\n",
       "}}\n",
       "\n",
       "                        })\n",
       "                };\n",
       "                });\n",
       "            </script>\n",
       "        </div>"
      ]
     },
     "metadata": {},
     "output_type": "display_data"
    }
   ],
   "source": [
    "XF_x, XF_y = get_sample_F(X)\n",
    "YF_x, YF_y = get_sample_F(Y)\n",
    "traces = []\n",
    "traces.append(go.Scatter(x=XF_x, y=XF_y, name='X'))\n",
    "traces.append(go.Scatter(x=YF_x, y=YF_y, name='Y'))\n",
    "fig = go.Figure(data=traces, layout=go.Layout(title='Empirical distributions functions'))\n",
    "iplot(fig)"
   ]
  },
  {
   "cell_type": "code",
   "execution_count": 770,
   "metadata": {},
   "outputs": [],
   "source": [
    "def check_hypothesis_mann_whitney(X, Y, p=0.975):\n",
    "    U = stats.mannwhitneyu(X, Y)[0]\n",
    "    n = X.shape[0]\n",
    "    m = n**2/2\n",
    "    s = np.sqrt(n**2*(2*n + 1)/12)\n",
    "    t = (U - m)/s\n",
    "    criteria = stats.norm.ppf(p)\n",
    "    print(f\"U:{U}, t: {t}, criteria: {criteria}\")\n",
    "    if np.abs(t) > criteria:\n",
    "        print(\"H0 is rejected!\")\n",
    "    else:\n",
    "        print(\"H0 can't be rejected!\")"
   ]
  },
  {
   "cell_type": "code",
   "execution_count": 771,
   "metadata": {},
   "outputs": [
    {
     "name": "stdout",
     "output_type": "stream",
     "text": [
      "U:14602.0, t: -2.757418586157495, criteria: 1.959963984540054\n",
      "H0 is rejected!\n"
     ]
    }
   ],
   "source": [
    "check_hypothesis_mann_whitney(X, Y)"
   ]
  },
  {
   "cell_type": "markdown",
   "metadata": {},
   "source": [
    "#### Task 7 (H0 не отклоняется по U-критерию Манна—Уитни, выборки из одного распределения)"
   ]
  },
  {
   "cell_type": "code",
   "execution_count": 774,
   "metadata": {},
   "outputs": [],
   "source": [
    "from collections import Counter\n",
    "df = pd.read_csv('./IB_statistics_data_HW_1.txt', sep=' ')\n",
    "X = df.ex7x.values\n",
    "Y = df.ex7y.values"
   ]
  },
  {
   "cell_type": "markdown",
   "metadata": {},
   "source": [
    "Построим распределения значений в обеих выборках"
   ]
  },
  {
   "cell_type": "code",
   "execution_count": 775,
   "metadata": {},
   "outputs": [
    {
     "data": {
      "application/vnd.plotly.v1+json": {
       "config": {
        "linkText": "Export to plot.ly",
        "plotlyServerURL": "https://plot.ly",
        "showLink": false
       },
       "data": [
        {
         "name": "etalon",
         "type": "bar",
         "x": [
          "A",
          "B",
          "C",
          "D",
          "E",
          "F"
         ],
         "y": [
          8,
          18,
          28,
          41,
          27,
          65
         ]
        },
        {
         "name": "shifted",
         "type": "bar",
         "x": [
          "A",
          "B",
          "C",
          "D",
          "E",
          "F"
         ],
         "y": [
          42,
          17,
          61,
          37,
          23,
          7
         ]
        }
       ],
       "layout": {
        "template": {
         "data": {
          "bar": [
           {
            "error_x": {
             "color": "#2a3f5f"
            },
            "error_y": {
             "color": "#2a3f5f"
            },
            "marker": {
             "line": {
              "color": "#E5ECF6",
              "width": 0.5
             }
            },
            "type": "bar"
           }
          ],
          "barpolar": [
           {
            "marker": {
             "line": {
              "color": "#E5ECF6",
              "width": 0.5
             }
            },
            "type": "barpolar"
           }
          ],
          "carpet": [
           {
            "aaxis": {
             "endlinecolor": "#2a3f5f",
             "gridcolor": "white",
             "linecolor": "white",
             "minorgridcolor": "white",
             "startlinecolor": "#2a3f5f"
            },
            "baxis": {
             "endlinecolor": "#2a3f5f",
             "gridcolor": "white",
             "linecolor": "white",
             "minorgridcolor": "white",
             "startlinecolor": "#2a3f5f"
            },
            "type": "carpet"
           }
          ],
          "choropleth": [
           {
            "colorbar": {
             "outlinewidth": 0,
             "ticks": ""
            },
            "type": "choropleth"
           }
          ],
          "contour": [
           {
            "colorbar": {
             "outlinewidth": 0,
             "ticks": ""
            },
            "colorscale": [
             [
              0,
              "#0d0887"
             ],
             [
              0.1111111111111111,
              "#46039f"
             ],
             [
              0.2222222222222222,
              "#7201a8"
             ],
             [
              0.3333333333333333,
              "#9c179e"
             ],
             [
              0.4444444444444444,
              "#bd3786"
             ],
             [
              0.5555555555555556,
              "#d8576b"
             ],
             [
              0.6666666666666666,
              "#ed7953"
             ],
             [
              0.7777777777777778,
              "#fb9f3a"
             ],
             [
              0.8888888888888888,
              "#fdca26"
             ],
             [
              1,
              "#f0f921"
             ]
            ],
            "type": "contour"
           }
          ],
          "contourcarpet": [
           {
            "colorbar": {
             "outlinewidth": 0,
             "ticks": ""
            },
            "type": "contourcarpet"
           }
          ],
          "heatmap": [
           {
            "colorbar": {
             "outlinewidth": 0,
             "ticks": ""
            },
            "colorscale": [
             [
              0,
              "#0d0887"
             ],
             [
              0.1111111111111111,
              "#46039f"
             ],
             [
              0.2222222222222222,
              "#7201a8"
             ],
             [
              0.3333333333333333,
              "#9c179e"
             ],
             [
              0.4444444444444444,
              "#bd3786"
             ],
             [
              0.5555555555555556,
              "#d8576b"
             ],
             [
              0.6666666666666666,
              "#ed7953"
             ],
             [
              0.7777777777777778,
              "#fb9f3a"
             ],
             [
              0.8888888888888888,
              "#fdca26"
             ],
             [
              1,
              "#f0f921"
             ]
            ],
            "type": "heatmap"
           }
          ],
          "heatmapgl": [
           {
            "colorbar": {
             "outlinewidth": 0,
             "ticks": ""
            },
            "colorscale": [
             [
              0,
              "#0d0887"
             ],
             [
              0.1111111111111111,
              "#46039f"
             ],
             [
              0.2222222222222222,
              "#7201a8"
             ],
             [
              0.3333333333333333,
              "#9c179e"
             ],
             [
              0.4444444444444444,
              "#bd3786"
             ],
             [
              0.5555555555555556,
              "#d8576b"
             ],
             [
              0.6666666666666666,
              "#ed7953"
             ],
             [
              0.7777777777777778,
              "#fb9f3a"
             ],
             [
              0.8888888888888888,
              "#fdca26"
             ],
             [
              1,
              "#f0f921"
             ]
            ],
            "type": "heatmapgl"
           }
          ],
          "histogram": [
           {
            "marker": {
             "colorbar": {
              "outlinewidth": 0,
              "ticks": ""
             }
            },
            "type": "histogram"
           }
          ],
          "histogram2d": [
           {
            "colorbar": {
             "outlinewidth": 0,
             "ticks": ""
            },
            "colorscale": [
             [
              0,
              "#0d0887"
             ],
             [
              0.1111111111111111,
              "#46039f"
             ],
             [
              0.2222222222222222,
              "#7201a8"
             ],
             [
              0.3333333333333333,
              "#9c179e"
             ],
             [
              0.4444444444444444,
              "#bd3786"
             ],
             [
              0.5555555555555556,
              "#d8576b"
             ],
             [
              0.6666666666666666,
              "#ed7953"
             ],
             [
              0.7777777777777778,
              "#fb9f3a"
             ],
             [
              0.8888888888888888,
              "#fdca26"
             ],
             [
              1,
              "#f0f921"
             ]
            ],
            "type": "histogram2d"
           }
          ],
          "histogram2dcontour": [
           {
            "colorbar": {
             "outlinewidth": 0,
             "ticks": ""
            },
            "colorscale": [
             [
              0,
              "#0d0887"
             ],
             [
              0.1111111111111111,
              "#46039f"
             ],
             [
              0.2222222222222222,
              "#7201a8"
             ],
             [
              0.3333333333333333,
              "#9c179e"
             ],
             [
              0.4444444444444444,
              "#bd3786"
             ],
             [
              0.5555555555555556,
              "#d8576b"
             ],
             [
              0.6666666666666666,
              "#ed7953"
             ],
             [
              0.7777777777777778,
              "#fb9f3a"
             ],
             [
              0.8888888888888888,
              "#fdca26"
             ],
             [
              1,
              "#f0f921"
             ]
            ],
            "type": "histogram2dcontour"
           }
          ],
          "mesh3d": [
           {
            "colorbar": {
             "outlinewidth": 0,
             "ticks": ""
            },
            "type": "mesh3d"
           }
          ],
          "parcoords": [
           {
            "line": {
             "colorbar": {
              "outlinewidth": 0,
              "ticks": ""
             }
            },
            "type": "parcoords"
           }
          ],
          "scatter": [
           {
            "marker": {
             "colorbar": {
              "outlinewidth": 0,
              "ticks": ""
             }
            },
            "type": "scatter"
           }
          ],
          "scatter3d": [
           {
            "line": {
             "colorbar": {
              "outlinewidth": 0,
              "ticks": ""
             }
            },
            "marker": {
             "colorbar": {
              "outlinewidth": 0,
              "ticks": ""
             }
            },
            "type": "scatter3d"
           }
          ],
          "scattercarpet": [
           {
            "marker": {
             "colorbar": {
              "outlinewidth": 0,
              "ticks": ""
             }
            },
            "type": "scattercarpet"
           }
          ],
          "scattergeo": [
           {
            "marker": {
             "colorbar": {
              "outlinewidth": 0,
              "ticks": ""
             }
            },
            "type": "scattergeo"
           }
          ],
          "scattergl": [
           {
            "marker": {
             "colorbar": {
              "outlinewidth": 0,
              "ticks": ""
             }
            },
            "type": "scattergl"
           }
          ],
          "scattermapbox": [
           {
            "marker": {
             "colorbar": {
              "outlinewidth": 0,
              "ticks": ""
             }
            },
            "type": "scattermapbox"
           }
          ],
          "scatterpolar": [
           {
            "marker": {
             "colorbar": {
              "outlinewidth": 0,
              "ticks": ""
             }
            },
            "type": "scatterpolar"
           }
          ],
          "scatterpolargl": [
           {
            "marker": {
             "colorbar": {
              "outlinewidth": 0,
              "ticks": ""
             }
            },
            "type": "scatterpolargl"
           }
          ],
          "scatterternary": [
           {
            "marker": {
             "colorbar": {
              "outlinewidth": 0,
              "ticks": ""
             }
            },
            "type": "scatterternary"
           }
          ],
          "surface": [
           {
            "colorbar": {
             "outlinewidth": 0,
             "ticks": ""
            },
            "colorscale": [
             [
              0,
              "#0d0887"
             ],
             [
              0.1111111111111111,
              "#46039f"
             ],
             [
              0.2222222222222222,
              "#7201a8"
             ],
             [
              0.3333333333333333,
              "#9c179e"
             ],
             [
              0.4444444444444444,
              "#bd3786"
             ],
             [
              0.5555555555555556,
              "#d8576b"
             ],
             [
              0.6666666666666666,
              "#ed7953"
             ],
             [
              0.7777777777777778,
              "#fb9f3a"
             ],
             [
              0.8888888888888888,
              "#fdca26"
             ],
             [
              1,
              "#f0f921"
             ]
            ],
            "type": "surface"
           }
          ],
          "table": [
           {
            "cells": {
             "fill": {
              "color": "#EBF0F8"
             },
             "line": {
              "color": "white"
             }
            },
            "header": {
             "fill": {
              "color": "#C8D4E3"
             },
             "line": {
              "color": "white"
             }
            },
            "type": "table"
           }
          ]
         },
         "layout": {
          "annotationdefaults": {
           "arrowcolor": "#2a3f5f",
           "arrowhead": 0,
           "arrowwidth": 1
          },
          "colorscale": {
           "diverging": [
            [
             0,
             "#8e0152"
            ],
            [
             0.1,
             "#c51b7d"
            ],
            [
             0.2,
             "#de77ae"
            ],
            [
             0.3,
             "#f1b6da"
            ],
            [
             0.4,
             "#fde0ef"
            ],
            [
             0.5,
             "#f7f7f7"
            ],
            [
             0.6,
             "#e6f5d0"
            ],
            [
             0.7,
             "#b8e186"
            ],
            [
             0.8,
             "#7fbc41"
            ],
            [
             0.9,
             "#4d9221"
            ],
            [
             1,
             "#276419"
            ]
           ],
           "sequential": [
            [
             0,
             "#0d0887"
            ],
            [
             0.1111111111111111,
             "#46039f"
            ],
            [
             0.2222222222222222,
             "#7201a8"
            ],
            [
             0.3333333333333333,
             "#9c179e"
            ],
            [
             0.4444444444444444,
             "#bd3786"
            ],
            [
             0.5555555555555556,
             "#d8576b"
            ],
            [
             0.6666666666666666,
             "#ed7953"
            ],
            [
             0.7777777777777778,
             "#fb9f3a"
            ],
            [
             0.8888888888888888,
             "#fdca26"
            ],
            [
             1,
             "#f0f921"
            ]
           ],
           "sequentialminus": [
            [
             0,
             "#0d0887"
            ],
            [
             0.1111111111111111,
             "#46039f"
            ],
            [
             0.2222222222222222,
             "#7201a8"
            ],
            [
             0.3333333333333333,
             "#9c179e"
            ],
            [
             0.4444444444444444,
             "#bd3786"
            ],
            [
             0.5555555555555556,
             "#d8576b"
            ],
            [
             0.6666666666666666,
             "#ed7953"
            ],
            [
             0.7777777777777778,
             "#fb9f3a"
            ],
            [
             0.8888888888888888,
             "#fdca26"
            ],
            [
             1,
             "#f0f921"
            ]
           ]
          },
          "colorway": [
           "#636efa",
           "#EF553B",
           "#00cc96",
           "#ab63fa",
           "#FFA15A",
           "#19d3f3",
           "#FF6692",
           "#B6E880",
           "#FF97FF",
           "#FECB52"
          ],
          "font": {
           "color": "#2a3f5f"
          },
          "geo": {
           "bgcolor": "white",
           "lakecolor": "white",
           "landcolor": "#E5ECF6",
           "showlakes": true,
           "showland": true,
           "subunitcolor": "white"
          },
          "hoverlabel": {
           "align": "left"
          },
          "hovermode": "closest",
          "mapbox": {
           "style": "light"
          },
          "paper_bgcolor": "white",
          "plot_bgcolor": "#E5ECF6",
          "polar": {
           "angularaxis": {
            "gridcolor": "white",
            "linecolor": "white",
            "ticks": ""
           },
           "bgcolor": "#E5ECF6",
           "radialaxis": {
            "gridcolor": "white",
            "linecolor": "white",
            "ticks": ""
           }
          },
          "scene": {
           "xaxis": {
            "backgroundcolor": "#E5ECF6",
            "gridcolor": "white",
            "gridwidth": 2,
            "linecolor": "white",
            "showbackground": true,
            "ticks": "",
            "zerolinecolor": "white"
           },
           "yaxis": {
            "backgroundcolor": "#E5ECF6",
            "gridcolor": "white",
            "gridwidth": 2,
            "linecolor": "white",
            "showbackground": true,
            "ticks": "",
            "zerolinecolor": "white"
           },
           "zaxis": {
            "backgroundcolor": "#E5ECF6",
            "gridcolor": "white",
            "gridwidth": 2,
            "linecolor": "white",
            "showbackground": true,
            "ticks": "",
            "zerolinecolor": "white"
           }
          },
          "shapedefaults": {
           "line": {
            "color": "#2a3f5f"
           }
          },
          "ternary": {
           "aaxis": {
            "gridcolor": "white",
            "linecolor": "white",
            "ticks": ""
           },
           "baxis": {
            "gridcolor": "white",
            "linecolor": "white",
            "ticks": ""
           },
           "bgcolor": "#E5ECF6",
           "caxis": {
            "gridcolor": "white",
            "linecolor": "white",
            "ticks": ""
           }
          },
          "title": {
           "x": 0.05
          },
          "xaxis": {
           "automargin": true,
           "gridcolor": "white",
           "linecolor": "white",
           "ticks": "",
           "zerolinecolor": "white",
           "zerolinewidth": 2
          },
          "yaxis": {
           "automargin": true,
           "gridcolor": "white",
           "linecolor": "white",
           "ticks": "",
           "zerolinecolor": "white",
           "zerolinewidth": 2
          }
         }
        }
       }
      },
      "text/html": [
       "<div>\n",
       "        \n",
       "        \n",
       "            <div id=\"38e2a9d5-e64d-4c30-b04d-cf07e89d7248\" class=\"plotly-graph-div\" style=\"height:525px; width:100%;\"></div>\n",
       "            <script type=\"text/javascript\">\n",
       "                require([\"plotly\"], function(Plotly) {\n",
       "                    window.PLOTLYENV=window.PLOTLYENV || {};\n",
       "                    \n",
       "                if (document.getElementById(\"38e2a9d5-e64d-4c30-b04d-cf07e89d7248\")) {\n",
       "                    Plotly.newPlot(\n",
       "                        '38e2a9d5-e64d-4c30-b04d-cf07e89d7248',\n",
       "                        [{\"name\": \"etalon\", \"type\": \"bar\", \"x\": [\"A\", \"B\", \"C\", \"D\", \"E\", \"F\"], \"y\": [8, 18, 28, 41, 27, 65]}, {\"name\": \"shifted\", \"type\": \"bar\", \"x\": [\"A\", \"B\", \"C\", \"D\", \"E\", \"F\"], \"y\": [42, 17, 61, 37, 23, 7]}],\n",
       "                        {\"template\": {\"data\": {\"bar\": [{\"error_x\": {\"color\": \"#2a3f5f\"}, \"error_y\": {\"color\": \"#2a3f5f\"}, \"marker\": {\"line\": {\"color\": \"#E5ECF6\", \"width\": 0.5}}, \"type\": \"bar\"}], \"barpolar\": [{\"marker\": {\"line\": {\"color\": \"#E5ECF6\", \"width\": 0.5}}, \"type\": \"barpolar\"}], \"carpet\": [{\"aaxis\": {\"endlinecolor\": \"#2a3f5f\", \"gridcolor\": \"white\", \"linecolor\": \"white\", \"minorgridcolor\": \"white\", \"startlinecolor\": \"#2a3f5f\"}, \"baxis\": {\"endlinecolor\": \"#2a3f5f\", \"gridcolor\": \"white\", \"linecolor\": \"white\", \"minorgridcolor\": \"white\", \"startlinecolor\": \"#2a3f5f\"}, \"type\": \"carpet\"}], \"choropleth\": [{\"colorbar\": {\"outlinewidth\": 0, \"ticks\": \"\"}, \"type\": \"choropleth\"}], \"contour\": [{\"colorbar\": {\"outlinewidth\": 0, \"ticks\": \"\"}, \"colorscale\": [[0.0, \"#0d0887\"], [0.1111111111111111, \"#46039f\"], [0.2222222222222222, \"#7201a8\"], [0.3333333333333333, \"#9c179e\"], [0.4444444444444444, \"#bd3786\"], [0.5555555555555556, \"#d8576b\"], [0.6666666666666666, \"#ed7953\"], [0.7777777777777778, \"#fb9f3a\"], [0.8888888888888888, \"#fdca26\"], [1.0, \"#f0f921\"]], \"type\": \"contour\"}], \"contourcarpet\": [{\"colorbar\": {\"outlinewidth\": 0, \"ticks\": \"\"}, \"type\": \"contourcarpet\"}], \"heatmap\": [{\"colorbar\": {\"outlinewidth\": 0, \"ticks\": \"\"}, \"colorscale\": [[0.0, \"#0d0887\"], [0.1111111111111111, \"#46039f\"], [0.2222222222222222, \"#7201a8\"], [0.3333333333333333, \"#9c179e\"], [0.4444444444444444, \"#bd3786\"], [0.5555555555555556, \"#d8576b\"], [0.6666666666666666, \"#ed7953\"], [0.7777777777777778, \"#fb9f3a\"], [0.8888888888888888, \"#fdca26\"], [1.0, \"#f0f921\"]], \"type\": \"heatmap\"}], \"heatmapgl\": [{\"colorbar\": {\"outlinewidth\": 0, \"ticks\": \"\"}, \"colorscale\": [[0.0, \"#0d0887\"], [0.1111111111111111, \"#46039f\"], [0.2222222222222222, \"#7201a8\"], [0.3333333333333333, \"#9c179e\"], [0.4444444444444444, \"#bd3786\"], [0.5555555555555556, \"#d8576b\"], [0.6666666666666666, \"#ed7953\"], [0.7777777777777778, \"#fb9f3a\"], [0.8888888888888888, \"#fdca26\"], [1.0, \"#f0f921\"]], \"type\": \"heatmapgl\"}], \"histogram\": [{\"marker\": {\"colorbar\": {\"outlinewidth\": 0, \"ticks\": \"\"}}, \"type\": \"histogram\"}], \"histogram2d\": [{\"colorbar\": {\"outlinewidth\": 0, \"ticks\": \"\"}, \"colorscale\": [[0.0, \"#0d0887\"], [0.1111111111111111, \"#46039f\"], [0.2222222222222222, \"#7201a8\"], [0.3333333333333333, \"#9c179e\"], [0.4444444444444444, \"#bd3786\"], [0.5555555555555556, \"#d8576b\"], [0.6666666666666666, \"#ed7953\"], [0.7777777777777778, \"#fb9f3a\"], [0.8888888888888888, \"#fdca26\"], [1.0, \"#f0f921\"]], \"type\": \"histogram2d\"}], \"histogram2dcontour\": [{\"colorbar\": {\"outlinewidth\": 0, \"ticks\": \"\"}, \"colorscale\": [[0.0, \"#0d0887\"], [0.1111111111111111, \"#46039f\"], [0.2222222222222222, \"#7201a8\"], [0.3333333333333333, \"#9c179e\"], [0.4444444444444444, \"#bd3786\"], [0.5555555555555556, \"#d8576b\"], [0.6666666666666666, \"#ed7953\"], [0.7777777777777778, \"#fb9f3a\"], [0.8888888888888888, \"#fdca26\"], [1.0, \"#f0f921\"]], \"type\": \"histogram2dcontour\"}], \"mesh3d\": [{\"colorbar\": {\"outlinewidth\": 0, \"ticks\": \"\"}, \"type\": \"mesh3d\"}], \"parcoords\": [{\"line\": {\"colorbar\": {\"outlinewidth\": 0, \"ticks\": \"\"}}, \"type\": \"parcoords\"}], \"scatter\": [{\"marker\": {\"colorbar\": {\"outlinewidth\": 0, \"ticks\": \"\"}}, \"type\": \"scatter\"}], \"scatter3d\": [{\"line\": {\"colorbar\": {\"outlinewidth\": 0, \"ticks\": \"\"}}, \"marker\": {\"colorbar\": {\"outlinewidth\": 0, \"ticks\": \"\"}}, \"type\": \"scatter3d\"}], \"scattercarpet\": [{\"marker\": {\"colorbar\": {\"outlinewidth\": 0, \"ticks\": \"\"}}, \"type\": \"scattercarpet\"}], \"scattergeo\": [{\"marker\": {\"colorbar\": {\"outlinewidth\": 0, \"ticks\": \"\"}}, \"type\": \"scattergeo\"}], \"scattergl\": [{\"marker\": {\"colorbar\": {\"outlinewidth\": 0, \"ticks\": \"\"}}, \"type\": \"scattergl\"}], \"scattermapbox\": [{\"marker\": {\"colorbar\": {\"outlinewidth\": 0, \"ticks\": \"\"}}, \"type\": \"scattermapbox\"}], \"scatterpolar\": [{\"marker\": {\"colorbar\": {\"outlinewidth\": 0, \"ticks\": \"\"}}, \"type\": \"scatterpolar\"}], \"scatterpolargl\": [{\"marker\": {\"colorbar\": {\"outlinewidth\": 0, \"ticks\": \"\"}}, \"type\": \"scatterpolargl\"}], \"scatterternary\": [{\"marker\": {\"colorbar\": {\"outlinewidth\": 0, \"ticks\": \"\"}}, \"type\": \"scatterternary\"}], \"surface\": [{\"colorbar\": {\"outlinewidth\": 0, \"ticks\": \"\"}, \"colorscale\": [[0.0, \"#0d0887\"], [0.1111111111111111, \"#46039f\"], [0.2222222222222222, \"#7201a8\"], [0.3333333333333333, \"#9c179e\"], [0.4444444444444444, \"#bd3786\"], [0.5555555555555556, \"#d8576b\"], [0.6666666666666666, \"#ed7953\"], [0.7777777777777778, \"#fb9f3a\"], [0.8888888888888888, \"#fdca26\"], [1.0, \"#f0f921\"]], \"type\": \"surface\"}], \"table\": [{\"cells\": {\"fill\": {\"color\": \"#EBF0F8\"}, \"line\": {\"color\": \"white\"}}, \"header\": {\"fill\": {\"color\": \"#C8D4E3\"}, \"line\": {\"color\": \"white\"}}, \"type\": \"table\"}]}, \"layout\": {\"annotationdefaults\": {\"arrowcolor\": \"#2a3f5f\", \"arrowhead\": 0, \"arrowwidth\": 1}, \"colorscale\": {\"diverging\": [[0, \"#8e0152\"], [0.1, \"#c51b7d\"], [0.2, \"#de77ae\"], [0.3, \"#f1b6da\"], [0.4, \"#fde0ef\"], [0.5, \"#f7f7f7\"], [0.6, \"#e6f5d0\"], [0.7, \"#b8e186\"], [0.8, \"#7fbc41\"], [0.9, \"#4d9221\"], [1, \"#276419\"]], \"sequential\": [[0.0, \"#0d0887\"], [0.1111111111111111, \"#46039f\"], [0.2222222222222222, \"#7201a8\"], [0.3333333333333333, \"#9c179e\"], [0.4444444444444444, \"#bd3786\"], [0.5555555555555556, \"#d8576b\"], [0.6666666666666666, \"#ed7953\"], [0.7777777777777778, \"#fb9f3a\"], [0.8888888888888888, \"#fdca26\"], [1.0, \"#f0f921\"]], \"sequentialminus\": [[0.0, \"#0d0887\"], [0.1111111111111111, \"#46039f\"], [0.2222222222222222, \"#7201a8\"], [0.3333333333333333, \"#9c179e\"], [0.4444444444444444, \"#bd3786\"], [0.5555555555555556, \"#d8576b\"], [0.6666666666666666, \"#ed7953\"], [0.7777777777777778, \"#fb9f3a\"], [0.8888888888888888, \"#fdca26\"], [1.0, \"#f0f921\"]]}, \"colorway\": [\"#636efa\", \"#EF553B\", \"#00cc96\", \"#ab63fa\", \"#FFA15A\", \"#19d3f3\", \"#FF6692\", \"#B6E880\", \"#FF97FF\", \"#FECB52\"], \"font\": {\"color\": \"#2a3f5f\"}, \"geo\": {\"bgcolor\": \"white\", \"lakecolor\": \"white\", \"landcolor\": \"#E5ECF6\", \"showlakes\": true, \"showland\": true, \"subunitcolor\": \"white\"}, \"hoverlabel\": {\"align\": \"left\"}, \"hovermode\": \"closest\", \"mapbox\": {\"style\": \"light\"}, \"paper_bgcolor\": \"white\", \"plot_bgcolor\": \"#E5ECF6\", \"polar\": {\"angularaxis\": {\"gridcolor\": \"white\", \"linecolor\": \"white\", \"ticks\": \"\"}, \"bgcolor\": \"#E5ECF6\", \"radialaxis\": {\"gridcolor\": \"white\", \"linecolor\": \"white\", \"ticks\": \"\"}}, \"scene\": {\"xaxis\": {\"backgroundcolor\": \"#E5ECF6\", \"gridcolor\": \"white\", \"gridwidth\": 2, \"linecolor\": \"white\", \"showbackground\": true, \"ticks\": \"\", \"zerolinecolor\": \"white\"}, \"yaxis\": {\"backgroundcolor\": \"#E5ECF6\", \"gridcolor\": \"white\", \"gridwidth\": 2, \"linecolor\": \"white\", \"showbackground\": true, \"ticks\": \"\", \"zerolinecolor\": \"white\"}, \"zaxis\": {\"backgroundcolor\": \"#E5ECF6\", \"gridcolor\": \"white\", \"gridwidth\": 2, \"linecolor\": \"white\", \"showbackground\": true, \"ticks\": \"\", \"zerolinecolor\": \"white\"}}, \"shapedefaults\": {\"line\": {\"color\": \"#2a3f5f\"}}, \"ternary\": {\"aaxis\": {\"gridcolor\": \"white\", \"linecolor\": \"white\", \"ticks\": \"\"}, \"baxis\": {\"gridcolor\": \"white\", \"linecolor\": \"white\", \"ticks\": \"\"}, \"bgcolor\": \"#E5ECF6\", \"caxis\": {\"gridcolor\": \"white\", \"linecolor\": \"white\", \"ticks\": \"\"}}, \"title\": {\"x\": 0.05}, \"xaxis\": {\"automargin\": true, \"gridcolor\": \"white\", \"linecolor\": \"white\", \"ticks\": \"\", \"zerolinecolor\": \"white\", \"zerolinewidth\": 2}, \"yaxis\": {\"automargin\": true, \"gridcolor\": \"white\", \"linecolor\": \"white\", \"ticks\": \"\", \"zerolinecolor\": \"white\", \"zerolinewidth\": 2}}}},\n",
       "                        {\"responsive\": true}\n",
       "                    ).then(function(){\n",
       "                            \n",
       "var gd = document.getElementById('38e2a9d5-e64d-4c30-b04d-cf07e89d7248');\n",
       "var x = new MutationObserver(function (mutations, observer) {{\n",
       "        var display = window.getComputedStyle(gd).display;\n",
       "        if (!display || display === 'none') {{\n",
       "            console.log([gd, 'removed!']);\n",
       "            Plotly.purge(gd);\n",
       "            observer.disconnect();\n",
       "        }}\n",
       "}});\n",
       "\n",
       "// Listen for the removal of the full notebook cells\n",
       "var notebookContainer = gd.closest('#notebook-container');\n",
       "if (notebookContainer) {{\n",
       "    x.observe(notebookContainer, {childList: true});\n",
       "}}\n",
       "\n",
       "// Listen for the clearing of the current output cell\n",
       "var outputEl = gd.closest('.output');\n",
       "if (outputEl) {{\n",
       "    x.observe(outputEl, {childList: true});\n",
       "}}\n",
       "\n",
       "                        })\n",
       "                };\n",
       "                });\n",
       "            </script>\n",
       "        </div>"
      ]
     },
     "metadata": {},
     "output_type": "display_data"
    }
   ],
   "source": [
    "cnt_x = Counter(X)\n",
    "cnt_y = Counter(Y)\n",
    "letters = ['A', 'B', 'C', 'D', 'E', 'F']\n",
    "y1 = [cnt_x[l] for l in letters]\n",
    "y2 = [cnt_y[l] for l in letters]\n",
    "\n",
    "traces = []\n",
    "traces.append(go.Bar(x=letters, y=y1, name='etalon'))\n",
    "traces.append(go.Bar(x=letters, y=y2, name='shifted'))\n",
    "fig = go.Figure(data=traces)\n",
    "iplot(fig)"
   ]
  },
  {
   "cell_type": "markdown",
   "metadata": {},
   "source": [
    "На графике заметно, что сдвинуты A, C, F. Поменяем их и снова построим гистограмму"
   ]
  },
  {
   "cell_type": "code",
   "execution_count": 776,
   "metadata": {},
   "outputs": [
    {
     "data": {
      "application/vnd.plotly.v1+json": {
       "config": {
        "linkText": "Export to plot.ly",
        "plotlyServerURL": "https://plot.ly",
        "showLink": false
       },
       "data": [
        {
         "name": "etalon",
         "type": "bar",
         "x": [
          "A",
          "B",
          "C",
          "D",
          "E",
          "F"
         ],
         "y": [
          8,
          18,
          28,
          41,
          27,
          65
         ]
        },
        {
         "name": "normal",
         "type": "bar",
         "x": [
          "A",
          "B",
          "C",
          "D",
          "E",
          "F"
         ],
         "y": [
          7,
          17,
          42,
          37,
          23,
          61
         ]
        }
       ],
       "layout": {
        "template": {
         "data": {
          "bar": [
           {
            "error_x": {
             "color": "#2a3f5f"
            },
            "error_y": {
             "color": "#2a3f5f"
            },
            "marker": {
             "line": {
              "color": "#E5ECF6",
              "width": 0.5
             }
            },
            "type": "bar"
           }
          ],
          "barpolar": [
           {
            "marker": {
             "line": {
              "color": "#E5ECF6",
              "width": 0.5
             }
            },
            "type": "barpolar"
           }
          ],
          "carpet": [
           {
            "aaxis": {
             "endlinecolor": "#2a3f5f",
             "gridcolor": "white",
             "linecolor": "white",
             "minorgridcolor": "white",
             "startlinecolor": "#2a3f5f"
            },
            "baxis": {
             "endlinecolor": "#2a3f5f",
             "gridcolor": "white",
             "linecolor": "white",
             "minorgridcolor": "white",
             "startlinecolor": "#2a3f5f"
            },
            "type": "carpet"
           }
          ],
          "choropleth": [
           {
            "colorbar": {
             "outlinewidth": 0,
             "ticks": ""
            },
            "type": "choropleth"
           }
          ],
          "contour": [
           {
            "colorbar": {
             "outlinewidth": 0,
             "ticks": ""
            },
            "colorscale": [
             [
              0,
              "#0d0887"
             ],
             [
              0.1111111111111111,
              "#46039f"
             ],
             [
              0.2222222222222222,
              "#7201a8"
             ],
             [
              0.3333333333333333,
              "#9c179e"
             ],
             [
              0.4444444444444444,
              "#bd3786"
             ],
             [
              0.5555555555555556,
              "#d8576b"
             ],
             [
              0.6666666666666666,
              "#ed7953"
             ],
             [
              0.7777777777777778,
              "#fb9f3a"
             ],
             [
              0.8888888888888888,
              "#fdca26"
             ],
             [
              1,
              "#f0f921"
             ]
            ],
            "type": "contour"
           }
          ],
          "contourcarpet": [
           {
            "colorbar": {
             "outlinewidth": 0,
             "ticks": ""
            },
            "type": "contourcarpet"
           }
          ],
          "heatmap": [
           {
            "colorbar": {
             "outlinewidth": 0,
             "ticks": ""
            },
            "colorscale": [
             [
              0,
              "#0d0887"
             ],
             [
              0.1111111111111111,
              "#46039f"
             ],
             [
              0.2222222222222222,
              "#7201a8"
             ],
             [
              0.3333333333333333,
              "#9c179e"
             ],
             [
              0.4444444444444444,
              "#bd3786"
             ],
             [
              0.5555555555555556,
              "#d8576b"
             ],
             [
              0.6666666666666666,
              "#ed7953"
             ],
             [
              0.7777777777777778,
              "#fb9f3a"
             ],
             [
              0.8888888888888888,
              "#fdca26"
             ],
             [
              1,
              "#f0f921"
             ]
            ],
            "type": "heatmap"
           }
          ],
          "heatmapgl": [
           {
            "colorbar": {
             "outlinewidth": 0,
             "ticks": ""
            },
            "colorscale": [
             [
              0,
              "#0d0887"
             ],
             [
              0.1111111111111111,
              "#46039f"
             ],
             [
              0.2222222222222222,
              "#7201a8"
             ],
             [
              0.3333333333333333,
              "#9c179e"
             ],
             [
              0.4444444444444444,
              "#bd3786"
             ],
             [
              0.5555555555555556,
              "#d8576b"
             ],
             [
              0.6666666666666666,
              "#ed7953"
             ],
             [
              0.7777777777777778,
              "#fb9f3a"
             ],
             [
              0.8888888888888888,
              "#fdca26"
             ],
             [
              1,
              "#f0f921"
             ]
            ],
            "type": "heatmapgl"
           }
          ],
          "histogram": [
           {
            "marker": {
             "colorbar": {
              "outlinewidth": 0,
              "ticks": ""
             }
            },
            "type": "histogram"
           }
          ],
          "histogram2d": [
           {
            "colorbar": {
             "outlinewidth": 0,
             "ticks": ""
            },
            "colorscale": [
             [
              0,
              "#0d0887"
             ],
             [
              0.1111111111111111,
              "#46039f"
             ],
             [
              0.2222222222222222,
              "#7201a8"
             ],
             [
              0.3333333333333333,
              "#9c179e"
             ],
             [
              0.4444444444444444,
              "#bd3786"
             ],
             [
              0.5555555555555556,
              "#d8576b"
             ],
             [
              0.6666666666666666,
              "#ed7953"
             ],
             [
              0.7777777777777778,
              "#fb9f3a"
             ],
             [
              0.8888888888888888,
              "#fdca26"
             ],
             [
              1,
              "#f0f921"
             ]
            ],
            "type": "histogram2d"
           }
          ],
          "histogram2dcontour": [
           {
            "colorbar": {
             "outlinewidth": 0,
             "ticks": ""
            },
            "colorscale": [
             [
              0,
              "#0d0887"
             ],
             [
              0.1111111111111111,
              "#46039f"
             ],
             [
              0.2222222222222222,
              "#7201a8"
             ],
             [
              0.3333333333333333,
              "#9c179e"
             ],
             [
              0.4444444444444444,
              "#bd3786"
             ],
             [
              0.5555555555555556,
              "#d8576b"
             ],
             [
              0.6666666666666666,
              "#ed7953"
             ],
             [
              0.7777777777777778,
              "#fb9f3a"
             ],
             [
              0.8888888888888888,
              "#fdca26"
             ],
             [
              1,
              "#f0f921"
             ]
            ],
            "type": "histogram2dcontour"
           }
          ],
          "mesh3d": [
           {
            "colorbar": {
             "outlinewidth": 0,
             "ticks": ""
            },
            "type": "mesh3d"
           }
          ],
          "parcoords": [
           {
            "line": {
             "colorbar": {
              "outlinewidth": 0,
              "ticks": ""
             }
            },
            "type": "parcoords"
           }
          ],
          "scatter": [
           {
            "marker": {
             "colorbar": {
              "outlinewidth": 0,
              "ticks": ""
             }
            },
            "type": "scatter"
           }
          ],
          "scatter3d": [
           {
            "line": {
             "colorbar": {
              "outlinewidth": 0,
              "ticks": ""
             }
            },
            "marker": {
             "colorbar": {
              "outlinewidth": 0,
              "ticks": ""
             }
            },
            "type": "scatter3d"
           }
          ],
          "scattercarpet": [
           {
            "marker": {
             "colorbar": {
              "outlinewidth": 0,
              "ticks": ""
             }
            },
            "type": "scattercarpet"
           }
          ],
          "scattergeo": [
           {
            "marker": {
             "colorbar": {
              "outlinewidth": 0,
              "ticks": ""
             }
            },
            "type": "scattergeo"
           }
          ],
          "scattergl": [
           {
            "marker": {
             "colorbar": {
              "outlinewidth": 0,
              "ticks": ""
             }
            },
            "type": "scattergl"
           }
          ],
          "scattermapbox": [
           {
            "marker": {
             "colorbar": {
              "outlinewidth": 0,
              "ticks": ""
             }
            },
            "type": "scattermapbox"
           }
          ],
          "scatterpolar": [
           {
            "marker": {
             "colorbar": {
              "outlinewidth": 0,
              "ticks": ""
             }
            },
            "type": "scatterpolar"
           }
          ],
          "scatterpolargl": [
           {
            "marker": {
             "colorbar": {
              "outlinewidth": 0,
              "ticks": ""
             }
            },
            "type": "scatterpolargl"
           }
          ],
          "scatterternary": [
           {
            "marker": {
             "colorbar": {
              "outlinewidth": 0,
              "ticks": ""
             }
            },
            "type": "scatterternary"
           }
          ],
          "surface": [
           {
            "colorbar": {
             "outlinewidth": 0,
             "ticks": ""
            },
            "colorscale": [
             [
              0,
              "#0d0887"
             ],
             [
              0.1111111111111111,
              "#46039f"
             ],
             [
              0.2222222222222222,
              "#7201a8"
             ],
             [
              0.3333333333333333,
              "#9c179e"
             ],
             [
              0.4444444444444444,
              "#bd3786"
             ],
             [
              0.5555555555555556,
              "#d8576b"
             ],
             [
              0.6666666666666666,
              "#ed7953"
             ],
             [
              0.7777777777777778,
              "#fb9f3a"
             ],
             [
              0.8888888888888888,
              "#fdca26"
             ],
             [
              1,
              "#f0f921"
             ]
            ],
            "type": "surface"
           }
          ],
          "table": [
           {
            "cells": {
             "fill": {
              "color": "#EBF0F8"
             },
             "line": {
              "color": "white"
             }
            },
            "header": {
             "fill": {
              "color": "#C8D4E3"
             },
             "line": {
              "color": "white"
             }
            },
            "type": "table"
           }
          ]
         },
         "layout": {
          "annotationdefaults": {
           "arrowcolor": "#2a3f5f",
           "arrowhead": 0,
           "arrowwidth": 1
          },
          "colorscale": {
           "diverging": [
            [
             0,
             "#8e0152"
            ],
            [
             0.1,
             "#c51b7d"
            ],
            [
             0.2,
             "#de77ae"
            ],
            [
             0.3,
             "#f1b6da"
            ],
            [
             0.4,
             "#fde0ef"
            ],
            [
             0.5,
             "#f7f7f7"
            ],
            [
             0.6,
             "#e6f5d0"
            ],
            [
             0.7,
             "#b8e186"
            ],
            [
             0.8,
             "#7fbc41"
            ],
            [
             0.9,
             "#4d9221"
            ],
            [
             1,
             "#276419"
            ]
           ],
           "sequential": [
            [
             0,
             "#0d0887"
            ],
            [
             0.1111111111111111,
             "#46039f"
            ],
            [
             0.2222222222222222,
             "#7201a8"
            ],
            [
             0.3333333333333333,
             "#9c179e"
            ],
            [
             0.4444444444444444,
             "#bd3786"
            ],
            [
             0.5555555555555556,
             "#d8576b"
            ],
            [
             0.6666666666666666,
             "#ed7953"
            ],
            [
             0.7777777777777778,
             "#fb9f3a"
            ],
            [
             0.8888888888888888,
             "#fdca26"
            ],
            [
             1,
             "#f0f921"
            ]
           ],
           "sequentialminus": [
            [
             0,
             "#0d0887"
            ],
            [
             0.1111111111111111,
             "#46039f"
            ],
            [
             0.2222222222222222,
             "#7201a8"
            ],
            [
             0.3333333333333333,
             "#9c179e"
            ],
            [
             0.4444444444444444,
             "#bd3786"
            ],
            [
             0.5555555555555556,
             "#d8576b"
            ],
            [
             0.6666666666666666,
             "#ed7953"
            ],
            [
             0.7777777777777778,
             "#fb9f3a"
            ],
            [
             0.8888888888888888,
             "#fdca26"
            ],
            [
             1,
             "#f0f921"
            ]
           ]
          },
          "colorway": [
           "#636efa",
           "#EF553B",
           "#00cc96",
           "#ab63fa",
           "#FFA15A",
           "#19d3f3",
           "#FF6692",
           "#B6E880",
           "#FF97FF",
           "#FECB52"
          ],
          "font": {
           "color": "#2a3f5f"
          },
          "geo": {
           "bgcolor": "white",
           "lakecolor": "white",
           "landcolor": "#E5ECF6",
           "showlakes": true,
           "showland": true,
           "subunitcolor": "white"
          },
          "hoverlabel": {
           "align": "left"
          },
          "hovermode": "closest",
          "mapbox": {
           "style": "light"
          },
          "paper_bgcolor": "white",
          "plot_bgcolor": "#E5ECF6",
          "polar": {
           "angularaxis": {
            "gridcolor": "white",
            "linecolor": "white",
            "ticks": ""
           },
           "bgcolor": "#E5ECF6",
           "radialaxis": {
            "gridcolor": "white",
            "linecolor": "white",
            "ticks": ""
           }
          },
          "scene": {
           "xaxis": {
            "backgroundcolor": "#E5ECF6",
            "gridcolor": "white",
            "gridwidth": 2,
            "linecolor": "white",
            "showbackground": true,
            "ticks": "",
            "zerolinecolor": "white"
           },
           "yaxis": {
            "backgroundcolor": "#E5ECF6",
            "gridcolor": "white",
            "gridwidth": 2,
            "linecolor": "white",
            "showbackground": true,
            "ticks": "",
            "zerolinecolor": "white"
           },
           "zaxis": {
            "backgroundcolor": "#E5ECF6",
            "gridcolor": "white",
            "gridwidth": 2,
            "linecolor": "white",
            "showbackground": true,
            "ticks": "",
            "zerolinecolor": "white"
           }
          },
          "shapedefaults": {
           "line": {
            "color": "#2a3f5f"
           }
          },
          "ternary": {
           "aaxis": {
            "gridcolor": "white",
            "linecolor": "white",
            "ticks": ""
           },
           "baxis": {
            "gridcolor": "white",
            "linecolor": "white",
            "ticks": ""
           },
           "bgcolor": "#E5ECF6",
           "caxis": {
            "gridcolor": "white",
            "linecolor": "white",
            "ticks": ""
           }
          },
          "title": {
           "x": 0.05
          },
          "xaxis": {
           "automargin": true,
           "gridcolor": "white",
           "linecolor": "white",
           "ticks": "",
           "zerolinecolor": "white",
           "zerolinewidth": 2
          },
          "yaxis": {
           "automargin": true,
           "gridcolor": "white",
           "linecolor": "white",
           "ticks": "",
           "zerolinecolor": "white",
           "zerolinewidth": 2
          }
         }
        }
       }
      },
      "text/html": [
       "<div>\n",
       "        \n",
       "        \n",
       "            <div id=\"ac79e0bc-ec4d-49f2-8d8f-d10906d73c6b\" class=\"plotly-graph-div\" style=\"height:525px; width:100%;\"></div>\n",
       "            <script type=\"text/javascript\">\n",
       "                require([\"plotly\"], function(Plotly) {\n",
       "                    window.PLOTLYENV=window.PLOTLYENV || {};\n",
       "                    \n",
       "                if (document.getElementById(\"ac79e0bc-ec4d-49f2-8d8f-d10906d73c6b\")) {\n",
       "                    Plotly.newPlot(\n",
       "                        'ac79e0bc-ec4d-49f2-8d8f-d10906d73c6b',\n",
       "                        [{\"name\": \"etalon\", \"type\": \"bar\", \"x\": [\"A\", \"B\", \"C\", \"D\", \"E\", \"F\"], \"y\": [8, 18, 28, 41, 27, 65]}, {\"name\": \"normal\", \"type\": \"bar\", \"x\": [\"A\", \"B\", \"C\", \"D\", \"E\", \"F\"], \"y\": [7, 17, 42, 37, 23, 61]}],\n",
       "                        {\"template\": {\"data\": {\"bar\": [{\"error_x\": {\"color\": \"#2a3f5f\"}, \"error_y\": {\"color\": \"#2a3f5f\"}, \"marker\": {\"line\": {\"color\": \"#E5ECF6\", \"width\": 0.5}}, \"type\": \"bar\"}], \"barpolar\": [{\"marker\": {\"line\": {\"color\": \"#E5ECF6\", \"width\": 0.5}}, \"type\": \"barpolar\"}], \"carpet\": [{\"aaxis\": {\"endlinecolor\": \"#2a3f5f\", \"gridcolor\": \"white\", \"linecolor\": \"white\", \"minorgridcolor\": \"white\", \"startlinecolor\": \"#2a3f5f\"}, \"baxis\": {\"endlinecolor\": \"#2a3f5f\", \"gridcolor\": \"white\", \"linecolor\": \"white\", \"minorgridcolor\": \"white\", \"startlinecolor\": \"#2a3f5f\"}, \"type\": \"carpet\"}], \"choropleth\": [{\"colorbar\": {\"outlinewidth\": 0, \"ticks\": \"\"}, \"type\": \"choropleth\"}], \"contour\": [{\"colorbar\": {\"outlinewidth\": 0, \"ticks\": \"\"}, \"colorscale\": [[0.0, \"#0d0887\"], [0.1111111111111111, \"#46039f\"], [0.2222222222222222, \"#7201a8\"], [0.3333333333333333, \"#9c179e\"], [0.4444444444444444, \"#bd3786\"], [0.5555555555555556, \"#d8576b\"], [0.6666666666666666, \"#ed7953\"], [0.7777777777777778, \"#fb9f3a\"], [0.8888888888888888, \"#fdca26\"], [1.0, \"#f0f921\"]], \"type\": \"contour\"}], \"contourcarpet\": [{\"colorbar\": {\"outlinewidth\": 0, \"ticks\": \"\"}, \"type\": \"contourcarpet\"}], \"heatmap\": [{\"colorbar\": {\"outlinewidth\": 0, \"ticks\": \"\"}, \"colorscale\": [[0.0, \"#0d0887\"], [0.1111111111111111, \"#46039f\"], [0.2222222222222222, \"#7201a8\"], [0.3333333333333333, \"#9c179e\"], [0.4444444444444444, \"#bd3786\"], [0.5555555555555556, \"#d8576b\"], [0.6666666666666666, \"#ed7953\"], [0.7777777777777778, \"#fb9f3a\"], [0.8888888888888888, \"#fdca26\"], [1.0, \"#f0f921\"]], \"type\": \"heatmap\"}], \"heatmapgl\": [{\"colorbar\": {\"outlinewidth\": 0, \"ticks\": \"\"}, \"colorscale\": [[0.0, \"#0d0887\"], [0.1111111111111111, \"#46039f\"], [0.2222222222222222, \"#7201a8\"], [0.3333333333333333, \"#9c179e\"], [0.4444444444444444, \"#bd3786\"], [0.5555555555555556, \"#d8576b\"], [0.6666666666666666, \"#ed7953\"], [0.7777777777777778, \"#fb9f3a\"], [0.8888888888888888, \"#fdca26\"], [1.0, \"#f0f921\"]], \"type\": \"heatmapgl\"}], \"histogram\": [{\"marker\": {\"colorbar\": {\"outlinewidth\": 0, \"ticks\": \"\"}}, \"type\": \"histogram\"}], \"histogram2d\": [{\"colorbar\": {\"outlinewidth\": 0, \"ticks\": \"\"}, \"colorscale\": [[0.0, \"#0d0887\"], [0.1111111111111111, \"#46039f\"], [0.2222222222222222, \"#7201a8\"], [0.3333333333333333, \"#9c179e\"], [0.4444444444444444, \"#bd3786\"], [0.5555555555555556, \"#d8576b\"], [0.6666666666666666, \"#ed7953\"], [0.7777777777777778, \"#fb9f3a\"], [0.8888888888888888, \"#fdca26\"], [1.0, \"#f0f921\"]], \"type\": \"histogram2d\"}], \"histogram2dcontour\": [{\"colorbar\": {\"outlinewidth\": 0, \"ticks\": \"\"}, \"colorscale\": [[0.0, \"#0d0887\"], [0.1111111111111111, \"#46039f\"], [0.2222222222222222, \"#7201a8\"], [0.3333333333333333, \"#9c179e\"], [0.4444444444444444, \"#bd3786\"], [0.5555555555555556, \"#d8576b\"], [0.6666666666666666, \"#ed7953\"], [0.7777777777777778, \"#fb9f3a\"], [0.8888888888888888, \"#fdca26\"], [1.0, \"#f0f921\"]], \"type\": \"histogram2dcontour\"}], \"mesh3d\": [{\"colorbar\": {\"outlinewidth\": 0, \"ticks\": \"\"}, \"type\": \"mesh3d\"}], \"parcoords\": [{\"line\": {\"colorbar\": {\"outlinewidth\": 0, \"ticks\": \"\"}}, \"type\": \"parcoords\"}], \"scatter\": [{\"marker\": {\"colorbar\": {\"outlinewidth\": 0, \"ticks\": \"\"}}, \"type\": \"scatter\"}], \"scatter3d\": [{\"line\": {\"colorbar\": {\"outlinewidth\": 0, \"ticks\": \"\"}}, \"marker\": {\"colorbar\": {\"outlinewidth\": 0, \"ticks\": \"\"}}, \"type\": \"scatter3d\"}], \"scattercarpet\": [{\"marker\": {\"colorbar\": {\"outlinewidth\": 0, \"ticks\": \"\"}}, \"type\": \"scattercarpet\"}], \"scattergeo\": [{\"marker\": {\"colorbar\": {\"outlinewidth\": 0, \"ticks\": \"\"}}, \"type\": \"scattergeo\"}], \"scattergl\": [{\"marker\": {\"colorbar\": {\"outlinewidth\": 0, \"ticks\": \"\"}}, \"type\": \"scattergl\"}], \"scattermapbox\": [{\"marker\": {\"colorbar\": {\"outlinewidth\": 0, \"ticks\": \"\"}}, \"type\": \"scattermapbox\"}], \"scatterpolar\": [{\"marker\": {\"colorbar\": {\"outlinewidth\": 0, \"ticks\": \"\"}}, \"type\": \"scatterpolar\"}], \"scatterpolargl\": [{\"marker\": {\"colorbar\": {\"outlinewidth\": 0, \"ticks\": \"\"}}, \"type\": \"scatterpolargl\"}], \"scatterternary\": [{\"marker\": {\"colorbar\": {\"outlinewidth\": 0, \"ticks\": \"\"}}, \"type\": \"scatterternary\"}], \"surface\": [{\"colorbar\": {\"outlinewidth\": 0, \"ticks\": \"\"}, \"colorscale\": [[0.0, \"#0d0887\"], [0.1111111111111111, \"#46039f\"], [0.2222222222222222, \"#7201a8\"], [0.3333333333333333, \"#9c179e\"], [0.4444444444444444, \"#bd3786\"], [0.5555555555555556, \"#d8576b\"], [0.6666666666666666, \"#ed7953\"], [0.7777777777777778, \"#fb9f3a\"], [0.8888888888888888, \"#fdca26\"], [1.0, \"#f0f921\"]], \"type\": \"surface\"}], \"table\": [{\"cells\": {\"fill\": {\"color\": \"#EBF0F8\"}, \"line\": {\"color\": \"white\"}}, \"header\": {\"fill\": {\"color\": \"#C8D4E3\"}, \"line\": {\"color\": \"white\"}}, \"type\": \"table\"}]}, \"layout\": {\"annotationdefaults\": {\"arrowcolor\": \"#2a3f5f\", \"arrowhead\": 0, \"arrowwidth\": 1}, \"colorscale\": {\"diverging\": [[0, \"#8e0152\"], [0.1, \"#c51b7d\"], [0.2, \"#de77ae\"], [0.3, \"#f1b6da\"], [0.4, \"#fde0ef\"], [0.5, \"#f7f7f7\"], [0.6, \"#e6f5d0\"], [0.7, \"#b8e186\"], [0.8, \"#7fbc41\"], [0.9, \"#4d9221\"], [1, \"#276419\"]], \"sequential\": [[0.0, \"#0d0887\"], [0.1111111111111111, \"#46039f\"], [0.2222222222222222, \"#7201a8\"], [0.3333333333333333, \"#9c179e\"], [0.4444444444444444, \"#bd3786\"], [0.5555555555555556, \"#d8576b\"], [0.6666666666666666, \"#ed7953\"], [0.7777777777777778, \"#fb9f3a\"], [0.8888888888888888, \"#fdca26\"], [1.0, \"#f0f921\"]], \"sequentialminus\": [[0.0, \"#0d0887\"], [0.1111111111111111, \"#46039f\"], [0.2222222222222222, \"#7201a8\"], [0.3333333333333333, \"#9c179e\"], [0.4444444444444444, \"#bd3786\"], [0.5555555555555556, \"#d8576b\"], [0.6666666666666666, \"#ed7953\"], [0.7777777777777778, \"#fb9f3a\"], [0.8888888888888888, \"#fdca26\"], [1.0, \"#f0f921\"]]}, \"colorway\": [\"#636efa\", \"#EF553B\", \"#00cc96\", \"#ab63fa\", \"#FFA15A\", \"#19d3f3\", \"#FF6692\", \"#B6E880\", \"#FF97FF\", \"#FECB52\"], \"font\": {\"color\": \"#2a3f5f\"}, \"geo\": {\"bgcolor\": \"white\", \"lakecolor\": \"white\", \"landcolor\": \"#E5ECF6\", \"showlakes\": true, \"showland\": true, \"subunitcolor\": \"white\"}, \"hoverlabel\": {\"align\": \"left\"}, \"hovermode\": \"closest\", \"mapbox\": {\"style\": \"light\"}, \"paper_bgcolor\": \"white\", \"plot_bgcolor\": \"#E5ECF6\", \"polar\": {\"angularaxis\": {\"gridcolor\": \"white\", \"linecolor\": \"white\", \"ticks\": \"\"}, \"bgcolor\": \"#E5ECF6\", \"radialaxis\": {\"gridcolor\": \"white\", \"linecolor\": \"white\", \"ticks\": \"\"}}, \"scene\": {\"xaxis\": {\"backgroundcolor\": \"#E5ECF6\", \"gridcolor\": \"white\", \"gridwidth\": 2, \"linecolor\": \"white\", \"showbackground\": true, \"ticks\": \"\", \"zerolinecolor\": \"white\"}, \"yaxis\": {\"backgroundcolor\": \"#E5ECF6\", \"gridcolor\": \"white\", \"gridwidth\": 2, \"linecolor\": \"white\", \"showbackground\": true, \"ticks\": \"\", \"zerolinecolor\": \"white\"}, \"zaxis\": {\"backgroundcolor\": \"#E5ECF6\", \"gridcolor\": \"white\", \"gridwidth\": 2, \"linecolor\": \"white\", \"showbackground\": true, \"ticks\": \"\", \"zerolinecolor\": \"white\"}}, \"shapedefaults\": {\"line\": {\"color\": \"#2a3f5f\"}}, \"ternary\": {\"aaxis\": {\"gridcolor\": \"white\", \"linecolor\": \"white\", \"ticks\": \"\"}, \"baxis\": {\"gridcolor\": \"white\", \"linecolor\": \"white\", \"ticks\": \"\"}, \"bgcolor\": \"#E5ECF6\", \"caxis\": {\"gridcolor\": \"white\", \"linecolor\": \"white\", \"ticks\": \"\"}}, \"title\": {\"x\": 0.05}, \"xaxis\": {\"automargin\": true, \"gridcolor\": \"white\", \"linecolor\": \"white\", \"ticks\": \"\", \"zerolinecolor\": \"white\", \"zerolinewidth\": 2}, \"yaxis\": {\"automargin\": true, \"gridcolor\": \"white\", \"linecolor\": \"white\", \"ticks\": \"\", \"zerolinecolor\": \"white\", \"zerolinewidth\": 2}}}},\n",
       "                        {\"responsive\": true}\n",
       "                    ).then(function(){\n",
       "                            \n",
       "var gd = document.getElementById('ac79e0bc-ec4d-49f2-8d8f-d10906d73c6b');\n",
       "var x = new MutationObserver(function (mutations, observer) {{\n",
       "        var display = window.getComputedStyle(gd).display;\n",
       "        if (!display || display === 'none') {{\n",
       "            console.log([gd, 'removed!']);\n",
       "            Plotly.purge(gd);\n",
       "            observer.disconnect();\n",
       "        }}\n",
       "}});\n",
       "\n",
       "// Listen for the removal of the full notebook cells\n",
       "var notebookContainer = gd.closest('#notebook-container');\n",
       "if (notebookContainer) {{\n",
       "    x.observe(notebookContainer, {childList: true});\n",
       "}}\n",
       "\n",
       "// Listen for the clearing of the current output cell\n",
       "var outputEl = gd.closest('.output');\n",
       "if (outputEl) {{\n",
       "    x.observe(outputEl, {childList: true});\n",
       "}}\n",
       "\n",
       "                        })\n",
       "                };\n",
       "                });\n",
       "            </script>\n",
       "        </div>"
      ]
     },
     "metadata": {},
     "output_type": "display_data"
    }
   ],
   "source": [
    "replaces = {'A':'C', 'B':'B', 'C':'F', 'D':'D', 'E':'E', 'F':'A'}\n",
    "Y_norm = [replaces[y] for y in Y]\n",
    "\n",
    "cnt_x = Counter(X)\n",
    "cnt_y = Counter(Y_norm)\n",
    "letters = ['A', 'B', 'C', 'D', 'E', 'F']\n",
    "y1 = [cnt_x[l] for l in letters]\n",
    "y2 = [cnt_y[l] for l in letters]\n",
    "\n",
    "traces = []\n",
    "traces.append(go.Bar(x=letters, y=y1, name='etalon'))\n",
    "traces.append(go.Bar(x=letters, y=y2, name='normal'))\n",
    "fig = go.Figure(data=traces)\n",
    "iplot(fig)"
   ]
  },
  {
   "cell_type": "markdown",
   "metadata": {},
   "source": [
    "Проверим гипотезу об однородности двух выборок с помощью U-критерия Манна—Уитни"
   ]
  },
  {
   "cell_type": "code",
   "execution_count": 777,
   "metadata": {},
   "outputs": [
    {
     "name": "stdout",
     "output_type": "stream",
     "text": [
      "U:16673.5, t: -0.7758079699475207, criteria: 1.959963984540054\n",
      "H0 can't be rejected!\n"
     ]
    }
   ],
   "source": [
    "check_hypothesis_mann_whitney(X, Y_norm)"
   ]
  },
  {
   "cell_type": "markdown",
   "metadata": {},
   "source": [
    "#### Task 8"
   ]
  },
  {
   "cell_type": "markdown",
   "metadata": {},
   "source": [
    "8a. Коэффициент корелляции"
   ]
  },
  {
   "cell_type": "markdown",
   "metadata": {},
   "source": [
    "$$E[\\alpha] = 0$$\n",
    "$$D[\\alpha] = \\frac{(b-a)^2}{12} = \\frac{1}{3}$$\n",
    "\n",
    "$$E[\\xi_1] = E[\\xi_1] = 0$$\n",
    "$$D[\\xi_1] = 29D[\\alpha]$$\n",
    "$$D[\\xi_2] = 117D[\\alpha]$$\n",
    "\n",
    "\n",
    "$$cov[\\xi_1, \\xi_2] = E[\\xi_1\\xi_2] - E[\\xi_1]E[\\xi_2] = E[\\xi_1\\xi_2] = E[\\xi_1(\\xi_1 + \\nu)] = E[\\xi_1^2] + E[\\xi_1\\nu] = E[\\xi_1^2] + E[\\xi_1]E[\\nu] = E[\\xi_1^2]$$\n",
    "$$cov[\\xi_1, \\xi_2] = E[\\xi_1^2] = D[\\xi_1] + (E[\\xi_1])^2 = 29D[\\alpha]$$\n",
    "\n",
    "$$\\rho = \\frac{29D[\\alpha]}{\\sqrt{29D[\\alpha]}\\sqrt{117D[\\alpha]}} = 0.498$$\n",
    "\n",
    "\n",
    "\n",
    " "
   ]
  },
  {
   "cell_type": "markdown",
   "metadata": {},
   "source": [
    "8b. Выборочный коэффициент корреляции на основе смоделированных выборок"
   ]
  },
  {
   "cell_type": "code",
   "execution_count": 639,
   "metadata": {},
   "outputs": [
    {
     "name": "stdout",
     "output_type": "stream",
     "text": [
      "Sample correlation: 0.5224580248391305\n"
     ]
    }
   ],
   "source": [
    "n = 100\n",
    "X = []\n",
    "Y = []\n",
    "for i in range(n):\n",
    "    alphas = np.random.uniform(-1, 1, 117)\n",
    "    X.append(np.sum(alphas[0:29]))\n",
    "    Y.append(np.sum(alphas))\n",
    "X = np.array(X)\n",
    "Y = np.array(Y)\n",
    "sample_corr = stats.pearsonr(X, Y)[0]\n",
    "print(f\"Sample correlation: {sample_corr}\")"
   ]
  },
  {
   "cell_type": "markdown",
   "metadata": {},
   "source": [
    "8с. Доверительный интервал"
   ]
  },
  {
   "cell_type": "code",
   "execution_count": 647,
   "metadata": {},
   "outputs": [
    {
     "name": "stdout",
     "output_type": "stream",
     "text": [
      "Sample correlation: 0.5224580248391305, confidence interval: (0.4468187943536646, 0.5906807288486697)\n"
     ]
    }
   ],
   "source": [
    "def fisher_z(x):\n",
    "    return 0.5 * np.log((1+x)/(1-x))\n",
    "\n",
    "def calculate_pearson_interval(X, Y, p=0.975):\n",
    "    pc = stats.pearsonr(X, Y)[0]\n",
    "    n = X.shape[0]\n",
    "    se = 1/np.sqrt(n-3)\n",
    "    quantile = stats.norm.ppf(p)\n",
    "    z = fisher_z(pc)\n",
    "    z1 = z - p*se\n",
    "    z2 = z + p*se\n",
    "    interval_low = (np.exp(2*z1) - 1)/(np.exp(2*z1) + 1)\n",
    "    interval_upp = (np.exp(2*z2) - 1)/(np.exp(2*z2) + 1)\n",
    "    return(pc, interval_low, interval_upp)\n",
    "    \n",
    "sample_corr, interval_low, interval_upp = calculate_pearson_interval(X, Y)\n",
    "print(f\"Sample correlation: {sample_corr}, confidence interval: ({interval_low}, {interval_upp})\")"
   ]
  },
  {
   "cell_type": "markdown",
   "metadata": {},
   "source": [
    "8d. График зависимости длины доверительного интервала от размера выборки"
   ]
  },
  {
   "cell_type": "code",
   "execution_count": 652,
   "metadata": {},
   "outputs": [],
   "source": [
    "n_samples = []\n",
    "interval_length = []\n",
    "for n in range(100, 10100, 100):\n",
    "    X = []\n",
    "    Y = []\n",
    "    for i in range(n):\n",
    "        alphas = np.random.uniform(-1, 1, 117)\n",
    "        X.append(np.sum(alphas[0:29]))\n",
    "        Y.append(np.sum(alphas))\n",
    "    X = np.array(X)\n",
    "    Y = np.array(Y)\n",
    "    sample_corr, interval_low, interval_upp = calculate_pearson_interval(X, Y)\n",
    "    n_samples.append(n)\n",
    "    interval_length.append(interval_upp - interval_low)"
   ]
  },
  {
   "cell_type": "code",
   "execution_count": 662,
   "metadata": {},
   "outputs": [
    {
     "data": {
      "application/vnd.plotly.v1+json": {
       "config": {
        "linkText": "Export to plot.ly",
        "plotlyServerURL": "https://plot.ly",
        "showLink": false
       },
       "data": [
        {
         "type": "scatter",
         "x": [
          100,
          200,
          300,
          400,
          500,
          600,
          700,
          800,
          900,
          1000,
          1100,
          1200,
          1300,
          1400,
          1500,
          1600,
          1700,
          1800,
          1900,
          2000,
          2100,
          2200,
          2300,
          2400,
          2500,
          2600,
          2700,
          2800,
          2900,
          3000,
          3100,
          3200,
          3300,
          3400,
          3500,
          3600,
          3700,
          3800,
          3900,
          4000,
          4100,
          4200,
          4300,
          4400,
          4500,
          4600,
          4700,
          4800,
          4900,
          5000,
          5100,
          5200,
          5300,
          5400,
          5500,
          5600,
          5700,
          5800,
          5900,
          6000,
          6100,
          6200,
          6300,
          6400,
          6500,
          6600,
          6700,
          6800,
          6900,
          7000,
          7100,
          7200,
          7300,
          7400,
          7500,
          7600,
          7700,
          7800,
          7900,
          8000,
          8100,
          8200,
          8300,
          8400,
          8500,
          8600,
          8700,
          8800,
          8900,
          9000,
          9100,
          9200,
          9300,
          9400,
          9500,
          9600,
          9700,
          9800,
          9900,
          10000
         ],
         "y": [
          0.15430300333310348,
          0.10751982158945128,
          0.08072087737496708,
          0.07075661082105766,
          0.062244546092149355,
          0.05942902479428408,
          0.05397324769818718,
          0.04998398626795264,
          0.049687872992538296,
          0.046176208753354375,
          0.04111838297688719,
          0.04346552695076905,
          0.040002258397659585,
          0.03910286452344863,
          0.038906492883881094,
          0.03730972201580002,
          0.034775921283292544,
          0.03450568385173092,
          0.03299320430950142,
          0.03246926876422673,
          0.03127191682121211,
          0.030609563811737128,
          0.028849769515677526,
          0.03016330278267787,
          0.029551813157756346,
          0.029151523816305536,
          0.02879732452069511,
          0.02709546476906466,
          0.027153239505827043,
          0.02738068084170897,
          0.026977087052953597,
          0.02518893490601004,
          0.025464932850458144,
          0.025614412077988202,
          0.024923681215924698,
          0.024841191275245866,
          0.023868580586641153,
          0.024204884158535944,
          0.023356907695942175,
          0.023100835450011903,
          0.02319056112352874,
          0.022874015000121817,
          0.02260366864680785,
          0.02184498063615714,
          0.022533348589426405,
          0.02163536037122349,
          0.021260783955906137,
          0.02059186077420272,
          0.020842942891328986,
          0.02119031238506125,
          0.020856173785865073,
          0.02023974994802752,
          0.019736733786580807,
          0.01962785980359205,
          0.020122752679247624,
          0.019082189949567563,
          0.019753585463342216,
          0.01928170292106829,
          0.01866087575677322,
          0.01902743669106527,
          0.018313663853945283,
          0.01877785805913068,
          0.018613896994737644,
          0.01851002626129733,
          0.018287799549142114,
          0.01833550579466653,
          0.01782266440632141,
          0.017789598524346528,
          0.017908964676457084,
          0.017560583491257664,
          0.017231737668313374,
          0.017383693194914285,
          0.017248240861692743,
          0.016878257475211156,
          0.01711121928921905,
          0.01696863423982775,
          0.01635050770934332,
          0.01687865105320513,
          0.016147391992520133,
          0.01657056118326894,
          0.016494585305962095,
          0.01609500653267637,
          0.016232364778906327,
          0.015974109280778304,
          0.015888806172710268,
          0.0158957938531874,
          0.015886021844413845,
          0.015374863379085335,
          0.015685279451364165,
          0.015529347406854688,
          0.015473305834168394,
          0.01523506531782065,
          0.01526094207546791,
          0.015257384475166114,
          0.01488542046164526,
          0.015047098059717823,
          0.014992041490534957,
          0.01485102921557191,
          0.014691437641366267,
          0.014738664496665388
         ]
        }
       ],
       "layout": {
        "template": {
         "data": {
          "bar": [
           {
            "error_x": {
             "color": "#2a3f5f"
            },
            "error_y": {
             "color": "#2a3f5f"
            },
            "marker": {
             "line": {
              "color": "#E5ECF6",
              "width": 0.5
             }
            },
            "type": "bar"
           }
          ],
          "barpolar": [
           {
            "marker": {
             "line": {
              "color": "#E5ECF6",
              "width": 0.5
             }
            },
            "type": "barpolar"
           }
          ],
          "carpet": [
           {
            "aaxis": {
             "endlinecolor": "#2a3f5f",
             "gridcolor": "white",
             "linecolor": "white",
             "minorgridcolor": "white",
             "startlinecolor": "#2a3f5f"
            },
            "baxis": {
             "endlinecolor": "#2a3f5f",
             "gridcolor": "white",
             "linecolor": "white",
             "minorgridcolor": "white",
             "startlinecolor": "#2a3f5f"
            },
            "type": "carpet"
           }
          ],
          "choropleth": [
           {
            "colorbar": {
             "outlinewidth": 0,
             "ticks": ""
            },
            "type": "choropleth"
           }
          ],
          "contour": [
           {
            "colorbar": {
             "outlinewidth": 0,
             "ticks": ""
            },
            "colorscale": [
             [
              0,
              "#0d0887"
             ],
             [
              0.1111111111111111,
              "#46039f"
             ],
             [
              0.2222222222222222,
              "#7201a8"
             ],
             [
              0.3333333333333333,
              "#9c179e"
             ],
             [
              0.4444444444444444,
              "#bd3786"
             ],
             [
              0.5555555555555556,
              "#d8576b"
             ],
             [
              0.6666666666666666,
              "#ed7953"
             ],
             [
              0.7777777777777778,
              "#fb9f3a"
             ],
             [
              0.8888888888888888,
              "#fdca26"
             ],
             [
              1,
              "#f0f921"
             ]
            ],
            "type": "contour"
           }
          ],
          "contourcarpet": [
           {
            "colorbar": {
             "outlinewidth": 0,
             "ticks": ""
            },
            "type": "contourcarpet"
           }
          ],
          "heatmap": [
           {
            "colorbar": {
             "outlinewidth": 0,
             "ticks": ""
            },
            "colorscale": [
             [
              0,
              "#0d0887"
             ],
             [
              0.1111111111111111,
              "#46039f"
             ],
             [
              0.2222222222222222,
              "#7201a8"
             ],
             [
              0.3333333333333333,
              "#9c179e"
             ],
             [
              0.4444444444444444,
              "#bd3786"
             ],
             [
              0.5555555555555556,
              "#d8576b"
             ],
             [
              0.6666666666666666,
              "#ed7953"
             ],
             [
              0.7777777777777778,
              "#fb9f3a"
             ],
             [
              0.8888888888888888,
              "#fdca26"
             ],
             [
              1,
              "#f0f921"
             ]
            ],
            "type": "heatmap"
           }
          ],
          "heatmapgl": [
           {
            "colorbar": {
             "outlinewidth": 0,
             "ticks": ""
            },
            "colorscale": [
             [
              0,
              "#0d0887"
             ],
             [
              0.1111111111111111,
              "#46039f"
             ],
             [
              0.2222222222222222,
              "#7201a8"
             ],
             [
              0.3333333333333333,
              "#9c179e"
             ],
             [
              0.4444444444444444,
              "#bd3786"
             ],
             [
              0.5555555555555556,
              "#d8576b"
             ],
             [
              0.6666666666666666,
              "#ed7953"
             ],
             [
              0.7777777777777778,
              "#fb9f3a"
             ],
             [
              0.8888888888888888,
              "#fdca26"
             ],
             [
              1,
              "#f0f921"
             ]
            ],
            "type": "heatmapgl"
           }
          ],
          "histogram": [
           {
            "marker": {
             "colorbar": {
              "outlinewidth": 0,
              "ticks": ""
             }
            },
            "type": "histogram"
           }
          ],
          "histogram2d": [
           {
            "colorbar": {
             "outlinewidth": 0,
             "ticks": ""
            },
            "colorscale": [
             [
              0,
              "#0d0887"
             ],
             [
              0.1111111111111111,
              "#46039f"
             ],
             [
              0.2222222222222222,
              "#7201a8"
             ],
             [
              0.3333333333333333,
              "#9c179e"
             ],
             [
              0.4444444444444444,
              "#bd3786"
             ],
             [
              0.5555555555555556,
              "#d8576b"
             ],
             [
              0.6666666666666666,
              "#ed7953"
             ],
             [
              0.7777777777777778,
              "#fb9f3a"
             ],
             [
              0.8888888888888888,
              "#fdca26"
             ],
             [
              1,
              "#f0f921"
             ]
            ],
            "type": "histogram2d"
           }
          ],
          "histogram2dcontour": [
           {
            "colorbar": {
             "outlinewidth": 0,
             "ticks": ""
            },
            "colorscale": [
             [
              0,
              "#0d0887"
             ],
             [
              0.1111111111111111,
              "#46039f"
             ],
             [
              0.2222222222222222,
              "#7201a8"
             ],
             [
              0.3333333333333333,
              "#9c179e"
             ],
             [
              0.4444444444444444,
              "#bd3786"
             ],
             [
              0.5555555555555556,
              "#d8576b"
             ],
             [
              0.6666666666666666,
              "#ed7953"
             ],
             [
              0.7777777777777778,
              "#fb9f3a"
             ],
             [
              0.8888888888888888,
              "#fdca26"
             ],
             [
              1,
              "#f0f921"
             ]
            ],
            "type": "histogram2dcontour"
           }
          ],
          "mesh3d": [
           {
            "colorbar": {
             "outlinewidth": 0,
             "ticks": ""
            },
            "type": "mesh3d"
           }
          ],
          "parcoords": [
           {
            "line": {
             "colorbar": {
              "outlinewidth": 0,
              "ticks": ""
             }
            },
            "type": "parcoords"
           }
          ],
          "scatter": [
           {
            "marker": {
             "colorbar": {
              "outlinewidth": 0,
              "ticks": ""
             }
            },
            "type": "scatter"
           }
          ],
          "scatter3d": [
           {
            "line": {
             "colorbar": {
              "outlinewidth": 0,
              "ticks": ""
             }
            },
            "marker": {
             "colorbar": {
              "outlinewidth": 0,
              "ticks": ""
             }
            },
            "type": "scatter3d"
           }
          ],
          "scattercarpet": [
           {
            "marker": {
             "colorbar": {
              "outlinewidth": 0,
              "ticks": ""
             }
            },
            "type": "scattercarpet"
           }
          ],
          "scattergeo": [
           {
            "marker": {
             "colorbar": {
              "outlinewidth": 0,
              "ticks": ""
             }
            },
            "type": "scattergeo"
           }
          ],
          "scattergl": [
           {
            "marker": {
             "colorbar": {
              "outlinewidth": 0,
              "ticks": ""
             }
            },
            "type": "scattergl"
           }
          ],
          "scattermapbox": [
           {
            "marker": {
             "colorbar": {
              "outlinewidth": 0,
              "ticks": ""
             }
            },
            "type": "scattermapbox"
           }
          ],
          "scatterpolar": [
           {
            "marker": {
             "colorbar": {
              "outlinewidth": 0,
              "ticks": ""
             }
            },
            "type": "scatterpolar"
           }
          ],
          "scatterpolargl": [
           {
            "marker": {
             "colorbar": {
              "outlinewidth": 0,
              "ticks": ""
             }
            },
            "type": "scatterpolargl"
           }
          ],
          "scatterternary": [
           {
            "marker": {
             "colorbar": {
              "outlinewidth": 0,
              "ticks": ""
             }
            },
            "type": "scatterternary"
           }
          ],
          "surface": [
           {
            "colorbar": {
             "outlinewidth": 0,
             "ticks": ""
            },
            "colorscale": [
             [
              0,
              "#0d0887"
             ],
             [
              0.1111111111111111,
              "#46039f"
             ],
             [
              0.2222222222222222,
              "#7201a8"
             ],
             [
              0.3333333333333333,
              "#9c179e"
             ],
             [
              0.4444444444444444,
              "#bd3786"
             ],
             [
              0.5555555555555556,
              "#d8576b"
             ],
             [
              0.6666666666666666,
              "#ed7953"
             ],
             [
              0.7777777777777778,
              "#fb9f3a"
             ],
             [
              0.8888888888888888,
              "#fdca26"
             ],
             [
              1,
              "#f0f921"
             ]
            ],
            "type": "surface"
           }
          ],
          "table": [
           {
            "cells": {
             "fill": {
              "color": "#EBF0F8"
             },
             "line": {
              "color": "white"
             }
            },
            "header": {
             "fill": {
              "color": "#C8D4E3"
             },
             "line": {
              "color": "white"
             }
            },
            "type": "table"
           }
          ]
         },
         "layout": {
          "annotationdefaults": {
           "arrowcolor": "#2a3f5f",
           "arrowhead": 0,
           "arrowwidth": 1
          },
          "colorscale": {
           "diverging": [
            [
             0,
             "#8e0152"
            ],
            [
             0.1,
             "#c51b7d"
            ],
            [
             0.2,
             "#de77ae"
            ],
            [
             0.3,
             "#f1b6da"
            ],
            [
             0.4,
             "#fde0ef"
            ],
            [
             0.5,
             "#f7f7f7"
            ],
            [
             0.6,
             "#e6f5d0"
            ],
            [
             0.7,
             "#b8e186"
            ],
            [
             0.8,
             "#7fbc41"
            ],
            [
             0.9,
             "#4d9221"
            ],
            [
             1,
             "#276419"
            ]
           ],
           "sequential": [
            [
             0,
             "#0d0887"
            ],
            [
             0.1111111111111111,
             "#46039f"
            ],
            [
             0.2222222222222222,
             "#7201a8"
            ],
            [
             0.3333333333333333,
             "#9c179e"
            ],
            [
             0.4444444444444444,
             "#bd3786"
            ],
            [
             0.5555555555555556,
             "#d8576b"
            ],
            [
             0.6666666666666666,
             "#ed7953"
            ],
            [
             0.7777777777777778,
             "#fb9f3a"
            ],
            [
             0.8888888888888888,
             "#fdca26"
            ],
            [
             1,
             "#f0f921"
            ]
           ],
           "sequentialminus": [
            [
             0,
             "#0d0887"
            ],
            [
             0.1111111111111111,
             "#46039f"
            ],
            [
             0.2222222222222222,
             "#7201a8"
            ],
            [
             0.3333333333333333,
             "#9c179e"
            ],
            [
             0.4444444444444444,
             "#bd3786"
            ],
            [
             0.5555555555555556,
             "#d8576b"
            ],
            [
             0.6666666666666666,
             "#ed7953"
            ],
            [
             0.7777777777777778,
             "#fb9f3a"
            ],
            [
             0.8888888888888888,
             "#fdca26"
            ],
            [
             1,
             "#f0f921"
            ]
           ]
          },
          "colorway": [
           "#636efa",
           "#EF553B",
           "#00cc96",
           "#ab63fa",
           "#FFA15A",
           "#19d3f3",
           "#FF6692",
           "#B6E880",
           "#FF97FF",
           "#FECB52"
          ],
          "font": {
           "color": "#2a3f5f"
          },
          "geo": {
           "bgcolor": "white",
           "lakecolor": "white",
           "landcolor": "#E5ECF6",
           "showlakes": true,
           "showland": true,
           "subunitcolor": "white"
          },
          "hoverlabel": {
           "align": "left"
          },
          "hovermode": "closest",
          "mapbox": {
           "style": "light"
          },
          "paper_bgcolor": "white",
          "plot_bgcolor": "#E5ECF6",
          "polar": {
           "angularaxis": {
            "gridcolor": "white",
            "linecolor": "white",
            "ticks": ""
           },
           "bgcolor": "#E5ECF6",
           "radialaxis": {
            "gridcolor": "white",
            "linecolor": "white",
            "ticks": ""
           }
          },
          "scene": {
           "xaxis": {
            "backgroundcolor": "#E5ECF6",
            "gridcolor": "white",
            "gridwidth": 2,
            "linecolor": "white",
            "showbackground": true,
            "ticks": "",
            "zerolinecolor": "white"
           },
           "yaxis": {
            "backgroundcolor": "#E5ECF6",
            "gridcolor": "white",
            "gridwidth": 2,
            "linecolor": "white",
            "showbackground": true,
            "ticks": "",
            "zerolinecolor": "white"
           },
           "zaxis": {
            "backgroundcolor": "#E5ECF6",
            "gridcolor": "white",
            "gridwidth": 2,
            "linecolor": "white",
            "showbackground": true,
            "ticks": "",
            "zerolinecolor": "white"
           }
          },
          "shapedefaults": {
           "line": {
            "color": "#2a3f5f"
           }
          },
          "ternary": {
           "aaxis": {
            "gridcolor": "white",
            "linecolor": "white",
            "ticks": ""
           },
           "baxis": {
            "gridcolor": "white",
            "linecolor": "white",
            "ticks": ""
           },
           "bgcolor": "#E5ECF6",
           "caxis": {
            "gridcolor": "white",
            "linecolor": "white",
            "ticks": ""
           }
          },
          "title": {
           "x": 0.05
          },
          "xaxis": {
           "automargin": true,
           "gridcolor": "white",
           "linecolor": "white",
           "ticks": "",
           "zerolinecolor": "white",
           "zerolinewidth": 2
          },
          "yaxis": {
           "automargin": true,
           "gridcolor": "white",
           "linecolor": "white",
           "ticks": "",
           "zerolinecolor": "white",
           "zerolinewidth": 2
          }
         }
        },
        "title": {
         "text": "Confidence interval length"
        },
        "xaxis": {
         "title": {
          "text": "n"
         }
        },
        "yaxis": {
         "title": {
          "text": "interval length"
         }
        }
       }
      },
      "text/html": [
       "<div>\n",
       "        \n",
       "        \n",
       "            <div id=\"51dcb65c-deb1-4ee1-8469-64ad04d0af46\" class=\"plotly-graph-div\" style=\"height:525px; width:100%;\"></div>\n",
       "            <script type=\"text/javascript\">\n",
       "                require([\"plotly\"], function(Plotly) {\n",
       "                    window.PLOTLYENV=window.PLOTLYENV || {};\n",
       "                    \n",
       "                if (document.getElementById(\"51dcb65c-deb1-4ee1-8469-64ad04d0af46\")) {\n",
       "                    Plotly.newPlot(\n",
       "                        '51dcb65c-deb1-4ee1-8469-64ad04d0af46',\n",
       "                        [{\"type\": \"scatter\", \"x\": [100, 200, 300, 400, 500, 600, 700, 800, 900, 1000, 1100, 1200, 1300, 1400, 1500, 1600, 1700, 1800, 1900, 2000, 2100, 2200, 2300, 2400, 2500, 2600, 2700, 2800, 2900, 3000, 3100, 3200, 3300, 3400, 3500, 3600, 3700, 3800, 3900, 4000, 4100, 4200, 4300, 4400, 4500, 4600, 4700, 4800, 4900, 5000, 5100, 5200, 5300, 5400, 5500, 5600, 5700, 5800, 5900, 6000, 6100, 6200, 6300, 6400, 6500, 6600, 6700, 6800, 6900, 7000, 7100, 7200, 7300, 7400, 7500, 7600, 7700, 7800, 7900, 8000, 8100, 8200, 8300, 8400, 8500, 8600, 8700, 8800, 8900, 9000, 9100, 9200, 9300, 9400, 9500, 9600, 9700, 9800, 9900, 10000], \"y\": [0.15430300333310348, 0.10751982158945128, 0.08072087737496708, 0.07075661082105766, 0.062244546092149355, 0.05942902479428408, 0.05397324769818718, 0.04998398626795264, 0.049687872992538296, 0.046176208753354375, 0.04111838297688719, 0.04346552695076905, 0.040002258397659585, 0.03910286452344863, 0.038906492883881094, 0.03730972201580002, 0.034775921283292544, 0.03450568385173092, 0.03299320430950142, 0.03246926876422673, 0.03127191682121211, 0.030609563811737128, 0.028849769515677526, 0.03016330278267787, 0.029551813157756346, 0.029151523816305536, 0.02879732452069511, 0.02709546476906466, 0.027153239505827043, 0.02738068084170897, 0.026977087052953597, 0.02518893490601004, 0.025464932850458144, 0.025614412077988202, 0.024923681215924698, 0.024841191275245866, 0.023868580586641153, 0.024204884158535944, 0.023356907695942175, 0.023100835450011903, 0.02319056112352874, 0.022874015000121817, 0.02260366864680785, 0.02184498063615714, 0.022533348589426405, 0.02163536037122349, 0.021260783955906137, 0.02059186077420272, 0.020842942891328986, 0.02119031238506125, 0.020856173785865073, 0.02023974994802752, 0.019736733786580807, 0.01962785980359205, 0.020122752679247624, 0.019082189949567563, 0.019753585463342216, 0.01928170292106829, 0.01866087575677322, 0.01902743669106527, 0.018313663853945283, 0.01877785805913068, 0.018613896994737644, 0.01851002626129733, 0.018287799549142114, 0.01833550579466653, 0.01782266440632141, 0.017789598524346528, 0.017908964676457084, 0.017560583491257664, 0.017231737668313374, 0.017383693194914285, 0.017248240861692743, 0.016878257475211156, 0.01711121928921905, 0.01696863423982775, 0.01635050770934332, 0.01687865105320513, 0.016147391992520133, 0.01657056118326894, 0.016494585305962095, 0.01609500653267637, 0.016232364778906327, 0.015974109280778304, 0.015888806172710268, 0.0158957938531874, 0.015886021844413845, 0.015374863379085335, 0.015685279451364165, 0.015529347406854688, 0.015473305834168394, 0.01523506531782065, 0.01526094207546791, 0.015257384475166114, 0.01488542046164526, 0.015047098059717823, 0.014992041490534957, 0.01485102921557191, 0.014691437641366267, 0.014738664496665388]}],\n",
       "                        {\"template\": {\"data\": {\"bar\": [{\"error_x\": {\"color\": \"#2a3f5f\"}, \"error_y\": {\"color\": \"#2a3f5f\"}, \"marker\": {\"line\": {\"color\": \"#E5ECF6\", \"width\": 0.5}}, \"type\": \"bar\"}], \"barpolar\": [{\"marker\": {\"line\": {\"color\": \"#E5ECF6\", \"width\": 0.5}}, \"type\": \"barpolar\"}], \"carpet\": [{\"aaxis\": {\"endlinecolor\": \"#2a3f5f\", \"gridcolor\": \"white\", \"linecolor\": \"white\", \"minorgridcolor\": \"white\", \"startlinecolor\": \"#2a3f5f\"}, \"baxis\": {\"endlinecolor\": \"#2a3f5f\", \"gridcolor\": \"white\", \"linecolor\": \"white\", \"minorgridcolor\": \"white\", \"startlinecolor\": \"#2a3f5f\"}, \"type\": \"carpet\"}], \"choropleth\": [{\"colorbar\": {\"outlinewidth\": 0, \"ticks\": \"\"}, \"type\": \"choropleth\"}], \"contour\": [{\"colorbar\": {\"outlinewidth\": 0, \"ticks\": \"\"}, \"colorscale\": [[0.0, \"#0d0887\"], [0.1111111111111111, \"#46039f\"], [0.2222222222222222, \"#7201a8\"], [0.3333333333333333, \"#9c179e\"], [0.4444444444444444, \"#bd3786\"], [0.5555555555555556, \"#d8576b\"], [0.6666666666666666, \"#ed7953\"], [0.7777777777777778, \"#fb9f3a\"], [0.8888888888888888, \"#fdca26\"], [1.0, \"#f0f921\"]], \"type\": \"contour\"}], \"contourcarpet\": [{\"colorbar\": {\"outlinewidth\": 0, \"ticks\": \"\"}, \"type\": \"contourcarpet\"}], \"heatmap\": [{\"colorbar\": {\"outlinewidth\": 0, \"ticks\": \"\"}, \"colorscale\": [[0.0, \"#0d0887\"], [0.1111111111111111, \"#46039f\"], [0.2222222222222222, \"#7201a8\"], [0.3333333333333333, \"#9c179e\"], [0.4444444444444444, \"#bd3786\"], [0.5555555555555556, \"#d8576b\"], [0.6666666666666666, \"#ed7953\"], [0.7777777777777778, \"#fb9f3a\"], [0.8888888888888888, \"#fdca26\"], [1.0, \"#f0f921\"]], \"type\": \"heatmap\"}], \"heatmapgl\": [{\"colorbar\": {\"outlinewidth\": 0, \"ticks\": \"\"}, \"colorscale\": [[0.0, \"#0d0887\"], [0.1111111111111111, \"#46039f\"], [0.2222222222222222, \"#7201a8\"], [0.3333333333333333, \"#9c179e\"], [0.4444444444444444, \"#bd3786\"], [0.5555555555555556, \"#d8576b\"], [0.6666666666666666, \"#ed7953\"], [0.7777777777777778, \"#fb9f3a\"], [0.8888888888888888, \"#fdca26\"], [1.0, \"#f0f921\"]], \"type\": \"heatmapgl\"}], \"histogram\": [{\"marker\": {\"colorbar\": {\"outlinewidth\": 0, \"ticks\": \"\"}}, \"type\": \"histogram\"}], \"histogram2d\": [{\"colorbar\": {\"outlinewidth\": 0, \"ticks\": \"\"}, \"colorscale\": [[0.0, \"#0d0887\"], [0.1111111111111111, \"#46039f\"], [0.2222222222222222, \"#7201a8\"], [0.3333333333333333, \"#9c179e\"], [0.4444444444444444, \"#bd3786\"], [0.5555555555555556, \"#d8576b\"], [0.6666666666666666, \"#ed7953\"], [0.7777777777777778, \"#fb9f3a\"], [0.8888888888888888, \"#fdca26\"], [1.0, \"#f0f921\"]], \"type\": \"histogram2d\"}], \"histogram2dcontour\": [{\"colorbar\": {\"outlinewidth\": 0, \"ticks\": \"\"}, \"colorscale\": [[0.0, \"#0d0887\"], [0.1111111111111111, \"#46039f\"], [0.2222222222222222, \"#7201a8\"], [0.3333333333333333, \"#9c179e\"], [0.4444444444444444, \"#bd3786\"], [0.5555555555555556, \"#d8576b\"], [0.6666666666666666, \"#ed7953\"], [0.7777777777777778, \"#fb9f3a\"], [0.8888888888888888, \"#fdca26\"], [1.0, \"#f0f921\"]], \"type\": \"histogram2dcontour\"}], \"mesh3d\": [{\"colorbar\": {\"outlinewidth\": 0, \"ticks\": \"\"}, \"type\": \"mesh3d\"}], \"parcoords\": [{\"line\": {\"colorbar\": {\"outlinewidth\": 0, \"ticks\": \"\"}}, \"type\": \"parcoords\"}], \"scatter\": [{\"marker\": {\"colorbar\": {\"outlinewidth\": 0, \"ticks\": \"\"}}, \"type\": \"scatter\"}], \"scatter3d\": [{\"line\": {\"colorbar\": {\"outlinewidth\": 0, \"ticks\": \"\"}}, \"marker\": {\"colorbar\": {\"outlinewidth\": 0, \"ticks\": \"\"}}, \"type\": \"scatter3d\"}], \"scattercarpet\": [{\"marker\": {\"colorbar\": {\"outlinewidth\": 0, \"ticks\": \"\"}}, \"type\": \"scattercarpet\"}], \"scattergeo\": [{\"marker\": {\"colorbar\": {\"outlinewidth\": 0, \"ticks\": \"\"}}, \"type\": \"scattergeo\"}], \"scattergl\": [{\"marker\": {\"colorbar\": {\"outlinewidth\": 0, \"ticks\": \"\"}}, \"type\": \"scattergl\"}], \"scattermapbox\": [{\"marker\": {\"colorbar\": {\"outlinewidth\": 0, \"ticks\": \"\"}}, \"type\": \"scattermapbox\"}], \"scatterpolar\": [{\"marker\": {\"colorbar\": {\"outlinewidth\": 0, \"ticks\": \"\"}}, \"type\": \"scatterpolar\"}], \"scatterpolargl\": [{\"marker\": {\"colorbar\": {\"outlinewidth\": 0, \"ticks\": \"\"}}, \"type\": \"scatterpolargl\"}], \"scatterternary\": [{\"marker\": {\"colorbar\": {\"outlinewidth\": 0, \"ticks\": \"\"}}, \"type\": \"scatterternary\"}], \"surface\": [{\"colorbar\": {\"outlinewidth\": 0, \"ticks\": \"\"}, \"colorscale\": [[0.0, \"#0d0887\"], [0.1111111111111111, \"#46039f\"], [0.2222222222222222, \"#7201a8\"], [0.3333333333333333, \"#9c179e\"], [0.4444444444444444, \"#bd3786\"], [0.5555555555555556, \"#d8576b\"], [0.6666666666666666, \"#ed7953\"], [0.7777777777777778, \"#fb9f3a\"], [0.8888888888888888, \"#fdca26\"], [1.0, \"#f0f921\"]], \"type\": \"surface\"}], \"table\": [{\"cells\": {\"fill\": {\"color\": \"#EBF0F8\"}, \"line\": {\"color\": \"white\"}}, \"header\": {\"fill\": {\"color\": \"#C8D4E3\"}, \"line\": {\"color\": \"white\"}}, \"type\": \"table\"}]}, \"layout\": {\"annotationdefaults\": {\"arrowcolor\": \"#2a3f5f\", \"arrowhead\": 0, \"arrowwidth\": 1}, \"colorscale\": {\"diverging\": [[0, \"#8e0152\"], [0.1, \"#c51b7d\"], [0.2, \"#de77ae\"], [0.3, \"#f1b6da\"], [0.4, \"#fde0ef\"], [0.5, \"#f7f7f7\"], [0.6, \"#e6f5d0\"], [0.7, \"#b8e186\"], [0.8, \"#7fbc41\"], [0.9, \"#4d9221\"], [1, \"#276419\"]], \"sequential\": [[0.0, \"#0d0887\"], [0.1111111111111111, \"#46039f\"], [0.2222222222222222, \"#7201a8\"], [0.3333333333333333, \"#9c179e\"], [0.4444444444444444, \"#bd3786\"], [0.5555555555555556, \"#d8576b\"], [0.6666666666666666, \"#ed7953\"], [0.7777777777777778, \"#fb9f3a\"], [0.8888888888888888, \"#fdca26\"], [1.0, \"#f0f921\"]], \"sequentialminus\": [[0.0, \"#0d0887\"], [0.1111111111111111, \"#46039f\"], [0.2222222222222222, \"#7201a8\"], [0.3333333333333333, \"#9c179e\"], [0.4444444444444444, \"#bd3786\"], [0.5555555555555556, \"#d8576b\"], [0.6666666666666666, \"#ed7953\"], [0.7777777777777778, \"#fb9f3a\"], [0.8888888888888888, \"#fdca26\"], [1.0, \"#f0f921\"]]}, \"colorway\": [\"#636efa\", \"#EF553B\", \"#00cc96\", \"#ab63fa\", \"#FFA15A\", \"#19d3f3\", \"#FF6692\", \"#B6E880\", \"#FF97FF\", \"#FECB52\"], \"font\": {\"color\": \"#2a3f5f\"}, \"geo\": {\"bgcolor\": \"white\", \"lakecolor\": \"white\", \"landcolor\": \"#E5ECF6\", \"showlakes\": true, \"showland\": true, \"subunitcolor\": \"white\"}, \"hoverlabel\": {\"align\": \"left\"}, \"hovermode\": \"closest\", \"mapbox\": {\"style\": \"light\"}, \"paper_bgcolor\": \"white\", \"plot_bgcolor\": \"#E5ECF6\", \"polar\": {\"angularaxis\": {\"gridcolor\": \"white\", \"linecolor\": \"white\", \"ticks\": \"\"}, \"bgcolor\": \"#E5ECF6\", \"radialaxis\": {\"gridcolor\": \"white\", \"linecolor\": \"white\", \"ticks\": \"\"}}, \"scene\": {\"xaxis\": {\"backgroundcolor\": \"#E5ECF6\", \"gridcolor\": \"white\", \"gridwidth\": 2, \"linecolor\": \"white\", \"showbackground\": true, \"ticks\": \"\", \"zerolinecolor\": \"white\"}, \"yaxis\": {\"backgroundcolor\": \"#E5ECF6\", \"gridcolor\": \"white\", \"gridwidth\": 2, \"linecolor\": \"white\", \"showbackground\": true, \"ticks\": \"\", \"zerolinecolor\": \"white\"}, \"zaxis\": {\"backgroundcolor\": \"#E5ECF6\", \"gridcolor\": \"white\", \"gridwidth\": 2, \"linecolor\": \"white\", \"showbackground\": true, \"ticks\": \"\", \"zerolinecolor\": \"white\"}}, \"shapedefaults\": {\"line\": {\"color\": \"#2a3f5f\"}}, \"ternary\": {\"aaxis\": {\"gridcolor\": \"white\", \"linecolor\": \"white\", \"ticks\": \"\"}, \"baxis\": {\"gridcolor\": \"white\", \"linecolor\": \"white\", \"ticks\": \"\"}, \"bgcolor\": \"#E5ECF6\", \"caxis\": {\"gridcolor\": \"white\", \"linecolor\": \"white\", \"ticks\": \"\"}}, \"title\": {\"x\": 0.05}, \"xaxis\": {\"automargin\": true, \"gridcolor\": \"white\", \"linecolor\": \"white\", \"ticks\": \"\", \"zerolinecolor\": \"white\", \"zerolinewidth\": 2}, \"yaxis\": {\"automargin\": true, \"gridcolor\": \"white\", \"linecolor\": \"white\", \"ticks\": \"\", \"zerolinecolor\": \"white\", \"zerolinewidth\": 2}}}, \"title\": {\"text\": \"Confidence interval length\"}, \"xaxis\": {\"title\": {\"text\": \"n\"}}, \"yaxis\": {\"title\": {\"text\": \"interval length\"}}},\n",
       "                        {\"responsive\": true}\n",
       "                    ).then(function(){\n",
       "                            \n",
       "var gd = document.getElementById('51dcb65c-deb1-4ee1-8469-64ad04d0af46');\n",
       "var x = new MutationObserver(function (mutations, observer) {{\n",
       "        var display = window.getComputedStyle(gd).display;\n",
       "        if (!display || display === 'none') {{\n",
       "            console.log([gd, 'removed!']);\n",
       "            Plotly.purge(gd);\n",
       "            observer.disconnect();\n",
       "        }}\n",
       "}});\n",
       "\n",
       "// Listen for the removal of the full notebook cells\n",
       "var notebookContainer = gd.closest('#notebook-container');\n",
       "if (notebookContainer) {{\n",
       "    x.observe(notebookContainer, {childList: true});\n",
       "}}\n",
       "\n",
       "// Listen for the clearing of the current output cell\n",
       "var outputEl = gd.closest('.output');\n",
       "if (outputEl) {{\n",
       "    x.observe(outputEl, {childList: true});\n",
       "}}\n",
       "\n",
       "                        })\n",
       "                };\n",
       "                });\n",
       "            </script>\n",
       "        </div>"
      ]
     },
     "metadata": {},
     "output_type": "display_data"
    }
   ],
   "source": [
    "traces = []\n",
    "traces.append(go.Scatter(x=n_samples, y=interval_length))\n",
    "fig = go.Figure(data=traces, layout=go.Layout(title='Confidence interval length',\n",
    "                                              xaxis={'title':'n'},\n",
    "                                              yaxis={'title': 'interval length'}))\n",
    "iplot(fig)"
   ]
  },
  {
   "cell_type": "markdown",
   "metadata": {},
   "source": [
    "#### Z Загадка (пока не решено)"
   ]
  },
  {
   "cell_type": "code",
   "execution_count": 45,
   "metadata": {},
   "outputs": [],
   "source": [
    "df = pd.read_csv('./IB_statistics_data_Z1.txt', sep=' ')"
   ]
  },
  {
   "cell_type": "code",
   "execution_count": 66,
   "metadata": {},
   "outputs": [],
   "source": [
    "letters = ['A', 'B', 'C', 'D', 'E', 'F', 'G', 'H', 'I', 'J', 'K']\n",
    "correlations = []\n",
    "for i in range(0, len(letters)):\n",
    "    for j in range(i+1, len(letters)):\n",
    "        correlations.append((spearmanr(df[letters[i]].values, df[letters[j]].values).correlation,\n",
    "                             letters[i], letters[j]))"
   ]
  },
  {
   "cell_type": "code",
   "execution_count": 67,
   "metadata": {},
   "outputs": [
    {
     "name": "stdout",
     "output_type": "stream",
     "text": [
      "[(-0.9080614439324115, 'J', 'K'), (-0.627416282642089, 'A', 'I'), (-0.627416282642089, 'G', 'I'), (-0.4426268934895685, 'D', 'E'), (-0.4241904761904762, 'D', 'K'), (-0.41672138408250997, 'E', 'I'), (-0.3058064516129032, 'B', 'C'), (-0.13083870967741934, 'B', 'I'), (-0.11692780337941627, 'B', 'D'), (-0.10033179723502303, 'H', 'J'), (-0.08336712749615974, 'B', 'H'), (-0.07414439324116742, 'I', 'K'), (-0.06301075268817204, 'C', 'I'), (-0.049757296466973876, 'F', 'I'), (-0.043299539170506905, 'B', 'F'), (-0.042003072196620576, 'F', 'J'), (-0.017892473118279566, 'B', 'J'), (-0.016525928414847662, 'E', 'K'), (-0.007029185867895543, 'A', 'J'), (-0.007029185867895543, 'G', 'J'), (-0.002592933947772657, 'A', 'H'), (-0.002592933947772657, 'G', 'H'), (-0.0023348694316436248, 'B', 'K'), (0.00648847926267281, 'I', 'J'), (0.013846048131358854, 'E', 'J'), (0.022778982409654886, 'A', 'E'), (0.022778982409654886, 'E', 'G'), (0.02446082949308755, 'D', 'F'), (0.03155145929339477, 'F', 'K'), (0.03746850998463901, 'A', 'B'), (0.03746850998463901, 'B', 'G'), (0.04395084485407066, 'H', 'K'), (0.04421802467756537, 'B', 'E'), (0.06661751152073732, 'D', 'H'), (0.0942795698924731, 'H', 'I'), (0.09832872503840245, 'C', 'K'), (0.10207680491551457, 'A', 'K'), (0.10207680491551457, 'G', 'K'), (0.10425192012288785, 'C', 'D'), (0.11956989247311826, 'A', 'F'), (0.11956989247311826, 'F', 'G'), (0.12992933947772656, 'C', 'J'), (0.21295238095238092, 'A', 'C'), (0.21295238095238092, 'C', 'G'), (0.3008970814132104, 'A', 'D'), (0.3008970814132104, 'D', 'G'), (0.35687072441792655, 'C', 'E'), (0.39861751152073727, 'D', 'I'), (0.40064210238157716, 'E', 'H'), (0.4098064516129032, 'C', 'H'), (0.4285775729646697, 'D', 'J'), (0.576620907664009, 'E', 'F'), (0.6679447004608293, 'C', 'F'), (0.6985499231950844, 'F', 'H'), (0.9999999999999998, 'A', 'G')]\n"
     ]
    }
   ],
   "source": [
    "print(sorted(correlations))"
   ]
  },
  {
   "cell_type": "code",
   "execution_count": 70,
   "metadata": {},
   "outputs": [
    {
     "data": {
      "text/plain": [
       "<matplotlib.axes._subplots.AxesSubplot at 0x1a1bb7a6d8>"
      ]
     },
     "execution_count": 70,
     "metadata": {},
     "output_type": "execute_result"
    },
    {
     "data": {
      "image/png": "[encoded data removed]",
      "text/plain": [
       "<Figure size 432x288 with 1 Axes>"
      ]
     },
     "metadata": {
      "needs_background": "light"
     },
     "output_type": "display_data"
    }
   ],
   "source": [
    "sns.scatterplot(df.A.values, df.G.values)"
   ]
  },
  {
   "cell_type": "code",
   "execution_count": 79,
   "metadata": {},
   "outputs": [
    {
     "data": {
      "text/plain": [
       "(-3.12689391957483, -1.2689391957483)"
      ]
     },
     "execution_count": 79,
     "metadata": {},
     "output_type": "execute_result"
    }
   ],
   "source": [
    "df.G.values[0], df.A.values[0]"
   ]
  },
  {
   "cell_type": "code",
   "execution_count": 80,
   "metadata": {},
   "outputs": [
    {
     "data": {
      "text/plain": [
       "(-2.96568865115341, 0.34311348846588596)"
      ]
     },
     "execution_count": 80,
     "metadata": {},
     "output_type": "execute_result"
    }
   ],
   "source": [
    "df.G.values[1], df.A.values[1]"
   ]
  },
  {
   "cell_type": "code",
   "execution_count": 81,
   "metadata": {},
   "outputs": [],
   "source": [
    "b = -(1.2689391957483 * 2.96568865115341 + 3.12689391957483) / 2.2689391957483"
   ]
  },
  {
   "cell_type": "code",
   "execution_count": 83,
   "metadata": {},
   "outputs": [],
   "source": [
    "a = (-3.12689391957483 - b) / -1.2689391957483"
   ]
  },
  {
   "cell_type": "code",
   "execution_count": 87,
   "metadata": {},
   "outputs": [
    {
     "data": {
      "text/plain": [
       "<matplotlib.axes._subplots.AxesSubplot at 0x1a1d15dba8>"
      ]
     },
     "execution_count": 87,
     "metadata": {},
     "output_type": "execute_result"
    },
    {
     "data": {
      "image/png": "[encoded data removed]",
      "text/plain": [
       "<Figure size 432x288 with 1 Axes>"
      ]
     },
     "metadata": {
      "needs_background": "light"
     },
     "output_type": "display_data"
    }
   ],
   "source": [
    "sns.scatterplot(df.A.values, df.A.values * a + b)"
   ]
  },
  {
   "cell_type": "code",
   "execution_count": 89,
   "metadata": {},
   "outputs": [
    {
     "data": {
      "text/plain": [
       "<matplotlib.axes._subplots.AxesSubplot at 0x1a1cb914a8>"
      ]
     },
     "execution_count": 89,
     "metadata": {},
     "output_type": "execute_result"
    },
    {
     "data": {
      "image/png": "[encoded data removed]",
      "text/plain": [
       "<Figure size 432x288 with 1 Axes>"
      ]
     },
     "metadata": {
      "needs_background": "light"
     },
     "output_type": "display_data"
    }
   ],
   "source": [
    "sns.scatterplot(x=range(0, len(df.A.values)), y=sorted(df.A.values))"
   ]
  },
  {
   "cell_type": "code",
   "execution_count": 109,
   "metadata": {},
   "outputs": [
    {
     "data": {
      "text/plain": [
       "<matplotlib.axes._subplots.AxesSubplot at 0x1a1e089160>"
      ]
     },
     "execution_count": 109,
     "metadata": {},
     "output_type": "execute_result"
    },
    {
     "data": {
      "image/png": "[encoded data removed]",
      "text/plain": [
       "<Figure size 432x288 with 1 Axes>"
      ]
     },
     "metadata": {
      "needs_background": "light"
     },
     "output_type": "display_data"
    }
   ],
   "source": [
    "sns.distplot(df.A.values)"
   ]
  },
  {
   "cell_type": "code",
   "execution_count": 91,
   "metadata": {},
   "outputs": [
    {
     "data": {
      "text/plain": [
       "<matplotlib.axes._subplots.AxesSubplot at 0x1a1caec470>"
      ]
     },
     "execution_count": 91,
     "metadata": {},
     "output_type": "execute_result"
    },
    {
     "data": {
      "image/png": "[encoded data removed]",
      "text/plain": [
       "<Figure size 432x288 with 1 Axes>"
      ]
     },
     "metadata": {
      "needs_background": "light"
     },
     "output_type": "display_data"
    }
   ],
   "source": [
    "sns.distplot(df.B.values)"
   ]
  },
  {
   "cell_type": "code",
   "execution_count": null,
   "metadata": {},
   "outputs": [],
   "source": []
  },
  {
   "cell_type": "code",
   "execution_count": 92,
   "metadata": {},
   "outputs": [
    {
     "data": {
      "text/plain": [
       "<matplotlib.axes._subplots.AxesSubplot at 0x1a1d3dd7b8>"
      ]
     },
     "execution_count": 92,
     "metadata": {},
     "output_type": "execute_result"
    },
    {
     "data": {
      "image/png": "[encoded data removed]",
      "text/plain": [
       "<Figure size 432x288 with 1 Axes>"
      ]
     },
     "metadata": {
      "needs_background": "light"
     },
     "output_type": "display_data"
    }
   ],
   "source": [
    "sns.distplot(df.C.values)"
   ]
  },
  {
   "cell_type": "code",
   "execution_count": 93,
   "metadata": {},
   "outputs": [
    {
     "data": {
      "text/plain": [
       "<matplotlib.axes._subplots.AxesSubplot at 0x1a1d1b9b38>"
      ]
     },
     "execution_count": 93,
     "metadata": {},
     "output_type": "execute_result"
    },
    {
     "data": {
      "image/png": "[encoded data removed]",
      "text/plain": [
       "<Figure size 432x288 with 1 Axes>"
      ]
     },
     "metadata": {
      "needs_background": "light"
     },
     "output_type": "display_data"
    }
   ],
   "source": [
    "sns.distplot(df.D.values)"
   ]
  },
  {
   "cell_type": "code",
   "execution_count": 95,
   "metadata": {},
   "outputs": [
    {
     "data": {
      "text/plain": [
       "<matplotlib.axes._subplots.AxesSubplot at 0x1a1c919358>"
      ]
     },
     "execution_count": 95,
     "metadata": {},
     "output_type": "execute_result"
    },
    {
     "data": {
      "image/png": "[encoded data removed]",
      "text/plain": [
       "<Figure size 432x288 with 1 Axes>"
      ]
     },
     "metadata": {
      "needs_background": "light"
     },
     "output_type": "display_data"
    }
   ],
   "source": [
    "sns.distplot(df.E.values)"
   ]
  },
  {
   "cell_type": "code",
   "execution_count": 106,
   "metadata": {},
   "outputs": [
    {
     "data": {
      "text/plain": [
       "Counter({-1: 55, 1: 70})"
      ]
     },
     "execution_count": 106,
     "metadata": {},
     "output_type": "execute_result"
    }
   ],
   "source": [
    "from collections import Counter\n",
    "cnt = Counter(df.E.values)\n",
    "cnt"
   ]
  },
  {
   "cell_type": "code",
   "execution_count": 96,
   "metadata": {},
   "outputs": [
    {
     "data": {
      "text/plain": [
       "<matplotlib.axes._subplots.AxesSubplot at 0x1a1c4ed240>"
      ]
     },
     "execution_count": 96,
     "metadata": {},
     "output_type": "execute_result"
    },
    {
     "data": {
      "image/png": "[encoded data removed]",
      "text/plain": [
       "<Figure size 432x288 with 1 Axes>"
      ]
     },
     "metadata": {
      "needs_background": "light"
     },
     "output_type": "display_data"
    }
   ],
   "source": [
    "sns.distplot(df.F.values)"
   ]
  },
  {
   "cell_type": "code",
   "execution_count": 97,
   "metadata": {},
   "outputs": [
    {
     "data": {
      "text/plain": [
       "<matplotlib.axes._subplots.AxesSubplot at 0x1a1dcb6438>"
      ]
     },
     "execution_count": 97,
     "metadata": {},
     "output_type": "execute_result"
    },
    {
     "data": {
      "image/png": "[encoded data removed]",
      "text/plain": [
       "<Figure size 432x288 with 1 Axes>"
      ]
     },
     "metadata": {
      "needs_background": "light"
     },
     "output_type": "display_data"
    }
   ],
   "source": [
    "sns.distplot(df.G.values)"
   ]
  },
  {
   "cell_type": "code",
   "execution_count": 98,
   "metadata": {},
   "outputs": [
    {
     "data": {
      "text/plain": [
       "<matplotlib.axes._subplots.AxesSubplot at 0x1a1dd607f0>"
      ]
     },
     "execution_count": 98,
     "metadata": {},
     "output_type": "execute_result"
    },
    {
     "data": {
      "image/png": "[encoded data removed]",
      "text/plain": [
       "<Figure size 432x288 with 1 Axes>"
      ]
     },
     "metadata": {
      "needs_background": "light"
     },
     "output_type": "display_data"
    }
   ],
   "source": [
    "sns.distplot(df.H.values)"
   ]
  },
  {
   "cell_type": "code",
   "execution_count": 99,
   "metadata": {},
   "outputs": [
    {
     "data": {
      "text/plain": [
       "<matplotlib.axes._subplots.AxesSubplot at 0x1a1dcedda0>"
      ]
     },
     "execution_count": 99,
     "metadata": {},
     "output_type": "execute_result"
    },
    {
     "data": {
      "image/png": "[encoded data removed]",
      "text/plain": [
       "<Figure size 432x288 with 1 Axes>"
      ]
     },
     "metadata": {
      "needs_background": "light"
     },
     "output_type": "display_data"
    }
   ],
   "source": [
    "sns.distplot(df.I.values)"
   ]
  },
  {
   "cell_type": "code",
   "execution_count": 100,
   "metadata": {},
   "outputs": [
    {
     "data": {
      "text/plain": [
       "<matplotlib.axes._subplots.AxesSubplot at 0x1a1deb7ac8>"
      ]
     },
     "execution_count": 100,
     "metadata": {},
     "output_type": "execute_result"
    },
    {
     "data": {
      "image/png": "[encoded data removed]",
      "text/plain": [
       "<Figure size 432x288 with 1 Axes>"
      ]
     },
     "metadata": {
      "needs_background": "light"
     },
     "output_type": "display_data"
    }
   ],
   "source": [
    "sns.distplot(df.J.values)"
   ]
  },
  {
   "cell_type": "code",
   "execution_count": 101,
   "metadata": {},
   "outputs": [
    {
     "data": {
      "text/plain": [
       "<matplotlib.axes._subplots.AxesSubplot at 0x1a1df8c7f0>"
      ]
     },
     "execution_count": 101,
     "metadata": {},
     "output_type": "execute_result"
    },
    {
     "data": {
      "image/png": "[encoded data removed]",
      "text/plain": [
       "<Figure size 432x288 with 1 Axes>"
      ]
     },
     "metadata": {
      "needs_background": "light"
     },
     "output_type": "display_data"
    }
   ],
   "source": [
    "sns.distplot(df.K.values)"
   ]
  },
  {
   "cell_type": "markdown",
   "metadata": {},
   "source": [
    "#### Extra"
   ]
  },
  {
   "cell_type": "code",
   "execution_count": 772,
   "metadata": {},
   "outputs": [],
   "source": [
    "def check_hypotesis_kolmogorov_smirnov(X, Y):\n",
    "    diffs = []\n",
    "    nx = X.shape[0]\n",
    "    ny = Y.shape[0]\n",
    "    for value in X:\n",
    "        x_f_value = X[np.where(X < value)].shape[0]/nx\n",
    "        y_f_value = Y[np.where(Y < value)].shape[0]/ny\n",
    "        diffs.append(np.abs(x_f_value - y_f_value))\n",
    "    for value in Y:\n",
    "        x_f_value = X[np.where(X < value)].shape[0]/nx\n",
    "        y_f_value = Y[np.where(Y < value)].shape[0]/ny\n",
    "        diffs.append(np.abs(x_f_value - y_f_value))\n",
    "    t = np.sqrt(nx*ny)/(nx+ny) * np.max(diffs)\n",
    "    ks_criteria = 1.36 * np.sqrt((nx+ny)/(nx*ny))\n",
    "    print(f\"t: {t}, kolmogorov-smirnov criteria: {ks_criteria}\")\n",
    "    if t > ks_criteria:\n",
    "        print(\"H0 is rejected!\")\n",
    "    else:\n",
    "        print(\"H0 can't be rejected!\")"
   ]
  }
 ],
 "metadata": {
  "kernelspec": {
   "display_name": "Python 3",
   "language": "python",
   "name": "python3"
  },
  "language_info": {
   "codemirror_mode": {
    "name": "ipython",
    "version": 3
   },
   "file_extension": ".py",
   "mimetype": "text/x-python",
   "name": "python",
   "nbconvert_exporter": "python",
   "pygments_lexer": "ipython3",
   "version": "3.7.1"
  }
 },
 "nbformat": 4,
 "nbformat_minor": 2
}
