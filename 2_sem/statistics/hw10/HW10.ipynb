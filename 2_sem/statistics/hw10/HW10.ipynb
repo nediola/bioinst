{
 "cells": [
  {
   "cell_type": "code",
   "execution_count": 42,
   "metadata": {},
   "outputs": [
    {
     "data": {
      "text/html": [
       "        <script type=\"text/javascript\">\n",
       "        window.PlotlyConfig = {MathJaxConfig: 'local'};\n",
       "        if (window.MathJax) {MathJax.Hub.Config({SVG: {font: \"STIX-Web\"}});}\n",
       "        if (typeof require !== 'undefined') {\n",
       "        require.undef(\"plotly\");\n",
       "        requirejs.config({\n",
       "            paths: {\n",
       "                'plotly': ['https://cdn.plot.ly/plotly-latest.min']\n",
       "            }\n",
       "        });\n",
       "        require(['plotly'], function(Plotly) {\n",
       "            window._Plotly = Plotly;\n",
       "        });\n",
       "        }\n",
       "        </script>\n",
       "        "
      ]
     },
     "metadata": {},
     "output_type": "display_data"
    }
   ],
   "source": [
    "import numpy as np\n",
    "import pandas as pd\n",
    "from scipy import stats\n",
    "from plotly.offline import init_notebook_mode, iplot\n",
    "import plotly.graph_objs as go\n",
    "init_notebook_mode(connected=True)"
   ]
  },
  {
   "cell_type": "code",
   "execution_count": null,
   "metadata": {},
   "outputs": [],
   "source": []
  },
  {
   "cell_type": "markdown",
   "metadata": {},
   "source": [
    "### Задание 3\n",
    "\n",
    "Смоделируйте 100 выборок по 30 наблюдений в каждой из нормального распределения\n",
    "N(0; 1)."
   ]
  },
  {
   "cell_type": "code",
   "execution_count": 34,
   "metadata": {},
   "outputs": [],
   "source": [
    "n = 30\n",
    "samples = []\n",
    "for i in range(100):\n",
    "    samples.append(np.random.normal(0, 1, n))"
   ]
  },
  {
   "cell_type": "markdown",
   "metadata": {},
   "source": [
    "а) Считая дисперсию неизвестной, проверьте для каждой выборки гипотезу о равенстве нулю среднего с уровнем значимости 0.05. Сколько гипотез было отвергнуто?\n",
    "\n",
    "Воспользуемся одновыборочным t-критерием Стьюдента.\n",
    "\n",
    "Ответ: для 9 из 100 выборок H0 отклонилась."
   ]
  },
  {
   "cell_type": "code",
   "execution_count": 35,
   "metadata": {},
   "outputs": [
    {
     "name": "stdout",
     "output_type": "stream",
     "text": [
      "Confidence interval: (-2.045229642132703, 2.045229642132703), alpha=0.05\n",
      "H0 rejected with T=2.2265394601370763\n",
      "H0 rejected with T=2.19037872801441\n",
      "H0 rejected with T=2.317520892371165\n",
      "H0 rejected with T=2.2575313762108844\n",
      "H0 rejected with T=4.000261473658974\n",
      "H0 rejected with T=-2.0926245134332353\n",
      "H0 rejected with T=2.1557134058866545\n",
      "H0 rejected with T=2.28083412996442\n",
      "H0 rejected with T=-2.068485810932098\n",
      "----\n",
      "Rejected: 9, not rejected: 91\n"
     ]
    }
   ],
   "source": [
    "ntrue = 0\n",
    "nfalse = 0\n",
    "alpha = 0.05\n",
    "interval = stats.t.interval(1-alpha, df=n-1)\n",
    "print(f\"Confidence interval: {interval}, alpha={alpha}\")\n",
    "for sample in samples:\n",
    "    T = np.sqrt(n) * np.mean(sample) / np.std(sample)\n",
    "    if T < interval[0] or T > interval[1]:\n",
    "        print(f\"H0 rejected with T={T}\")\n",
    "        nfalse += 1\n",
    "    else:\n",
    "        ntrue += 1\n",
    "        \n",
    "print(\"----\")\n",
    "print(f\"Rejected: {nfalse}, not rejected: {ntrue}\")"
   ]
  },
  {
   "cell_type": "markdown",
   "metadata": {},
   "source": [
    "б) Сколько гипотез будет отвергнуто, если вы сделаете поправку на множественные сравнения (по Бонферрони и по Зидаку)?"
   ]
  },
  {
   "cell_type": "markdown",
   "metadata": {},
   "source": [
    "Бонферрони (отклонилась 1 гипотеза)"
   ]
  },
  {
   "cell_type": "code",
   "execution_count": 36,
   "metadata": {},
   "outputs": [
    {
     "name": "stdout",
     "output_type": "stream",
     "text": [
      "Confidence interval: (-3.9177141183790445, 3.9177141183790445), alpha=0.0005\n",
      "H0 rejected with T=4.000261473658974\n",
      "----\n",
      "Rejected: 1, not rejected: 99\n"
     ]
    }
   ],
   "source": [
    "alpha_b = alpha / 100\n",
    "ntrue = 0\n",
    "nfalse = 0\n",
    "interval = stats.t.interval(1-alpha_b, df=n-1)\n",
    "print(f\"Confidence interval: {interval}, alpha={alpha_b}\")\n",
    "for sample in samples:\n",
    "    T = np.sqrt(n) * np.mean(sample) / np.std(sample)\n",
    "    if T < interval[0] or T > interval[1]:\n",
    "        print(f\"H0 rejected with T={T}\")\n",
    "        nfalse += 1\n",
    "    else:\n",
    "        ntrue += 1\n",
    "        \n",
    "print(\"----\")\n",
    "print(f\"Rejected: {nfalse}, not rejected: {ntrue}\")"
   ]
  },
  {
   "cell_type": "markdown",
   "metadata": {},
   "source": [
    "Зидак (отклонилась 1 гипотеза)"
   ]
  },
  {
   "cell_type": "code",
   "execution_count": 37,
   "metadata": {},
   "outputs": [
    {
     "name": "stdout",
     "output_type": "stream",
     "text": [
      "Confidence interval: (-3.9083626146214816, 3.9083626146214816), alpha=0.0005128014162623096\n",
      "H0 rejected with T=4.000261473658974\n",
      "----\n",
      "Rejected: 1, not rejected: 99\n"
     ]
    }
   ],
   "source": [
    "alpha_z = 1 - (1 - alpha)**(1/100)\n",
    "ntrue = 0\n",
    "nfalse = 0\n",
    "interval = stats.t.interval(1-alpha_z, df=n-1)\n",
    "print(f\"Confidence interval: {interval}, alpha={alpha_z}\")\n",
    "for sample in samples:\n",
    "    T = np.sqrt(n) * np.mean(sample) / np.std(sample)\n",
    "    if T < interval[0] or T > interval[1]:\n",
    "        print(f\"H0 rejected with T={T}\")\n",
    "        nfalse += 1\n",
    "    else:\n",
    "        ntrue += 1\n",
    "        \n",
    "print(\"----\")\n",
    "print(f\"Rejected: {nfalse}, not rejected: {ntrue}\")"
   ]
  },
  {
   "cell_type": "markdown",
   "metadata": {},
   "source": [
    "в) Проверьте для всех пар выборок гипотезы о равенстве средних (используйте t-тест с уровнем значимости 0.05). Если бы вы сделаете поправку по Бонферрони, то сколько гипотез отвергнется?\n",
    "\n",
    "Ответ: таким образом, без поправки отвергается 350/4950 (7%) гипотез, с ней - ни одной."
   ]
  },
  {
   "cell_type": "code",
   "execution_count": 38,
   "metadata": {},
   "outputs": [
    {
     "name": "stdout",
     "output_type": "stream",
     "text": [
      "[Simple] rejected: 350/4950\n",
      "[Bonferroni] rejected: 0/4950\n"
     ]
    }
   ],
   "source": [
    "total_comparisons = int(100*99/2)\n",
    "alpha = 0.05\n",
    "alpha_b = alpha/total_comparisons\n",
    "rejected_simple = 0\n",
    "rejected_bonferroni = 0\n",
    "for i in range (0, 100):\n",
    "    for j in range(i+1, 100):\n",
    "        sample1 = samples[i]\n",
    "        sample2 = samples[j]\n",
    "        statistics, pvalue = stats.ttest_ind(sample1, sample2)\n",
    "        if pvalue < alpha:\n",
    "            rejected_simple += 1\n",
    "        if pvalue < alpha_b:\n",
    "            rejected_bonferroni += 1\n",
    "print(f\"[Simple] rejected: {rejected_simple}/{total_comparisons}\")\n",
    "print(f\"[Bonferroni] rejected: {rejected_bonferroni}/{total_comparisons}\")"
   ]
  },
  {
   "cell_type": "markdown",
   "metadata": {},
   "source": [
    "г) Воспользуйтесь тестом Тьюки, чтобы проверить эти гипотезы. Сколько теперь гипотез будет отвергнуто?"
   ]
  },
  {
   "cell_type": "code",
   "execution_count": 39,
   "metadata": {},
   "outputs": [
    {
     "name": "stdout",
     "output_type": "stream",
     "text": [
      "[Tukey] rejected: 0/4950\n"
     ]
    }
   ],
   "source": [
    "mean_v = sorted([np.mean(sample) for sample in samples], reverse=True)\n",
    "s = np.std(np.concatenate(samples))\n",
    "critical_value = 4.47 # from\n",
    "rejected_tukey = 0\n",
    "for i in range(0, 100):\n",
    "    for j in range(i+1, 100):\n",
    "        T = (mean_v[i] - mean_v[j]) / (s * np.sqrt(2/n))\n",
    "        if T > critical_value:\n",
    "            rejected_tukey += 1\n",
    "print(f\"[Tukey] rejected: {rejected_tukey}/{total_comparisons}\")"
   ]
  },
  {
   "cell_type": "markdown",
   "metadata": {},
   "source": [
    "### Задание 4\n",
    "\n",
    "Смоделируйте выборку объема 400 из распределения Exp(7) (обозначим эту выборку через X = {x1, . . . , x400}.\n",
    "Для i = 1, . . ., 398 гипотеза H(i)0 состоит в том, что подвыборка {xi, xi+1, . . . , x400} имеет распределение Exp(6). Воспользуйтесь алгоритмом Хольма, чтобы проверить эти гипотезы. Сколько гипотез было бы отвергнуто, если бы\n",
    "вы проверяли все гипотезы независимо с поправкой по Бонферрони?"
   ]
  },
  {
   "cell_type": "code",
   "execution_count": 115,
   "metadata": {},
   "outputs": [],
   "source": [
    "def check_bonferroni(sample, m, alpha=0.05):\n",
    "    p_value = stats.kstest(rvs=sample, cdf='expon', args=(0, 1/6))[1]\n",
    "    return False if (p_value < alpha/m) else True\n",
    " \n",
    "def holm(samples, alpha=0.05):\n",
    "    m = len(samples)\n",
    "    p_values = []\n",
    "    for sample in samples:\n",
    "        p_values.append(stats.kstest(rvs=sample, cdf='expon', args=(0, 1/6))[1])\n",
    "    ids = np.arange(len(samples))\n",
    "    tuples = sorted([(p_value, sid) for (p_value, sid) in zip(p_values, ids)])\n",
    "    rejected_ids = []\n",
    "    for i, (p_value, sid) in enumerate(tuples):\n",
    "        if p_value < alpha/(m - i):\n",
    "            rejected_ids.append(sid)\n",
    "        else:\n",
    "            break\n",
    "    return rejected_ids"
   ]
  },
  {
   "cell_type": "code",
   "execution_count": 130,
   "metadata": {},
   "outputs": [],
   "source": [
    "sample = np.random.exponential(scale=1/7, size=400)"
   ]
  },
  {
   "cell_type": "code",
   "execution_count": 131,
   "metadata": {},
   "outputs": [],
   "source": [
    "subsamples = [sample[i:] for i in range(0, 398)]\n",
    "\n",
    "rejected_holm_ids = holm(subsamples)\n",
    "rejected_bonferroni_ids = []\n",
    "for sid, subsample in enumerate(subsamples):\n",
    "    if not check_bonferroni(subsample, 398):\n",
    "        rejected_bonferroni_ids.append(sid)"
   ]
  },
  {
   "cell_type": "code",
   "execution_count": 103,
   "metadata": {},
   "outputs": [
    {
     "name": "stdout",
     "output_type": "stream",
     "text": [
      "Holm rejected: 96\n",
      "Bonferroni rejected: 85\n"
     ]
    }
   ],
   "source": [
    "print(f\"Holm rejected: {len(rejected_holm_ids)}\")\n",
    "print(f\"Bonferroni rejected: {len(rejected_bonferroni_ids)}\")"
   ]
  },
  {
   "cell_type": "markdown",
   "metadata": {},
   "source": [
    "Таким образом, с помощью алгоритма Хольма отклонилось больше неверных гипотез, чем с помощью Бонферрони."
   ]
  },
  {
   "cell_type": "code",
   "execution_count": null,
   "metadata": {},
   "outputs": [],
   "source": []
  },
  {
   "cell_type": "code",
   "execution_count": null,
   "metadata": {},
   "outputs": [],
   "source": []
  },
  {
   "cell_type": "code",
   "execution_count": null,
   "metadata": {},
   "outputs": [],
   "source": []
  },
  {
   "cell_type": "code",
   "execution_count": 2,
   "metadata": {},
   "outputs": [
    {
     "data": {
      "text/html": [
       "<div>\n",
       "<style scoped>\n",
       "    .dataframe tbody tr th:only-of-type {\n",
       "        vertical-align: middle;\n",
       "    }\n",
       "\n",
       "    .dataframe tbody tr th {\n",
       "        vertical-align: top;\n",
       "    }\n",
       "\n",
       "    .dataframe thead th {\n",
       "        text-align: right;\n",
       "    }\n",
       "</style>\n",
       "<table border=\"1\" class=\"dataframe\">\n",
       "  <thead>\n",
       "    <tr style=\"text-align: right;\">\n",
       "      <th></th>\n",
       "      <th>Ex1</th>\n",
       "      <th>Ex1_group</th>\n",
       "      <th>Ex2</th>\n",
       "      <th>Ex2_group</th>\n",
       "      <th>Ex5</th>\n",
       "      <th>Ex5_group</th>\n",
       "    </tr>\n",
       "  </thead>\n",
       "  <tbody>\n",
       "    <tr>\n",
       "      <th>0</th>\n",
       "      <td>1.782074</td>\n",
       "      <td>1</td>\n",
       "      <td>1.626210</td>\n",
       "      <td>1</td>\n",
       "      <td>-4.020372</td>\n",
       "      <td>1</td>\n",
       "    </tr>\n",
       "    <tr>\n",
       "      <th>1</th>\n",
       "      <td>13.437385</td>\n",
       "      <td>1</td>\n",
       "      <td>-0.330518</td>\n",
       "      <td>1</td>\n",
       "      <td>1.929893</td>\n",
       "      <td>1</td>\n",
       "    </tr>\n",
       "    <tr>\n",
       "      <th>2</th>\n",
       "      <td>6.821891</td>\n",
       "      <td>1</td>\n",
       "      <td>-8.453625</td>\n",
       "      <td>1</td>\n",
       "      <td>1.765300</td>\n",
       "      <td>1</td>\n",
       "    </tr>\n",
       "  </tbody>\n",
       "</table>\n",
       "</div>"
      ],
      "text/plain": [
       "         Ex1  Ex1_group       Ex2  Ex2_group       Ex5  Ex5_group\n",
       "0   1.782074          1  1.626210          1 -4.020372          1\n",
       "1  13.437385          1 -0.330518          1  1.929893          1\n",
       "2   6.821891          1 -8.453625          1  1.765300          1"
      ]
     },
     "execution_count": 2,
     "metadata": {},
     "output_type": "execute_result"
    }
   ],
   "source": [
    "df = pd.read_csv('./IB_statistics_data_HW9.txt', sep=' ')\n",
    "df.head(3)"
   ]
  },
  {
   "cell_type": "code",
   "execution_count": null,
   "metadata": {},
   "outputs": [],
   "source": []
  },
  {
   "cell_type": "code",
   "execution_count": null,
   "metadata": {},
   "outputs": [],
   "source": []
  },
  {
   "cell_type": "code",
   "execution_count": null,
   "metadata": {},
   "outputs": [],
   "source": []
  },
  {
   "cell_type": "code",
   "execution_count": null,
   "metadata": {},
   "outputs": [],
   "source": []
  },
  {
   "cell_type": "code",
   "execution_count": null,
   "metadata": {},
   "outputs": [],
   "source": []
  },
  {
   "cell_type": "code",
   "execution_count": null,
   "metadata": {},
   "outputs": [],
   "source": []
  },
  {
   "cell_type": "code",
   "execution_count": null,
   "metadata": {},
   "outputs": [],
   "source": []
  },
  {
   "cell_type": "code",
   "execution_count": null,
   "metadata": {},
   "outputs": [],
   "source": []
  },
  {
   "cell_type": "code",
   "execution_count": null,
   "metadata": {},
   "outputs": [],
   "source": []
  },
  {
   "cell_type": "code",
   "execution_count": null,
   "metadata": {},
   "outputs": [],
   "source": []
  },
  {
   "cell_type": "code",
   "execution_count": null,
   "metadata": {},
   "outputs": [],
   "source": []
  },
  {
   "cell_type": "markdown",
   "metadata": {},
   "source": [
    "### Задание 1\n",
    "(1 балл) Вам даны две выборки из нормального распределения. Проверьте гипотезу\n",
    "о том, что у них одинаковое среднее, сначала предполагая выборки независимыми, а\n",
    "затем предполагая их зависимыми. Найдите p-значение в обоих случаях."
   ]
  },
  {
   "cell_type": "code",
   "execution_count": 9,
   "metadata": {},
   "outputs": [],
   "source": [
    "sample1 = df[df.Ex1_group == 1].Ex1.values\n",
    "sample2 = df[df.Ex1_group == 2].Ex1.values"
   ]
  },
  {
   "cell_type": "markdown",
   "metadata": {},
   "source": [
    "Независимые выборки (гипотеза подтвердилась)"
   ]
  },
  {
   "cell_type": "code",
   "execution_count": 18,
   "metadata": {},
   "outputs": [
    {
     "name": "stdout",
     "output_type": "stream",
     "text": [
      "Critical interval: (-1.9717573833265514, 1.9717573833265514)\n",
      "Statistics: -0.3320616456529388\n",
      "P-value: 0.3700932152648305\n",
      "H0 is not rejected!\n"
     ]
    }
   ],
   "source": [
    "n1 = sample1.shape[0]\n",
    "n2 = sample1.shape[0]\n",
    "mean1 = np.mean(sample1)\n",
    "mean2 = np.mean(sample2)\n",
    "std1sq = np.std(sample1)**2\n",
    "std2sq = np.std(sample2)**2\n",
    "\n",
    "t = (mean1-mean2)/np.sqrt(std1sq/n1 + std2sq/n2)\n",
    "frdeg = (std1sq/n1 + std2sq/n2)**2 / ((std1sq/n1)**2/(n1-1) + (std2sq/n2)**2/(n2-1))\n",
    "critical_interval = stats.t.interval(0.95, df=frdeg)\n",
    "print(f\"Critical interval: {critical_interval}\")\n",
    "print(f\"Statistics: {t}\")\n",
    "print(f\"P-value: {stats.t.cdf(t, df=frdeg)}\")\n",
    "if t < critical_interval[0] or t > critical_interval[1]:\n",
    "    print(f\"H0 is rejected!\")\n",
    "else:\n",
    "    print(f\"H0 is not rejected!\")"
   ]
  },
  {
   "cell_type": "markdown",
   "metadata": {},
   "source": [
    "Зависимые выборки (гипотеза подтвердилась)"
   ]
  },
  {
   "cell_type": "code",
   "execution_count": 20,
   "metadata": {},
   "outputs": [
    {
     "name": "stdout",
     "output_type": "stream",
     "text": [
      "Critical interval: (-1.98326414470971, 1.98326414470971)\n",
      "Statistics: -0.3431859159084037\n",
      "P-value: 0.3660790336065417\n",
      "H0 is not rejected!\n"
     ]
    }
   ],
   "source": [
    "n = sample1.shape[0]\n",
    "y_diff = sample1 - sample2\n",
    "dmean = np.mean(y_diff)\n",
    "dstd = np.std(y_diff)\n",
    "t = np.sqrt(n) * dmean / dstd\n",
    "frdeg = n-1\n",
    "critical_interval = stats.t.interval(0.95, df=frdeg)\n",
    "print(f\"Critical interval: {critical_interval}\")\n",
    "print(f\"Statistics: {t}\")\n",
    "print(f\"P-value: {stats.t.cdf(t, df=frdeg)}\")\n",
    "if t < critical_interval[0] or t > critical_interval[1]:\n",
    "    print(f\"H0 is rejected!\")\n",
    "else:\n",
    "    print(f\"H0 is not rejected!\")"
   ]
  },
  {
   "cell_type": "markdown",
   "metadata": {},
   "source": [
    "### Задание 2\n",
    "(1 балл) Вам дана выборка из нормального распределения, разбитая на 4 подгруппы.\n",
    "Воспользуйтесь критерием Фишера, чтобы проверить гипотезу о равенстве средних в\n",
    "подгруппах.\n",
    "\n",
    "Ответ: гипотеза подтвердилась"
   ]
  },
  {
   "cell_type": "code",
   "execution_count": 28,
   "metadata": {},
   "outputs": [
    {
     "name": "stdout",
     "output_type": "stream",
     "text": [
      "Critical value: 2.6488634148319594\n",
      "Statistics: 0.008380648857972923\n",
      "P-value: 0.9989439430898426\n",
      "H0 is not rejected!\n"
     ]
    }
   ],
   "source": [
    "sample1 = df[df.Ex2_group == 1].Ex2.values\n",
    "sample2 = df[df.Ex2_group == 2].Ex2.values\n",
    "sample3 = df[df.Ex2_group == 3].Ex2.values\n",
    "sample4 = df[df.Ex2_group == 4].Ex2.values\n",
    "\n",
    "r = 4\n",
    "n = df.Ex2.values.shape[0]\n",
    "\n",
    "y_mean = np.mean(df.Ex2.values)\n",
    "y1_mean = np.mean(sample1)\n",
    "y2_mean = np.mean(sample2)\n",
    "y3_mean = np.mean(sample3)\n",
    "y4_mean = np.mean(sample4)\n",
    "\n",
    "Q1 = (y1_mean-y_mean)**2 + (y2_mean-y_mean)**2 + (y3_mean-y_mean)**2 + (y4_mean-y_mean)**2\n",
    "Q2 = np.sum((sample1 - y1_mean)**2) + np.sum((sample2 - y2_mean)**2) + \\\n",
    "     np.sum((sample3 - y3_mean)**2) + np.sum((sample4 - y4_mean)**2)\n",
    "\n",
    "F = (n-r)*Q1/((r-1)*Q2)\n",
    "critical_value = stats.f.ppf(0.95, r-1, n-r)\n",
    "print(f\"Critical value: {critical_value}\")\n",
    "print(f\"Statistics: {F}\")\n",
    "print(f\"P-value: {1 - stats.f.cdf(F, r-1, n-r)}\")\n",
    "if t > critical_value:\n",
    "    print(f\"H0 is rejected!\")\n",
    "else:\n",
    "    print(f\"H0 is not rejected!\")"
   ]
  },
  {
   "cell_type": "markdown",
   "metadata": {},
   "source": [
    "### Задание 3"
   ]
  },
  {
   "cell_type": "code",
   "execution_count": 134,
   "metadata": {},
   "outputs": [],
   "source": [
    "n = df.shape[0]\n",
    "n1 = df[df.Ex2_group == 1].shape[0]\n",
    "n2 = df[df.Ex2_group == 2].shape[0]\n",
    "n3 = df[df.Ex2_group == 3].shape[0]\n",
    "n4 = df[df.Ex2_group == 4].shape[0]\n",
    "\n",
    "X = np.zeros([n, 5])\n",
    "X[:, 0] = 1\n",
    "X[0:n1, 1] = 1\n",
    "X[n1:n1+n2, 2] = 1\n",
    "X[n1+n2:n1+n2+n3, 3] = 1\n",
    "X[n1+n2+n3:, 4] = 1\n",
    "\n",
    "y = df.Ex2.values"
   ]
  },
  {
   "cell_type": "code",
   "execution_count": 173,
   "metadata": {},
   "outputs": [
    {
     "name": "stdout",
     "output_type": "stream",
     "text": [
      "Estimation of beta: [ 0.27478646 -0.01448844  0.10734959 -0.52317517  0.43031402]\n",
      "Estimation of sigma-squared: 19.32801846943315\n",
      "Statistics: 0.967380995281384, critical value: 0.7107230213973245\n",
      "H0 is rejected!\n"
     ]
    }
   ],
   "source": [
    "XTX = X.T.dot(X)\n",
    "XTY = X.T.dot(y)\n",
    "A = np.zeros((XTX.shape[0] + 1, XTX.shape[1]))\n",
    "A[:XTX.shape[0], :] = XTX\n",
    "A[-1, 1:] = 1\n",
    "z = np.zeros(XTY.shape[0] + 1)\n",
    "z[:-1] = XTY\n",
    "beta = np.linalg.lstsq(A, z, rcond=None)[0]\n",
    "y_pred = np.dot(X, beta)\n",
    "errors = y - y_pred\n",
    "sigma_squared = np.dot(errors.T, errors)/(X.shape[0] - X.shape[1])\n",
    "covM_inv = np.linalg.inv(sigma_squared*XTX_inv[1:, 1:])\n",
    "statistics = beta[1:].dot(covM_inv).dot(beta[1:])\n",
    "critical_value = stats.chi2.ppf(0.05, df=4)\n",
    "print(f\"Estimation of beta: {beta}\")\n",
    "print(f\"Estimation of sigma-squared: {sigma_squared}\")\n",
    "print(f\"Statistics: {statistics}, critical value: {critical_value}\")\n",
    "if statistics > critical_value:\n",
    "    print(\"H0 is rejected!\")\n",
    "else:\n",
    "    print(\"H0 is not rejected!\")"
   ]
  },
  {
   "cell_type": "markdown",
   "metadata": {},
   "source": [
    "### Задание 4\n",
    "Найти строго (1, 3, 4)-обратную матрицу"
   ]
  },
  {
   "cell_type": "markdown",
   "metadata": {},
   "source": [
    "O1: AA−A = A\n",
    "\n",
    "O2: A−AA− = A−\n",
    "\n",
    "O3: (AA−)∗ = AA−\n",
    "\n",
    "O4:  (A−A)∗ = A−A"
   ]
  },
  {
   "cell_type": "markdown",
   "metadata": {},
   "source": [
    "Решение.\n",
    "\n",
    "Пользуясь определениями свойств O1-O4 получаем систему уравнений (если будет необходимо, вышлю черновик, где это выводится):\n",
    "\n",
    "$$2a_{11} + a_{12} + a_{13} = 1$$\n",
    "$$3a_{12} + 1 + a_{13} = 0$$\n",
    "$$4a_{13} + 1 = 0$$\n",
    "$$a_{21} = a_{11} - 1$$\n",
    "$$a_{22} = a_{12} + 1$$\n",
    "$$a_{23} = a_{13}$$\n",
    "$$a_{23} = a_{13}$$\n",
    "$$a_{31} = a_{11} - 1$$\n",
    "$$a_{32} = a_{12}$$\n",
    "$$a_{32} = a_{12}$$\n",
    "$$a_{33} = 1 + a_{13}$$\n",
    "\n",
    "Решением системы уравнений является матрица, приведенная ниже. Для нее все свойства выполняются, значит построение строго (1,3,4)-обратной матрицы для А с вещественными числами невозможно."
   ]
  },
  {
   "cell_type": "code",
   "execution_count": 75,
   "metadata": {},
   "outputs": [],
   "source": [
    "def is_O1(A, A_):\n",
    "    n = A.flatten().shape[0]\n",
    "    return np.sum(A.dot(A_).dot(A) == A) == n\n",
    "\n",
    "def is_O2(A, A_):\n",
    "    n = A_.flatten().shape[0]\n",
    "    return np.sum(A_.dot(A).dot(A_) == A_) == n\n",
    "\n",
    "def is_O3(A, A_):\n",
    "    m1 = A.dot(A_).T\n",
    "    m2 = A.dot(A_)\n",
    "    n = m1.flatten().shape[0]\n",
    "    return np.sum(m1 == m2) == n\n",
    "\n",
    "def is_O4(A, A_):\n",
    "    m1 = A_.dot(A).T\n",
    "    m2 = A_.dot(A)\n",
    "    n = m1.flatten().shape[0]\n",
    "    return np.sum(m1 == m2) == n"
   ]
  },
  {
   "cell_type": "code",
   "execution_count": 156,
   "metadata": {},
   "outputs": [
    {
     "name": "stdout",
     "output_type": "stream",
     "text": [
      "A\n",
      "[[1 0 0 1]\n",
      " [0 1 0 1]\n",
      " [0 0 1 1]]\n",
      "A-\n",
      "[[ 0.75 -0.25 -0.25]\n",
      " [-0.25  0.75 -0.25]\n",
      " [-0.25 -0.25  0.75]\n",
      " [ 0.25  0.25  0.25]]\n"
     ]
    }
   ],
   "source": [
    "A = np.array([[1, 0, 0, 1],\n",
    "              [0, 1, 0, 1],\n",
    "              [0, 0, 1, 1]])\n",
    "print(\"A\")\n",
    "print(A)\n",
    "\n",
    "A_ = np.array([[3/4, -1/4, -1/4],\n",
    "               [-1/4, 3/4, -1/4],\n",
    "               [-1/4, -1/4, 3/4],\n",
    "               [1/4, 1/4, 1/4]])\n",
    "\n",
    "print(\"A-\")\n",
    "print(A_)"
   ]
  },
  {
   "cell_type": "code",
   "execution_count": 117,
   "metadata": {},
   "outputs": [
    {
     "name": "stdout",
     "output_type": "stream",
     "text": [
      "Property O1: True\n",
      "Property O2: True\n",
      "Property O3: True\n",
      "Property O4: True\n"
     ]
    }
   ],
   "source": [
    "print(f\"Property O1: {is_O1(A, A_)}\")\n",
    "print(f\"Property O2: {is_O2(A, A_)}\")\n",
    "print(f\"Property O3: {is_O3(A, A_)}\")\n",
    "print(f\"Property O4: {is_O3(A, A_)}\")"
   ]
  },
  {
   "cell_type": "markdown",
   "metadata": {},
   "source": [
    "### Задание 5\n",
    "\n",
    "Находясь в модели однофакторного дисперсионного анализа, постройте МНК оценки\n",
    "неизвестных параметров, используя обобщенно обратные матрицы."
   ]
  },
  {
   "cell_type": "code",
   "execution_count": 182,
   "metadata": {},
   "outputs": [],
   "source": [
    "n = df.shape[0]\n",
    "n1 = df[df.Ex5_group == 1].shape[0]\n",
    "n2 = df[df.Ex5_group == 2].shape[0]\n",
    "n3 = df[df.Ex5_group == 3].shape[0]\n",
    "n4 = df[df.Ex5_group == 4].shape[0]\n",
    "\n",
    "X = np.zeros([n, 5])\n",
    "X[:, 0] = 1\n",
    "X[0:n1, 1] = 1\n",
    "X[n1:n1+n2, 2] = 1\n",
    "X[n1+n2:n1+n2+n3, 3] = 1\n",
    "X[n1+n2+n3:, 4] = 1\n",
    "\n",
    "y = df.Ex5.values"
   ]
  },
  {
   "cell_type": "markdown",
   "metadata": {},
   "source": [
    "5.1 Здесь можем использовать просто псевдообратную матрицу, которая дает решение с минимальной нормой."
   ]
  },
  {
   "cell_type": "code",
   "execution_count": 215,
   "metadata": {},
   "outputs": [
    {
     "name": "stdout",
     "output_type": "stream",
     "text": [
      "Estimation of beta: [-0.07482351 -0.22887273  0.02160736  0.05789431  0.07454755]\n",
      "Estimation of sigma-squared: 4.05672822406411\n"
     ]
    }
   ],
   "source": [
    "XTX_inv = np.linalg.pinv(np.dot(X.T, X))\n",
    "beta = np.dot(np.dot(XTX_inv, X.T), y)\n",
    "y_pred = np.dot(X, beta)\n",
    "errors = y - y_pred\n",
    "sigma_squared = np.dot(errors.T, errors)/(X.shape[0] - X.shape[1])\n",
    "print(f\"Estimation of beta: {beta}\")\n",
    "print(f\"Estimation of sigma-squared: {sigma_squared}\")"
   ]
  },
  {
   "cell_type": "markdown",
   "metadata": {},
   "source": [
    "5.2 Берем псевдообратную матрицу из пункта 1, которая дает решение с минимальной нормой и также является матрицей A(1,3).\n",
    "Подбираем на ее основе такую матрицу A(1,3), которая минимизирует дополнительное условие."
   ]
  },
  {
   "cell_type": "code",
   "execution_count": 202,
   "metadata": {},
   "outputs": [],
   "source": [
    "def Z_gen(m, cnt):\n",
    "    for i in range(0, cnt):\n",
    "        yield np.random.randf([m, m])\n",
    "\n",
    "def limitation1(n_v, beta_v):\n",
    "    return np.sum(1/n_v*np.abs(beta_v))"
   ]
  },
  {
   "cell_type": "code",
   "execution_count": 218,
   "metadata": {},
   "outputs": [
    {
     "name": "stdout",
     "output_type": "stream",
     "text": [
      "Best limitation before: 0.007772261859872714\n",
      "Best beta before [-0.07482351 -0.22887273  0.02160736  0.05789431  0.07454755]\n",
      "Best limitation after: 0.006643654061699556\n",
      "Best beta after [-0.03274636 -0.27094988 -0.02046979  0.01581716  0.0324704 ]\n"
     ]
    }
   ],
   "source": [
    "A_plus = XTX_inv\n",
    "A = np.dot(X.T, X)\n",
    "I = np.zeros([5, 5])\n",
    "n_v = np.array([n1, n2, n3, n4])\n",
    "m = 5\n",
    "np.fill_diagonal(I, 1)\n",
    "\n",
    "XTX_inv = np.linalg.pinv(np.dot(X.T, X))\n",
    "beta = np.dot(np.dot(XTX_inv, X.T), y)\n",
    "\n",
    "best_beta = beta\n",
    "best_limitation = limitation1(n_v, beta[1:])\n",
    "print(f\"Best limitation before: {best_limitation}\")   \n",
    "print(f\"Best beta before {best_beta}\")\n",
    "\n",
    "for Z in Z_gen(5, 100000):\n",
    "    new_A_plus = A_plus + (I - A_plus.dot(A)).dot(Z)\n",
    "    new_beta = np.dot(np.dot(new_A_plus, X.T), y)\n",
    "    limit_val = limitation1(n_v, new_beta[1:])\n",
    "    if limit_val < best_limitation:\n",
    "        best_limitation = limit_val\n",
    "        best_beta = new_beta\n",
    "\n",
    "print(f\"Best limitation after: {best_limitation}\")   \n",
    "print(f\"Best beta after {best_beta}\")"
   ]
  },
  {
   "cell_type": "markdown",
   "metadata": {},
   "source": [
    "Таким образом"
   ]
  },
  {
   "cell_type": "code",
   "execution_count": 221,
   "metadata": {},
   "outputs": [
    {
     "name": "stdout",
     "output_type": "stream",
     "text": [
      "Estimation of beta: [-0.03274636 -0.27094988 -0.02046979  0.01581716  0.0324704 ]\n",
      "Estimation of sigma-squared: 4.05672822406411\n"
     ]
    }
   ],
   "source": [
    "y_pred = np.dot(X, best_beta)\n",
    "errors = y - y_pred\n",
    "sigma_squared = np.dot(errors.T, errors)/(X.shape[0] - X.shape[1])\n",
    "print(f\"Estimation of beta: {best_beta}\")\n",
    "print(f\"Estimation of sigma-squared: {sigma_squared}\")"
   ]
  },
  {
   "cell_type": "markdown",
   "metadata": {},
   "source": [
    "5.3 Делаем тоже самое, что и в 5.2, но с другим условием"
   ]
  },
  {
   "cell_type": "code",
   "execution_count": 222,
   "metadata": {},
   "outputs": [],
   "source": [
    "def limitation2(beta):\n",
    "    return np.max(np.abs(beta))"
   ]
  },
  {
   "cell_type": "code",
   "execution_count": 224,
   "metadata": {},
   "outputs": [
    {
     "name": "stdout",
     "output_type": "stream",
     "text": [
      "Best limitation before: 0.2288727316251592\n",
      "Best beta before [-0.07482351 -0.22887273  0.02160736  0.05789431  0.07454755]\n",
      "Best limitation after: 0.20383011193868317\n",
      "Best beta after [-0.09986613 -0.20383011  0.04664998  0.08293693  0.09959017]\n",
      "\n",
      "Estimation of beta: [-0.09986613 -0.20383011  0.04664998  0.08293693  0.09959017]\n",
      "Estimation of sigma-squared: 4.05672822406411\n"
     ]
    }
   ],
   "source": [
    "A_plus = XTX_inv\n",
    "A = np.dot(X.T, X)\n",
    "I = np.zeros([5, 5])\n",
    "n_v = np.array([n1, n2, n3, n4])\n",
    "m = 5\n",
    "np.fill_diagonal(I, 1)\n",
    "\n",
    "XTX_inv = np.linalg.pinv(np.dot(X.T, X))\n",
    "beta = np.dot(np.dot(XTX_inv, X.T), y)\n",
    "\n",
    "best_beta = beta\n",
    "best_limitation = limitation2(beta[1:])\n",
    "print(f\"Best limitation before: {best_limitation}\")   \n",
    "print(f\"Best beta before {best_beta}\")\n",
    "\n",
    "for Z in Z_gen(5, 100000):\n",
    "    new_A_plus = A_plus + (I - A_plus.dot(A)).dot(Z)\n",
    "    new_beta = np.dot(np.dot(new_A_plus, X.T), y)\n",
    "    limit_val = limitation2(new_beta[1:])\n",
    "    if limit_val < best_limitation:\n",
    "        best_limitation = limit_val\n",
    "        best_beta = new_beta\n",
    "\n",
    "print(f\"Best limitation after: {best_limitation}\")   \n",
    "print(f\"Best beta after {best_beta}\")\n",
    "\n",
    "y_pred = np.dot(X, best_beta)\n",
    "errors = y - y_pred\n",
    "sigma_squared = np.dot(errors.T, errors)/(X.shape[0] - X.shape[1])\n",
    "print()\n",
    "print(f\"Estimation of beta: {best_beta}\")\n",
    "print(f\"Estimation of sigma-squared: {sigma_squared}\")"
   ]
  }
 ],
 "metadata": {
  "kernelspec": {
   "display_name": "Python 3",
   "language": "python",
   "name": "python3"
  },
  "language_info": {
   "codemirror_mode": {
    "name": "ipython",
    "version": 3
   },
   "file_extension": ".py",
   "mimetype": "text/x-python",
   "name": "python",
   "nbconvert_exporter": "python",
   "pygments_lexer": "ipython3",
   "version": "3.7.1"
  }
 },
 "nbformat": 4,
 "nbformat_minor": 2
}
